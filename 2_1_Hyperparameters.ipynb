{
  "cells": [
    {
      "cell_type": "markdown",
      "metadata": {
        "id": "view-in-github",
        "colab_type": "text"
      },
      "source": [
        "<a href=\"https://colab.research.google.com/github/Sjoerd-de-Witte/Machine-Learning-2023/blob/main/2_1_Hyperparameters.ipynb\" target=\"_parent\"><img src=\"https://colab.research.google.com/assets/colab-badge.svg\" alt=\"Open In Colab\"/></a>"
      ]
    },
    {
      "cell_type": "code",
      "source": [
        "!gdown -O /tmp/ml.py 174lBNvDBJSVWs3OpNL3a68cnhWIcWYuY\n",
        "%run /tmp/ml.py"
      ],
      "metadata": {
        "id": "M5BEjCcshB3g",
        "outputId": "7eb220bb-bd0d-4033-c164-99bf4521e86a",
        "colab": {
          "base_uri": "https://localhost:8080/"
        }
      },
      "execution_count": 1,
      "outputs": [
        {
          "output_type": "stream",
          "name": "stdout",
          "text": [
            "Downloading...\n",
            "From: https://drive.google.com/uc?id=174lBNvDBJSVWs3OpNL3a68cnhWIcWYuY\n",
            "To: /tmp/ml.py\n",
            "\r  0% 0.00/1.31k [00:00<?, ?B/s]\r100% 1.31k/1.31k [00:00<00:00, 5.42MB/s]\n"
          ]
        }
      ]
    },
    {
      "cell_type": "markdown",
      "metadata": {
        "id": "C7X7kOy9g9LP"
      },
      "source": [
        "# Tuning Hyperparameters"
      ]
    },
    {
      "cell_type": "markdown",
      "metadata": {
        "id": "AMtDFaA3g9LX"
      },
      "source": [
        "We will fit a Decision Tree for the Wine dataset, and tune the hyperparameter max_depth."
      ]
    },
    {
      "cell_type": "code",
      "execution_count": 2,
      "metadata": {
        "id": "RKSYo8Tbg9LY"
      },
      "outputs": [],
      "source": [
        "from pipetorch import DFrame\n",
        "from pipetorch.evaluate.study import Study\n",
        "from sklearn.tree import DecisionTreeClassifier\n",
        "from sklearn.metrics import accuracy_score\n",
        "import matplotlib.pyplot as plt\n",
        "import numpy as np"
      ]
    },
    {
      "cell_type": "code",
      "execution_count": 3,
      "metadata": {
        "id": "Y0MmnN6gg9La",
        "outputId": "9a26f1a9-2340-4a1b-ba3e-ff227a524a4a",
        "colab": {
          "base_uri": "https://localhost:8080/",
          "height": 441
        }
      },
      "outputs": [
        {
          "output_type": "stream",
          "name": "stdout",
          "text": [
            "Downloading dataset uciml/red-wine-quality-cortez-et-al-2009 from kaggle to /root/.pipetorchuser/red-wine-quality-cortez-et-al-2009\n"
          ]
        },
        {
          "output_type": "execute_result",
          "data": {
            "text/plain": [
              "      fixed acidity  volatile acidity  citric acid  residual sugar  chlorides  \\\n",
              "0               7.4             0.700         0.00             1.9      0.076   \n",
              "1               7.8             0.880         0.00             2.6      0.098   \n",
              "2               7.8             0.760         0.04             2.3      0.092   \n",
              "3              11.2             0.280         0.56             1.9      0.075   \n",
              "4               7.4             0.700         0.00             1.9      0.076   \n",
              "...             ...               ...          ...             ...        ...   \n",
              "1594            6.2             0.600         0.08             2.0      0.090   \n",
              "1595            5.9             0.550         0.10             2.2      0.062   \n",
              "1596            6.3             0.510         0.13             2.3      0.076   \n",
              "1597            5.9             0.645         0.12             2.0      0.075   \n",
              "1598            6.0             0.310         0.47             3.6      0.067   \n",
              "\n",
              "      free sulfur dioxide  total sulfur dioxide  density    pH  sulphates  \\\n",
              "0                    11.0                  34.0  0.99780  3.51       0.56   \n",
              "1                    25.0                  67.0  0.99680  3.20       0.68   \n",
              "2                    15.0                  54.0  0.99700  3.26       0.65   \n",
              "3                    17.0                  60.0  0.99800  3.16       0.58   \n",
              "4                    11.0                  34.0  0.99780  3.51       0.56   \n",
              "...                   ...                   ...      ...   ...        ...   \n",
              "1594                 32.0                  44.0  0.99490  3.45       0.58   \n",
              "1595                 39.0                  51.0  0.99512  3.52       0.76   \n",
              "1596                 29.0                  40.0  0.99574  3.42       0.75   \n",
              "1597                 32.0                  44.0  0.99547  3.57       0.71   \n",
              "1598                 18.0                  42.0  0.99549  3.39       0.66   \n",
              "\n",
              "      alcohol  quality  \n",
              "0         9.4    False  \n",
              "1         9.8    False  \n",
              "2         9.8    False  \n",
              "3         9.8     True  \n",
              "4         9.4    False  \n",
              "...       ...      ...  \n",
              "1594     10.5    False  \n",
              "1595     11.2     True  \n",
              "1596     11.0     True  \n",
              "1597     10.2    False  \n",
              "1598     11.0     True  \n",
              "\n",
              "[1599 rows x 12 columns]"
            ],
            "text/html": [
              "\n",
              "  <div id=\"df-7f317d16-57b7-4260-ac4b-ede68e9d4fb7\" class=\"colab-df-container\">\n",
              "    <div>\n",
              "<style scoped>\n",
              "    .dataframe tbody tr th:only-of-type {\n",
              "        vertical-align: middle;\n",
              "    }\n",
              "\n",
              "    .dataframe tbody tr th {\n",
              "        vertical-align: top;\n",
              "    }\n",
              "\n",
              "    .dataframe thead th {\n",
              "        text-align: right;\n",
              "    }\n",
              "</style>\n",
              "<table border=\"1\" class=\"dataframe\">\n",
              "  <thead>\n",
              "    <tr style=\"text-align: right;\">\n",
              "      <th></th>\n",
              "      <th>fixed acidity</th>\n",
              "      <th>volatile acidity</th>\n",
              "      <th>citric acid</th>\n",
              "      <th>residual sugar</th>\n",
              "      <th>chlorides</th>\n",
              "      <th>free sulfur dioxide</th>\n",
              "      <th>total sulfur dioxide</th>\n",
              "      <th>density</th>\n",
              "      <th>pH</th>\n",
              "      <th>sulphates</th>\n",
              "      <th>alcohol</th>\n",
              "      <th>quality</th>\n",
              "    </tr>\n",
              "  </thead>\n",
              "  <tbody>\n",
              "    <tr>\n",
              "      <th>0</th>\n",
              "      <td>7.4</td>\n",
              "      <td>0.700</td>\n",
              "      <td>0.00</td>\n",
              "      <td>1.9</td>\n",
              "      <td>0.076</td>\n",
              "      <td>11.0</td>\n",
              "      <td>34.0</td>\n",
              "      <td>0.99780</td>\n",
              "      <td>3.51</td>\n",
              "      <td>0.56</td>\n",
              "      <td>9.4</td>\n",
              "      <td>False</td>\n",
              "    </tr>\n",
              "    <tr>\n",
              "      <th>1</th>\n",
              "      <td>7.8</td>\n",
              "      <td>0.880</td>\n",
              "      <td>0.00</td>\n",
              "      <td>2.6</td>\n",
              "      <td>0.098</td>\n",
              "      <td>25.0</td>\n",
              "      <td>67.0</td>\n",
              "      <td>0.99680</td>\n",
              "      <td>3.20</td>\n",
              "      <td>0.68</td>\n",
              "      <td>9.8</td>\n",
              "      <td>False</td>\n",
              "    </tr>\n",
              "    <tr>\n",
              "      <th>2</th>\n",
              "      <td>7.8</td>\n",
              "      <td>0.760</td>\n",
              "      <td>0.04</td>\n",
              "      <td>2.3</td>\n",
              "      <td>0.092</td>\n",
              "      <td>15.0</td>\n",
              "      <td>54.0</td>\n",
              "      <td>0.99700</td>\n",
              "      <td>3.26</td>\n",
              "      <td>0.65</td>\n",
              "      <td>9.8</td>\n",
              "      <td>False</td>\n",
              "    </tr>\n",
              "    <tr>\n",
              "      <th>3</th>\n",
              "      <td>11.2</td>\n",
              "      <td>0.280</td>\n",
              "      <td>0.56</td>\n",
              "      <td>1.9</td>\n",
              "      <td>0.075</td>\n",
              "      <td>17.0</td>\n",
              "      <td>60.0</td>\n",
              "      <td>0.99800</td>\n",
              "      <td>3.16</td>\n",
              "      <td>0.58</td>\n",
              "      <td>9.8</td>\n",
              "      <td>True</td>\n",
              "    </tr>\n",
              "    <tr>\n",
              "      <th>4</th>\n",
              "      <td>7.4</td>\n",
              "      <td>0.700</td>\n",
              "      <td>0.00</td>\n",
              "      <td>1.9</td>\n",
              "      <td>0.076</td>\n",
              "      <td>11.0</td>\n",
              "      <td>34.0</td>\n",
              "      <td>0.99780</td>\n",
              "      <td>3.51</td>\n",
              "      <td>0.56</td>\n",
              "      <td>9.4</td>\n",
              "      <td>False</td>\n",
              "    </tr>\n",
              "    <tr>\n",
              "      <th>...</th>\n",
              "      <td>...</td>\n",
              "      <td>...</td>\n",
              "      <td>...</td>\n",
              "      <td>...</td>\n",
              "      <td>...</td>\n",
              "      <td>...</td>\n",
              "      <td>...</td>\n",
              "      <td>...</td>\n",
              "      <td>...</td>\n",
              "      <td>...</td>\n",
              "      <td>...</td>\n",
              "      <td>...</td>\n",
              "    </tr>\n",
              "    <tr>\n",
              "      <th>1594</th>\n",
              "      <td>6.2</td>\n",
              "      <td>0.600</td>\n",
              "      <td>0.08</td>\n",
              "      <td>2.0</td>\n",
              "      <td>0.090</td>\n",
              "      <td>32.0</td>\n",
              "      <td>44.0</td>\n",
              "      <td>0.99490</td>\n",
              "      <td>3.45</td>\n",
              "      <td>0.58</td>\n",
              "      <td>10.5</td>\n",
              "      <td>False</td>\n",
              "    </tr>\n",
              "    <tr>\n",
              "      <th>1595</th>\n",
              "      <td>5.9</td>\n",
              "      <td>0.550</td>\n",
              "      <td>0.10</td>\n",
              "      <td>2.2</td>\n",
              "      <td>0.062</td>\n",
              "      <td>39.0</td>\n",
              "      <td>51.0</td>\n",
              "      <td>0.99512</td>\n",
              "      <td>3.52</td>\n",
              "      <td>0.76</td>\n",
              "      <td>11.2</td>\n",
              "      <td>True</td>\n",
              "    </tr>\n",
              "    <tr>\n",
              "      <th>1596</th>\n",
              "      <td>6.3</td>\n",
              "      <td>0.510</td>\n",
              "      <td>0.13</td>\n",
              "      <td>2.3</td>\n",
              "      <td>0.076</td>\n",
              "      <td>29.0</td>\n",
              "      <td>40.0</td>\n",
              "      <td>0.99574</td>\n",
              "      <td>3.42</td>\n",
              "      <td>0.75</td>\n",
              "      <td>11.0</td>\n",
              "      <td>True</td>\n",
              "    </tr>\n",
              "    <tr>\n",
              "      <th>1597</th>\n",
              "      <td>5.9</td>\n",
              "      <td>0.645</td>\n",
              "      <td>0.12</td>\n",
              "      <td>2.0</td>\n",
              "      <td>0.075</td>\n",
              "      <td>32.0</td>\n",
              "      <td>44.0</td>\n",
              "      <td>0.99547</td>\n",
              "      <td>3.57</td>\n",
              "      <td>0.71</td>\n",
              "      <td>10.2</td>\n",
              "      <td>False</td>\n",
              "    </tr>\n",
              "    <tr>\n",
              "      <th>1598</th>\n",
              "      <td>6.0</td>\n",
              "      <td>0.310</td>\n",
              "      <td>0.47</td>\n",
              "      <td>3.6</td>\n",
              "      <td>0.067</td>\n",
              "      <td>18.0</td>\n",
              "      <td>42.0</td>\n",
              "      <td>0.99549</td>\n",
              "      <td>3.39</td>\n",
              "      <td>0.66</td>\n",
              "      <td>11.0</td>\n",
              "      <td>True</td>\n",
              "    </tr>\n",
              "  </tbody>\n",
              "</table>\n",
              "<p>1599 rows × 12 columns</p>\n",
              "</div>\n",
              "    <div class=\"colab-df-buttons\">\n",
              "\n",
              "  <div class=\"colab-df-container\">\n",
              "    <button class=\"colab-df-convert\" onclick=\"convertToInteractive('df-7f317d16-57b7-4260-ac4b-ede68e9d4fb7')\"\n",
              "            title=\"Convert this dataframe to an interactive table.\"\n",
              "            style=\"display:none;\">\n",
              "\n",
              "  <svg xmlns=\"http://www.w3.org/2000/svg\" height=\"24px\" viewBox=\"0 -960 960 960\">\n",
              "    <path d=\"M120-120v-720h720v720H120Zm60-500h600v-160H180v160Zm220 220h160v-160H400v160Zm0 220h160v-160H400v160ZM180-400h160v-160H180v160Zm440 0h160v-160H620v160ZM180-180h160v-160H180v160Zm440 0h160v-160H620v160Z\"/>\n",
              "  </svg>\n",
              "    </button>\n",
              "\n",
              "  <style>\n",
              "    .colab-df-container {\n",
              "      display:flex;\n",
              "      gap: 12px;\n",
              "    }\n",
              "\n",
              "    .colab-df-convert {\n",
              "      background-color: #E8F0FE;\n",
              "      border: none;\n",
              "      border-radius: 50%;\n",
              "      cursor: pointer;\n",
              "      display: none;\n",
              "      fill: #1967D2;\n",
              "      height: 32px;\n",
              "      padding: 0 0 0 0;\n",
              "      width: 32px;\n",
              "    }\n",
              "\n",
              "    .colab-df-convert:hover {\n",
              "      background-color: #E2EBFA;\n",
              "      box-shadow: 0px 1px 2px rgba(60, 64, 67, 0.3), 0px 1px 3px 1px rgba(60, 64, 67, 0.15);\n",
              "      fill: #174EA6;\n",
              "    }\n",
              "\n",
              "    .colab-df-buttons div {\n",
              "      margin-bottom: 4px;\n",
              "    }\n",
              "\n",
              "    [theme=dark] .colab-df-convert {\n",
              "      background-color: #3B4455;\n",
              "      fill: #D2E3FC;\n",
              "    }\n",
              "\n",
              "    [theme=dark] .colab-df-convert:hover {\n",
              "      background-color: #434B5C;\n",
              "      box-shadow: 0px 1px 3px 1px rgba(0, 0, 0, 0.15);\n",
              "      filter: drop-shadow(0px 1px 2px rgba(0, 0, 0, 0.3));\n",
              "      fill: #FFFFFF;\n",
              "    }\n",
              "  </style>\n",
              "\n",
              "    <script>\n",
              "      const buttonEl =\n",
              "        document.querySelector('#df-7f317d16-57b7-4260-ac4b-ede68e9d4fb7 button.colab-df-convert');\n",
              "      buttonEl.style.display =\n",
              "        google.colab.kernel.accessAllowed ? 'block' : 'none';\n",
              "\n",
              "      async function convertToInteractive(key) {\n",
              "        const element = document.querySelector('#df-7f317d16-57b7-4260-ac4b-ede68e9d4fb7');\n",
              "        const dataTable =\n",
              "          await google.colab.kernel.invokeFunction('convertToInteractive',\n",
              "                                                    [key], {});\n",
              "        if (!dataTable) return;\n",
              "\n",
              "        const docLinkHtml = 'Like what you see? Visit the ' +\n",
              "          '<a target=\"_blank\" href=https://colab.research.google.com/notebooks/data_table.ipynb>data table notebook</a>'\n",
              "          + ' to learn more about interactive tables.';\n",
              "        element.innerHTML = '';\n",
              "        dataTable['output_type'] = 'display_data';\n",
              "        await google.colab.output.renderOutput(dataTable, element);\n",
              "        const docLink = document.createElement('div');\n",
              "        docLink.innerHTML = docLinkHtml;\n",
              "        element.appendChild(docLink);\n",
              "      }\n",
              "    </script>\n",
              "  </div>\n",
              "\n",
              "\n",
              "<div id=\"df-922b7228-ed59-41ce-b61a-7e9cd3dec627\">\n",
              "  <button class=\"colab-df-quickchart\" onclick=\"quickchart('df-922b7228-ed59-41ce-b61a-7e9cd3dec627')\"\n",
              "            title=\"Suggest charts.\"\n",
              "            style=\"display:none;\">\n",
              "\n",
              "<svg xmlns=\"http://www.w3.org/2000/svg\" height=\"24px\"viewBox=\"0 0 24 24\"\n",
              "     width=\"24px\">\n",
              "    <g>\n",
              "        <path d=\"M19 3H5c-1.1 0-2 .9-2 2v14c0 1.1.9 2 2 2h14c1.1 0 2-.9 2-2V5c0-1.1-.9-2-2-2zM9 17H7v-7h2v7zm4 0h-2V7h2v10zm4 0h-2v-4h2v4z\"/>\n",
              "    </g>\n",
              "</svg>\n",
              "  </button>\n",
              "\n",
              "<style>\n",
              "  .colab-df-quickchart {\n",
              "      --bg-color: #E8F0FE;\n",
              "      --fill-color: #1967D2;\n",
              "      --hover-bg-color: #E2EBFA;\n",
              "      --hover-fill-color: #174EA6;\n",
              "      --disabled-fill-color: #AAA;\n",
              "      --disabled-bg-color: #DDD;\n",
              "  }\n",
              "\n",
              "  [theme=dark] .colab-df-quickchart {\n",
              "      --bg-color: #3B4455;\n",
              "      --fill-color: #D2E3FC;\n",
              "      --hover-bg-color: #434B5C;\n",
              "      --hover-fill-color: #FFFFFF;\n",
              "      --disabled-bg-color: #3B4455;\n",
              "      --disabled-fill-color: #666;\n",
              "  }\n",
              "\n",
              "  .colab-df-quickchart {\n",
              "    background-color: var(--bg-color);\n",
              "    border: none;\n",
              "    border-radius: 50%;\n",
              "    cursor: pointer;\n",
              "    display: none;\n",
              "    fill: var(--fill-color);\n",
              "    height: 32px;\n",
              "    padding: 0;\n",
              "    width: 32px;\n",
              "  }\n",
              "\n",
              "  .colab-df-quickchart:hover {\n",
              "    background-color: var(--hover-bg-color);\n",
              "    box-shadow: 0 1px 2px rgba(60, 64, 67, 0.3), 0 1px 3px 1px rgba(60, 64, 67, 0.15);\n",
              "    fill: var(--button-hover-fill-color);\n",
              "  }\n",
              "\n",
              "  .colab-df-quickchart-complete:disabled,\n",
              "  .colab-df-quickchart-complete:disabled:hover {\n",
              "    background-color: var(--disabled-bg-color);\n",
              "    fill: var(--disabled-fill-color);\n",
              "    box-shadow: none;\n",
              "  }\n",
              "\n",
              "  .colab-df-spinner {\n",
              "    border: 2px solid var(--fill-color);\n",
              "    border-color: transparent;\n",
              "    border-bottom-color: var(--fill-color);\n",
              "    animation:\n",
              "      spin 1s steps(1) infinite;\n",
              "  }\n",
              "\n",
              "  @keyframes spin {\n",
              "    0% {\n",
              "      border-color: transparent;\n",
              "      border-bottom-color: var(--fill-color);\n",
              "      border-left-color: var(--fill-color);\n",
              "    }\n",
              "    20% {\n",
              "      border-color: transparent;\n",
              "      border-left-color: var(--fill-color);\n",
              "      border-top-color: var(--fill-color);\n",
              "    }\n",
              "    30% {\n",
              "      border-color: transparent;\n",
              "      border-left-color: var(--fill-color);\n",
              "      border-top-color: var(--fill-color);\n",
              "      border-right-color: var(--fill-color);\n",
              "    }\n",
              "    40% {\n",
              "      border-color: transparent;\n",
              "      border-right-color: var(--fill-color);\n",
              "      border-top-color: var(--fill-color);\n",
              "    }\n",
              "    60% {\n",
              "      border-color: transparent;\n",
              "      border-right-color: var(--fill-color);\n",
              "    }\n",
              "    80% {\n",
              "      border-color: transparent;\n",
              "      border-right-color: var(--fill-color);\n",
              "      border-bottom-color: var(--fill-color);\n",
              "    }\n",
              "    90% {\n",
              "      border-color: transparent;\n",
              "      border-bottom-color: var(--fill-color);\n",
              "    }\n",
              "  }\n",
              "</style>\n",
              "\n",
              "  <script>\n",
              "    async function quickchart(key) {\n",
              "      const quickchartButtonEl =\n",
              "        document.querySelector('#' + key + ' button');\n",
              "      quickchartButtonEl.disabled = true;  // To prevent multiple clicks.\n",
              "      quickchartButtonEl.classList.add('colab-df-spinner');\n",
              "      try {\n",
              "        const charts = await google.colab.kernel.invokeFunction(\n",
              "            'suggestCharts', [key], {});\n",
              "      } catch (error) {\n",
              "        console.error('Error during call to suggestCharts:', error);\n",
              "      }\n",
              "      quickchartButtonEl.classList.remove('colab-df-spinner');\n",
              "      quickchartButtonEl.classList.add('colab-df-quickchart-complete');\n",
              "    }\n",
              "    (() => {\n",
              "      let quickchartButtonEl =\n",
              "        document.querySelector('#df-922b7228-ed59-41ce-b61a-7e9cd3dec627 button');\n",
              "      quickchartButtonEl.style.display =\n",
              "        google.colab.kernel.accessAllowed ? 'block' : 'none';\n",
              "    })();\n",
              "  </script>\n",
              "</div>\n",
              "    </div>\n",
              "  </div>\n"
            ]
          },
          "metadata": {},
          "execution_count": 3
        }
      ],
      "source": [
        "df = DFrame.read_from_kaggle('uciml/red-wine-quality-cortez-et-al-2009')\n",
        "df.quality = df.quality > 5\n",
        "df"
      ]
    },
    {
      "cell_type": "markdown",
      "metadata": {
        "id": "9yiJ5UgAg9Lc"
      },
      "source": [
        "# Apply cross validation\n",
        "\n",
        "To diagnose and validate the model, you have to split the dataset in a training and validation part before training. You can do this with the `split()` method on a PipeTorch DataFrame. As a parameter, you can pass the fraction of the dataset (e.g. split(0.8) to use 20% for training and 80% for validation, but is that a desirable split?).\n",
        "\n",
        "In this case, because we will fit a Decision Tree, scaling is not an issue, and Regularization is not available (Decision Trees cannot overfit by using absurd coefficients to connect the dots, like Polynomial Regression, SVM or Logistic Regression)."
      ]
    },
    {
      "cell_type": "code",
      "execution_count": 8,
      "metadata": {
        "id": "8EZnEo3wg9Ld"
      },
      "outputs": [],
      "source": [
        "# split the dataset\n",
        "df = df.split(valid_size=0.8)"
      ]
    },
    {
      "cell_type": "markdown",
      "metadata": {
        "id": "hb0bw_L4g9Le"
      },
      "source": [
        "# Model & Train"
      ]
    },
    {
      "cell_type": "code",
      "execution_count": 9,
      "metadata": {
        "id": "fdMEXmatg9Lf",
        "outputId": "1de5955e-6917-4351-c723-ba525271a045",
        "colab": {
          "base_uri": "https://localhost:8080/",
          "height": 74
        }
      },
      "outputs": [
        {
          "output_type": "execute_result",
          "data": {
            "text/plain": [
              "DecisionTreeClassifier(max_depth=20)"
            ],
            "text/html": [
              "<style>#sk-container-id-2 {color: black;background-color: white;}#sk-container-id-2 pre{padding: 0;}#sk-container-id-2 div.sk-toggleable {background-color: white;}#sk-container-id-2 label.sk-toggleable__label {cursor: pointer;display: block;width: 100%;margin-bottom: 0;padding: 0.3em;box-sizing: border-box;text-align: center;}#sk-container-id-2 label.sk-toggleable__label-arrow:before {content: \"▸\";float: left;margin-right: 0.25em;color: #696969;}#sk-container-id-2 label.sk-toggleable__label-arrow:hover:before {color: black;}#sk-container-id-2 div.sk-estimator:hover label.sk-toggleable__label-arrow:before {color: black;}#sk-container-id-2 div.sk-toggleable__content {max-height: 0;max-width: 0;overflow: hidden;text-align: left;background-color: #f0f8ff;}#sk-container-id-2 div.sk-toggleable__content pre {margin: 0.2em;color: black;border-radius: 0.25em;background-color: #f0f8ff;}#sk-container-id-2 input.sk-toggleable__control:checked~div.sk-toggleable__content {max-height: 200px;max-width: 100%;overflow: auto;}#sk-container-id-2 input.sk-toggleable__control:checked~label.sk-toggleable__label-arrow:before {content: \"▾\";}#sk-container-id-2 div.sk-estimator input.sk-toggleable__control:checked~label.sk-toggleable__label {background-color: #d4ebff;}#sk-container-id-2 div.sk-label input.sk-toggleable__control:checked~label.sk-toggleable__label {background-color: #d4ebff;}#sk-container-id-2 input.sk-hidden--visually {border: 0;clip: rect(1px 1px 1px 1px);clip: rect(1px, 1px, 1px, 1px);height: 1px;margin: -1px;overflow: hidden;padding: 0;position: absolute;width: 1px;}#sk-container-id-2 div.sk-estimator {font-family: monospace;background-color: #f0f8ff;border: 1px dotted black;border-radius: 0.25em;box-sizing: border-box;margin-bottom: 0.5em;}#sk-container-id-2 div.sk-estimator:hover {background-color: #d4ebff;}#sk-container-id-2 div.sk-parallel-item::after {content: \"\";width: 100%;border-bottom: 1px solid gray;flex-grow: 1;}#sk-container-id-2 div.sk-label:hover label.sk-toggleable__label {background-color: #d4ebff;}#sk-container-id-2 div.sk-serial::before {content: \"\";position: absolute;border-left: 1px solid gray;box-sizing: border-box;top: 0;bottom: 0;left: 50%;z-index: 0;}#sk-container-id-2 div.sk-serial {display: flex;flex-direction: column;align-items: center;background-color: white;padding-right: 0.2em;padding-left: 0.2em;position: relative;}#sk-container-id-2 div.sk-item {position: relative;z-index: 1;}#sk-container-id-2 div.sk-parallel {display: flex;align-items: stretch;justify-content: center;background-color: white;position: relative;}#sk-container-id-2 div.sk-item::before, #sk-container-id-2 div.sk-parallel-item::before {content: \"\";position: absolute;border-left: 1px solid gray;box-sizing: border-box;top: 0;bottom: 0;left: 50%;z-index: -1;}#sk-container-id-2 div.sk-parallel-item {display: flex;flex-direction: column;z-index: 1;position: relative;background-color: white;}#sk-container-id-2 div.sk-parallel-item:first-child::after {align-self: flex-end;width: 50%;}#sk-container-id-2 div.sk-parallel-item:last-child::after {align-self: flex-start;width: 50%;}#sk-container-id-2 div.sk-parallel-item:only-child::after {width: 0;}#sk-container-id-2 div.sk-dashed-wrapped {border: 1px dashed gray;margin: 0 0.4em 0.5em 0.4em;box-sizing: border-box;padding-bottom: 0.4em;background-color: white;}#sk-container-id-2 div.sk-label label {font-family: monospace;font-weight: bold;display: inline-block;line-height: 1.2em;}#sk-container-id-2 div.sk-label-container {text-align: center;}#sk-container-id-2 div.sk-container {/* jupyter's `normalize.less` sets `[hidden] { display: none; }` but bootstrap.min.css set `[hidden] { display: none !important; }` so we also need the `!important` here to be able to override the default hidden behavior on the sphinx rendered scikit-learn.org. See: https://github.com/scikit-learn/scikit-learn/issues/21755 */display: inline-block !important;position: relative;}#sk-container-id-2 div.sk-text-repr-fallback {display: none;}</style><div id=\"sk-container-id-2\" class=\"sk-top-container\"><div class=\"sk-text-repr-fallback\"><pre>DecisionTreeClassifier(max_depth=20)</pre><b>In a Jupyter environment, please rerun this cell to show the HTML representation or trust the notebook. <br />On GitHub, the HTML representation is unable to render, please try loading this page with nbviewer.org.</b></div><div class=\"sk-container\" hidden><div class=\"sk-item\"><div class=\"sk-estimator sk-toggleable\"><input class=\"sk-toggleable__control sk-hidden--visually\" id=\"sk-estimator-id-2\" type=\"checkbox\" checked><label for=\"sk-estimator-id-2\" class=\"sk-toggleable__label sk-toggleable__label-arrow\">DecisionTreeClassifier</label><div class=\"sk-toggleable__content\"><pre>DecisionTreeClassifier(max_depth=20)</pre></div></div></div></div></div>"
            ]
          },
          "metadata": {},
          "execution_count": 9
        }
      ],
      "source": [
        "# Fit a Decision Tree on all features with a maximum tree depth of 20\n",
        "# and fit the model on the dataset\n",
        "model = DecisionTreeClassifier(max_depth=20)\n",
        "model.fit(df.train_X, df.train_y)"
      ]
    },
    {
      "cell_type": "markdown",
      "metadata": {
        "id": "uMgiMzXbg9Lg"
      },
      "source": [
        "# Evaluation"
      ]
    },
    {
      "cell_type": "code",
      "execution_count": 10,
      "metadata": {
        "id": "BGDCzqGNg9Lh",
        "outputId": "1d5604ee-27ef-4259-f4cd-c19bfe69fd5f",
        "colab": {
          "base_uri": "https://localhost:8080/"
        }
      },
      "outputs": [
        {
          "output_type": "execute_result",
          "data": {
            "text/plain": [
              "0.67421875"
            ]
          },
          "metadata": {},
          "execution_count": 10
        }
      ],
      "source": [
        "# Report the accuracy\n",
        "accuracy_score(df.valid_y, model.predict(df.valid_X))"
      ]
    },
    {
      "cell_type": "markdown",
      "metadata": {
        "id": "NOQ0-RTRg9Li"
      },
      "source": [
        "# Tune max_depth\n",
        "\n",
        "Create a study and a trail function to find the optimal value for max_depth."
      ]
    },
    {
      "cell_type": "code",
      "execution_count": 11,
      "metadata": {
        "id": "1qukaWM_g9Li",
        "outputId": "e55e81ca-02be-4731-95a7-eafc89cb0115",
        "colab": {
          "base_uri": "https://localhost:8080/"
        }
      },
      "outputs": [
        {
          "output_type": "stream",
          "name": "stderr",
          "text": [
            "[I 2023-09-26 11:42:37,036] A new study created in memory with name: no-name-af0024de-491f-4669-b25a-087f910d6354\n"
          ]
        }
      ],
      "source": [
        "# Setup an evaluator on this DataFrame to compare accuracy scores across models\n",
        "study = Study.create_study('accuracy_score')"
      ]
    },
    {
      "cell_type": "code",
      "execution_count": 16,
      "metadata": {
        "id": "D8L6Rpaxg9Lj"
      },
      "outputs": [],
      "source": [
        "# write a trial function, in which you sample a valie for max_depth, instantiate a decision tree with it\n",
        "# fit the tree, and return the accuracy score over the validation set.\n",
        "\n",
        "def trial(trial):\n",
        "    # sample the hyperparameter(s) from the Optuna Study\n",
        "    degree = trial.suggest_categorical('depth',list(range(10,150,5)))\n",
        "\n",
        "    # For your experiment, prepare the data and fit the model using the hyperparameters\n",
        "    model = DecisionTreeClassifier(max_depth=degree)\n",
        "    model.fit(df.train_X, df.train_y)\n",
        "\n",
        "    # Compute whatever you wish to analyze or optimize\n",
        "    pred_y = model.predict(df.train_X)\n",
        "    accuracy_train = accuracy_score(df.train_y, pred_y)\n",
        "    pred_y = model.predict(df.valid_X)\n",
        "    accuracy_valid = accuracy_score(df.valid_y, pred_y)\n",
        "\n",
        "    # Return multiple values in the right order\n",
        "    return accuracy_valid"
      ]
    },
    {
      "cell_type": "code",
      "execution_count": 17,
      "metadata": {
        "id": "e9Wi_rzdg9Lj",
        "outputId": "523bfe02-44e6-43d5-a36a-cff64676d813",
        "colab": {
          "base_uri": "https://localhost:8080/"
        }
      },
      "outputs": [
        {
          "output_type": "stream",
          "name": "stderr",
          "text": [
            "[I 2023-09-26 12:01:23,788] Trial 903 finished with value: 0.66171875 and parameters: {'depth': 110}. Best is trial 645 with value: 0.70546875.\n",
            "[I 2023-09-26 12:01:24,028] Trial 904 finished with value: 0.68125 and parameters: {'depth': 35}. Best is trial 645 with value: 0.70546875.\n",
            "[I 2023-09-26 12:01:24,280] Trial 905 finished with value: 0.68828125 and parameters: {'depth': 80}. Best is trial 645 with value: 0.70546875.\n",
            "[I 2023-09-26 12:01:24,519] Trial 906 finished with value: 0.69140625 and parameters: {'depth': 55}. Best is trial 645 with value: 0.70546875.\n",
            "[I 2023-09-26 12:01:24,763] Trial 907 finished with value: 0.6765625 and parameters: {'depth': 50}. Best is trial 645 with value: 0.70546875.\n",
            "[I 2023-09-26 12:01:24,996] Trial 908 finished with value: 0.67734375 and parameters: {'depth': 20}. Best is trial 645 with value: 0.70546875.\n",
            "[I 2023-09-26 12:01:25,231] Trial 909 finished with value: 0.66171875 and parameters: {'depth': 40}. Best is trial 645 with value: 0.70546875.\n",
            "[I 2023-09-26 12:01:25,471] Trial 910 finished with value: 0.68046875 and parameters: {'depth': 145}. Best is trial 645 with value: 0.70546875.\n",
            "[I 2023-09-26 12:01:25,703] Trial 911 finished with value: 0.678125 and parameters: {'depth': 30}. Best is trial 645 with value: 0.70546875.\n",
            "[I 2023-09-26 12:01:25,942] Trial 912 finished with value: 0.67421875 and parameters: {'depth': 130}. Best is trial 645 with value: 0.70546875.\n",
            "[I 2023-09-26 12:01:26,178] Trial 913 finished with value: 0.67109375 and parameters: {'depth': 120}. Best is trial 645 with value: 0.70546875.\n",
            "[I 2023-09-26 12:01:26,419] Trial 914 finished with value: 0.67890625 and parameters: {'depth': 95}. Best is trial 645 with value: 0.70546875.\n",
            "[I 2023-09-26 12:01:26,650] Trial 915 finished with value: 0.675 and parameters: {'depth': 100}. Best is trial 645 with value: 0.70546875.\n",
            "[I 2023-09-26 12:01:26,883] Trial 916 finished with value: 0.66953125 and parameters: {'depth': 60}. Best is trial 645 with value: 0.70546875.\n",
            "[I 2023-09-26 12:01:27,111] Trial 917 finished with value: 0.6796875 and parameters: {'depth': 75}. Best is trial 645 with value: 0.70546875.\n",
            "[I 2023-09-26 12:01:27,355] Trial 918 finished with value: 0.67578125 and parameters: {'depth': 25}. Best is trial 645 with value: 0.70546875.\n",
            "[I 2023-09-26 12:01:27,587] Trial 919 finished with value: 0.70859375 and parameters: {'depth': 20}. Best is trial 919 with value: 0.70859375.\n",
            "[I 2023-09-26 12:01:27,819] Trial 920 finished with value: 0.66171875 and parameters: {'depth': 20}. Best is trial 919 with value: 0.70859375.\n",
            "[I 2023-09-26 12:01:28,056] Trial 921 finished with value: 0.675 and parameters: {'depth': 20}. Best is trial 919 with value: 0.70859375.\n",
            "[I 2023-09-26 12:01:28,298] Trial 922 finished with value: 0.678125 and parameters: {'depth': 20}. Best is trial 919 with value: 0.70859375.\n",
            "[I 2023-09-26 12:01:28,539] Trial 923 finished with value: 0.66953125 and parameters: {'depth': 20}. Best is trial 919 with value: 0.70859375.\n",
            "[I 2023-09-26 12:01:28,767] Trial 924 finished with value: 0.6796875 and parameters: {'depth': 20}. Best is trial 919 with value: 0.70859375.\n",
            "[I 2023-09-26 12:01:29,013] Trial 925 finished with value: 0.6953125 and parameters: {'depth': 20}. Best is trial 919 with value: 0.70859375.\n",
            "[I 2023-09-26 12:01:29,247] Trial 926 finished with value: 0.67265625 and parameters: {'depth': 20}. Best is trial 919 with value: 0.70859375.\n",
            "[I 2023-09-26 12:01:29,490] Trial 927 finished with value: 0.68046875 and parameters: {'depth': 20}. Best is trial 919 with value: 0.70859375.\n",
            "[I 2023-09-26 12:01:29,735] Trial 928 finished with value: 0.678125 and parameters: {'depth': 20}. Best is trial 919 with value: 0.70859375.\n",
            "[I 2023-09-26 12:01:29,970] Trial 929 finished with value: 0.67890625 and parameters: {'depth': 115}. Best is trial 919 with value: 0.70859375.\n",
            "[I 2023-09-26 12:01:30,200] Trial 930 finished with value: 0.67890625 and parameters: {'depth': 45}. Best is trial 919 with value: 0.70859375.\n",
            "[I 2023-09-26 12:01:30,442] Trial 931 finished with value: 0.68203125 and parameters: {'depth': 125}. Best is trial 919 with value: 0.70859375.\n",
            "[I 2023-09-26 12:01:30,676] Trial 932 finished with value: 0.67265625 and parameters: {'depth': 40}. Best is trial 919 with value: 0.70859375.\n",
            "[I 2023-09-26 12:01:30,923] Trial 933 finished with value: 0.68671875 and parameters: {'depth': 20}. Best is trial 919 with value: 0.70859375.\n",
            "[I 2023-09-26 12:01:31,151] Trial 934 finished with value: 0.6765625 and parameters: {'depth': 140}. Best is trial 919 with value: 0.70859375.\n",
            "[I 2023-09-26 12:01:31,388] Trial 935 finished with value: 0.67265625 and parameters: {'depth': 145}. Best is trial 919 with value: 0.70859375.\n",
            "[I 2023-09-26 12:01:31,627] Trial 936 finished with value: 0.68515625 and parameters: {'depth': 80}. Best is trial 919 with value: 0.70859375.\n",
            "[I 2023-09-26 12:01:31,856] Trial 937 finished with value: 0.6984375 and parameters: {'depth': 55}. Best is trial 919 with value: 0.70859375.\n",
            "[I 2023-09-26 12:01:32,089] Trial 938 finished with value: 0.6703125 and parameters: {'depth': 55}. Best is trial 919 with value: 0.70859375.\n",
            "[I 2023-09-26 12:01:32,322] Trial 939 finished with value: 0.69453125 and parameters: {'depth': 55}. Best is trial 919 with value: 0.70859375.\n",
            "[I 2023-09-26 12:01:32,561] Trial 940 finished with value: 0.6953125 and parameters: {'depth': 55}. Best is trial 919 with value: 0.70859375.\n",
            "[I 2023-09-26 12:01:32,794] Trial 941 finished with value: 0.6859375 and parameters: {'depth': 65}. Best is trial 919 with value: 0.70859375.\n",
            "[I 2023-09-26 12:01:33,046] Trial 942 finished with value: 0.67890625 and parameters: {'depth': 55}. Best is trial 919 with value: 0.70859375.\n",
            "[I 2023-09-26 12:01:33,282] Trial 943 finished with value: 0.66640625 and parameters: {'depth': 50}. Best is trial 919 with value: 0.70859375.\n",
            "[I 2023-09-26 12:01:33,579] Trial 944 finished with value: 0.67734375 and parameters: {'depth': 55}. Best is trial 919 with value: 0.70859375.\n",
            "[I 2023-09-26 12:01:33,898] Trial 945 finished with value: 0.671875 and parameters: {'depth': 55}. Best is trial 919 with value: 0.70859375.\n",
            "[I 2023-09-26 12:01:34,227] Trial 946 finished with value: 0.6765625 and parameters: {'depth': 55}. Best is trial 919 with value: 0.70859375.\n",
            "[I 2023-09-26 12:01:34,556] Trial 947 finished with value: 0.69296875 and parameters: {'depth': 100}. Best is trial 919 with value: 0.70859375.\n",
            "[I 2023-09-26 12:01:34,877] Trial 948 finished with value: 0.67421875 and parameters: {'depth': 55}. Best is trial 919 with value: 0.70859375.\n",
            "[I 2023-09-26 12:01:35,212] Trial 949 finished with value: 0.67578125 and parameters: {'depth': 55}. Best is trial 919 with value: 0.70859375.\n",
            "[I 2023-09-26 12:01:35,563] Trial 950 finished with value: 0.6875 and parameters: {'depth': 105}. Best is trial 919 with value: 0.70859375.\n",
            "[I 2023-09-26 12:01:35,882] Trial 951 finished with value: 0.684375 and parameters: {'depth': 25}. Best is trial 919 with value: 0.70859375.\n",
            "[I 2023-09-26 12:01:36,208] Trial 952 finished with value: 0.68203125 and parameters: {'depth': 85}. Best is trial 919 with value: 0.70859375.\n",
            "[I 2023-09-26 12:01:36,544] Trial 953 finished with value: 0.67265625 and parameters: {'depth': 30}. Best is trial 919 with value: 0.70859375.\n",
            "[I 2023-09-26 12:01:36,871] Trial 954 finished with value: 0.6796875 and parameters: {'depth': 70}. Best is trial 919 with value: 0.70859375.\n",
            "[I 2023-09-26 12:01:37,200] Trial 955 finished with value: 0.67578125 and parameters: {'depth': 20}. Best is trial 919 with value: 0.70859375.\n",
            "[I 2023-09-26 12:01:37,528] Trial 956 finished with value: 0.69296875 and parameters: {'depth': 135}. Best is trial 919 with value: 0.70859375.\n",
            "[I 2023-09-26 12:01:37,855] Trial 957 finished with value: 0.6640625 and parameters: {'depth': 10}. Best is trial 919 with value: 0.70859375.\n",
            "[I 2023-09-26 12:01:38,184] Trial 958 finished with value: 0.675 and parameters: {'depth': 95}. Best is trial 919 with value: 0.70859375.\n",
            "[I 2023-09-26 12:01:38,420] Trial 959 finished with value: 0.69453125 and parameters: {'depth': 120}. Best is trial 919 with value: 0.70859375.\n",
            "[I 2023-09-26 12:01:38,668] Trial 960 finished with value: 0.6734375 and parameters: {'depth': 55}. Best is trial 919 with value: 0.70859375.\n",
            "[I 2023-09-26 12:01:38,908] Trial 961 finished with value: 0.68828125 and parameters: {'depth': 145}. Best is trial 919 with value: 0.70859375.\n",
            "[I 2023-09-26 12:01:39,144] Trial 962 finished with value: 0.68125 and parameters: {'depth': 20}. Best is trial 919 with value: 0.70859375.\n",
            "[I 2023-09-26 12:01:39,397] Trial 963 finished with value: 0.68515625 and parameters: {'depth': 115}. Best is trial 919 with value: 0.70859375.\n",
            "[I 2023-09-26 12:01:39,633] Trial 964 finished with value: 0.68046875 and parameters: {'depth': 15}. Best is trial 919 with value: 0.70859375.\n",
            "[I 2023-09-26 12:01:39,876] Trial 965 finished with value: 0.68359375 and parameters: {'depth': 25}. Best is trial 919 with value: 0.70859375.\n",
            "[I 2023-09-26 12:01:40,111] Trial 966 finished with value: 0.6796875 and parameters: {'depth': 110}. Best is trial 919 with value: 0.70859375.\n",
            "[I 2023-09-26 12:01:40,348] Trial 967 finished with value: 0.690625 and parameters: {'depth': 80}. Best is trial 919 with value: 0.70859375.\n",
            "[I 2023-09-26 12:01:40,584] Trial 968 finished with value: 0.6890625 and parameters: {'depth': 100}. Best is trial 919 with value: 0.70859375.\n",
            "[I 2023-09-26 12:01:40,828] Trial 969 finished with value: 0.6609375 and parameters: {'depth': 90}. Best is trial 919 with value: 0.70859375.\n",
            "[I 2023-09-26 12:01:41,073] Trial 970 finished with value: 0.67265625 and parameters: {'depth': 50}. Best is trial 919 with value: 0.70859375.\n",
            "[I 2023-09-26 12:01:41,306] Trial 971 finished with value: 0.68984375 and parameters: {'depth': 20}. Best is trial 919 with value: 0.70859375.\n",
            "[I 2023-09-26 12:01:41,545] Trial 972 finished with value: 0.6703125 and parameters: {'depth': 130}. Best is trial 919 with value: 0.70859375.\n",
            "[I 2023-09-26 12:01:41,794] Trial 973 finished with value: 0.6765625 and parameters: {'depth': 35}. Best is trial 919 with value: 0.70859375.\n",
            "[I 2023-09-26 12:01:42,037] Trial 974 finished with value: 0.68046875 and parameters: {'depth': 15}. Best is trial 919 with value: 0.70859375.\n",
            "[I 2023-09-26 12:01:42,287] Trial 975 finished with value: 0.6828125 and parameters: {'depth': 55}. Best is trial 919 with value: 0.70859375.\n",
            "[I 2023-09-26 12:01:42,523] Trial 976 finished with value: 0.6921875 and parameters: {'depth': 30}. Best is trial 919 with value: 0.70859375.\n",
            "[I 2023-09-26 12:01:42,769] Trial 977 finished with value: 0.69609375 and parameters: {'depth': 145}. Best is trial 919 with value: 0.70859375.\n",
            "[I 2023-09-26 12:01:43,012] Trial 978 finished with value: 0.67578125 and parameters: {'depth': 95}. Best is trial 919 with value: 0.70859375.\n",
            "[I 2023-09-26 12:01:43,245] Trial 979 finished with value: 0.66640625 and parameters: {'depth': 120}. Best is trial 919 with value: 0.70859375.\n",
            "[I 2023-09-26 12:01:43,484] Trial 980 finished with value: 0.67265625 and parameters: {'depth': 15}. Best is trial 919 with value: 0.70859375.\n",
            "[I 2023-09-26 12:01:43,715] Trial 981 finished with value: 0.68125 and parameters: {'depth': 75}. Best is trial 919 with value: 0.70859375.\n",
            "[I 2023-09-26 12:01:43,958] Trial 982 finished with value: 0.67578125 and parameters: {'depth': 100}. Best is trial 919 with value: 0.70859375.\n",
            "[I 2023-09-26 12:01:44,217] Trial 983 finished with value: 0.68203125 and parameters: {'depth': 25}. Best is trial 919 with value: 0.70859375.\n",
            "[I 2023-09-26 12:01:44,452] Trial 984 finished with value: 0.68828125 and parameters: {'depth': 125}. Best is trial 919 with value: 0.70859375.\n",
            "[I 2023-09-26 12:01:44,700] Trial 985 finished with value: 0.68359375 and parameters: {'depth': 20}. Best is trial 919 with value: 0.70859375.\n",
            "[I 2023-09-26 12:01:44,943] Trial 986 finished with value: 0.69375 and parameters: {'depth': 15}. Best is trial 919 with value: 0.70859375.\n",
            "[I 2023-09-26 12:01:45,175] Trial 987 finished with value: 0.68671875 and parameters: {'depth': 115}. Best is trial 919 with value: 0.70859375.\n",
            "[I 2023-09-26 12:01:45,417] Trial 988 finished with value: 0.68203125 and parameters: {'depth': 55}. Best is trial 919 with value: 0.70859375.\n",
            "[I 2023-09-26 12:01:45,652] Trial 989 finished with value: 0.678125 and parameters: {'depth': 20}. Best is trial 919 with value: 0.70859375.\n",
            "[I 2023-09-26 12:01:45,890] Trial 990 finished with value: 0.6828125 and parameters: {'depth': 145}. Best is trial 919 with value: 0.70859375.\n",
            "[I 2023-09-26 12:01:46,121] Trial 991 finished with value: 0.6875 and parameters: {'depth': 80}. Best is trial 919 with value: 0.70859375.\n",
            "[I 2023-09-26 12:01:46,359] Trial 992 finished with value: 0.67890625 and parameters: {'depth': 45}. Best is trial 919 with value: 0.70859375.\n",
            "[I 2023-09-26 12:01:46,601] Trial 993 finished with value: 0.67265625 and parameters: {'depth': 50}. Best is trial 919 with value: 0.70859375.\n",
            "[I 2023-09-26 12:01:46,844] Trial 994 finished with value: 0.678125 and parameters: {'depth': 105}. Best is trial 919 with value: 0.70859375.\n",
            "[I 2023-09-26 12:01:47,075] Trial 995 finished with value: 0.678125 and parameters: {'depth': 15}. Best is trial 919 with value: 0.70859375.\n",
            "[I 2023-09-26 12:01:47,307] Trial 996 finished with value: 0.70078125 and parameters: {'depth': 140}. Best is trial 919 with value: 0.70859375.\n",
            "[I 2023-09-26 12:01:47,546] Trial 997 finished with value: 0.6859375 and parameters: {'depth': 65}. Best is trial 919 with value: 0.70859375.\n",
            "[I 2023-09-26 12:01:47,778] Trial 998 finished with value: 0.68828125 and parameters: {'depth': 140}. Best is trial 919 with value: 0.70859375.\n",
            "[I 2023-09-26 12:01:48,029] Trial 999 finished with value: 0.68984375 and parameters: {'depth': 70}. Best is trial 919 with value: 0.70859375.\n",
            "[I 2023-09-26 12:01:48,310] Trial 1000 finished with value: 0.6765625 and parameters: {'depth': 100}. Best is trial 919 with value: 0.70859375.\n",
            "[I 2023-09-26 12:01:48,643] Trial 1001 finished with value: 0.69453125 and parameters: {'depth': 140}. Best is trial 919 with value: 0.70859375.\n",
            "[I 2023-09-26 12:01:48,974] Trial 1002 finished with value: 0.6796875 and parameters: {'depth': 25}. Best is trial 919 with value: 0.70859375.\n"
          ]
        }
      ],
      "source": [
        "# Run the optimizer\n",
        "# In our solution, we have used a random search\n",
        "# but it is also ok if you stick to the grid search that we used in the example.\n",
        "# If you do use random search, be sure to include something like `n_trials=100` in the call to `optimize`.\n",
        "study.optimize(trial, n_trials = 100)"
      ]
    },
    {
      "cell_type": "code",
      "execution_count": 18,
      "metadata": {
        "id": "fRT0Bk7cg9Lj",
        "outputId": "d8dd31d2-53e1-464e-d5f8-122007561772",
        "colab": {
          "base_uri": "https://localhost:8080/",
          "height": 455
        }
      },
      "outputs": [
        {
          "output_type": "display_data",
          "data": {
            "text/plain": [
              "<Figure size 640x480 with 1 Axes>"
            ],
            "image/png": "[encoded data removed]"
          },
          "metadata": {}
        }
      ],
      "source": [
        "# plot the results\n",
        "study.plot_targets()\n",
        "plt.ylim(0,2);"
      ]
    },
    {
      "cell_type": "code",
      "execution_count": null,
      "metadata": {
        "id": "BE4OqEdqg9Lk"
      },
      "outputs": [],
      "source": [
        "halt_notebook()"
      ]
    }
  ],
  "metadata": {
    "kernelspec": {
      "display_name": "python3",
      "language": "python",
      "name": "python3"
    },
    "language_info": {
      "codemirror_mode": {
        "name": "ipython",
        "version": 3
      },
      "file_extension": ".py",
      "mimetype": "text/x-python",
      "name": "python",
      "nbconvert_exporter": "python",
      "pygments_lexer": "ipython3",
      "version": "3.9.12"
    },
    "toc": {
      "base_numbering": 1,
      "nav_menu": {},
      "number_sections": true,
      "sideBar": true,
      "skip_h1_title": true,
      "title_cell": "Table of Contents",
      "title_sidebar": "Contents",
      "toc_cell": false,
      "toc_position": {},
      "toc_section_display": true,
      "toc_window_display": false
    },
    "varInspector": {
      "cols": {
        "lenName": 16,
        "lenType": 16,
        "lenVar": 40
      },
      "kernels_config": {
        "python": {
          "delete_cmd_postfix": "",
          "delete_cmd_prefix": "del ",
          "library": "var_list.py",
          "varRefreshCmd": "print(var_dic_list())"
        },
        "r": {
          "delete_cmd_postfix": ") ",
          "delete_cmd_prefix": "rm(",
          "library": "var_list.r",
          "varRefreshCmd": "cat(var_dic_list()) "
        }
      },
      "types_to_exclude": [
        "module",
        "function",
        "builtin_function_or_method",
        "instance",
        "_Feature"
      ],
      "window_display": false
    },
    "colab": {
      "provenance": [],
      "include_colab_link": true
    }
  },
  "nbformat": 4,
  "nbformat_minor": 0
}