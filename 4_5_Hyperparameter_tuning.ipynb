{
  "cells": [
    {
      "cell_type": "markdown",
      "metadata": {
        "id": "view-in-github",
        "colab_type": "text"
      },
      "source": [
        "<a href=\"https://colab.research.google.com/github/Sjoerd-de-Witte/Machine-Learning-2023/blob/main/4_5_Hyperparameter_tuning.ipynb\" target=\"_parent\"><img src=\"https://colab.research.google.com/assets/colab-badge.svg\" alt=\"Open In Colab\"/></a>"
      ]
    },
    {
      "cell_type": "code",
      "source": [
        "!gdown -O /tmp/ml.py 174lBNvDBJSVWs3OpNL3a68cnhWIcWYuY\n",
        "%run /tmp/ml.py"
      ],
      "metadata": {
        "id": "lKZckhXUcUX-",
        "colab": {
          "base_uri": "https://localhost:8080/"
        },
        "outputId": "b54f1779-2903-4da9-98d1-40e6bd1c317a"
      },
      "execution_count": 1,
      "outputs": [
        {
          "output_type": "stream",
          "name": "stdout",
          "text": [
            "Downloading...\n",
            "From: https://drive.google.com/uc?id=174lBNvDBJSVWs3OpNL3a68cnhWIcWYuY\n",
            "To: /tmp/ml.py\n",
            "\r  0% 0.00/1.31k [00:00<?, ?B/s]\r100% 1.31k/1.31k [00:00<00:00, 6.37MB/s]\n"
          ]
        }
      ]
    },
    {
      "cell_type": "markdown",
      "metadata": {
        "id": "G3rQmkhfcTvK"
      },
      "source": [
        "# Hyperparameter tuning"
      ]
    },
    {
      "cell_type": "markdown",
      "metadata": {
        "id": "EfrY0H3ccTvP"
      },
      "source": [
        "In this notebook, we will use `max_depth` as an example of a hyperparameter, but there are several others like `n_neigbors` for k-Nearest Neighbor models and the regularization parameter `alpha` for Ridge Regression.\n",
        "\n",
        "In Machine Learning, **parameters** are learned 'optimally' (according to the loss function) from the training set. For example, a linear regression algorithm will learn an intercept and coefficients for a 'best' fit of a linear function on the training data. In contrast, **hyperparameters** have to be set prior to training and are therefore not optimized automatically. To optimize hyperparameters, we will have to **tune** them.\n",
        "\n",
        "We will fit a Decision Tree on the Wine dataset and tune the hyperparameter `max_depth`, but the same process works for any hyperparameter."
      ]
    },
    {
      "cell_type": "code",
      "execution_count": 2,
      "metadata": {
        "id": "PRqqIqPtcTvR"
      },
      "outputs": [],
      "source": [
        "from pipetorch import DFrame\n",
        "from sklearn.tree import DecisionTreeClassifier\n",
        "from sklearn.neighbors import KNeighborsClassifier\n",
        "from sklearn.svm import SVC\n",
        "from sklearn.linear_model import LogisticRegression\n",
        "from sklearn.preprocessing import StandardScaler\n",
        "from sklearn.model_selection import train_test_split\n",
        "from sklearn.metrics import accuracy_score\n",
        "import matplotlib.pyplot as plt\n",
        "import numpy as np"
      ]
    },
    {
      "cell_type": "code",
      "execution_count": 3,
      "metadata": {
        "id": "Yb9GYnA5cTvU",
        "outputId": "0a0ee0db-5033-43e5-f2bd-548db5634aeb",
        "colab": {
          "base_uri": "https://localhost:8080/",
          "height": 441
        }
      },
      "outputs": [
        {
          "output_type": "stream",
          "name": "stdout",
          "text": [
            "Downloading dataset uciml/red-wine-quality-cortez-et-al-2009 from kaggle to /root/.pipetorchuser/red-wine-quality-cortez-et-al-2009\n"
          ]
        },
        {
          "output_type": "execute_result",
          "data": {
            "text/plain": [
              "        pH  alcohol  quality\n",
              "0     3.51      9.4    False\n",
              "1     3.20      9.8    False\n",
              "2     3.26      9.8    False\n",
              "3     3.16      9.8     True\n",
              "4     3.51      9.4    False\n",
              "...    ...      ...      ...\n",
              "1594  3.45     10.5    False\n",
              "1595  3.52     11.2     True\n",
              "1596  3.42     11.0     True\n",
              "1597  3.57     10.2    False\n",
              "1598  3.39     11.0     True\n",
              "\n",
              "[1599 rows x 3 columns]"
            ],
            "text/html": [
              "\n",
              "  <div id=\"df-be528dab-82f0-4474-9e98-dc4e43730cdd\" class=\"colab-df-container\">\n",
              "    <div>\n",
              "<style scoped>\n",
              "    .dataframe tbody tr th:only-of-type {\n",
              "        vertical-align: middle;\n",
              "    }\n",
              "\n",
              "    .dataframe tbody tr th {\n",
              "        vertical-align: top;\n",
              "    }\n",
              "\n",
              "    .dataframe thead th {\n",
              "        text-align: right;\n",
              "    }\n",
              "</style>\n",
              "<table border=\"1\" class=\"dataframe\">\n",
              "  <thead>\n",
              "    <tr style=\"text-align: right;\">\n",
              "      <th></th>\n",
              "      <th>pH</th>\n",
              "      <th>alcohol</th>\n",
              "      <th>quality</th>\n",
              "    </tr>\n",
              "  </thead>\n",
              "  <tbody>\n",
              "    <tr>\n",
              "      <th>0</th>\n",
              "      <td>3.51</td>\n",
              "      <td>9.4</td>\n",
              "      <td>False</td>\n",
              "    </tr>\n",
              "    <tr>\n",
              "      <th>1</th>\n",
              "      <td>3.20</td>\n",
              "      <td>9.8</td>\n",
              "      <td>False</td>\n",
              "    </tr>\n",
              "    <tr>\n",
              "      <th>2</th>\n",
              "      <td>3.26</td>\n",
              "      <td>9.8</td>\n",
              "      <td>False</td>\n",
              "    </tr>\n",
              "    <tr>\n",
              "      <th>3</th>\n",
              "      <td>3.16</td>\n",
              "      <td>9.8</td>\n",
              "      <td>True</td>\n",
              "    </tr>\n",
              "    <tr>\n",
              "      <th>4</th>\n",
              "      <td>3.51</td>\n",
              "      <td>9.4</td>\n",
              "      <td>False</td>\n",
              "    </tr>\n",
              "    <tr>\n",
              "      <th>...</th>\n",
              "      <td>...</td>\n",
              "      <td>...</td>\n",
              "      <td>...</td>\n",
              "    </tr>\n",
              "    <tr>\n",
              "      <th>1594</th>\n",
              "      <td>3.45</td>\n",
              "      <td>10.5</td>\n",
              "      <td>False</td>\n",
              "    </tr>\n",
              "    <tr>\n",
              "      <th>1595</th>\n",
              "      <td>3.52</td>\n",
              "      <td>11.2</td>\n",
              "      <td>True</td>\n",
              "    </tr>\n",
              "    <tr>\n",
              "      <th>1596</th>\n",
              "      <td>3.42</td>\n",
              "      <td>11.0</td>\n",
              "      <td>True</td>\n",
              "    </tr>\n",
              "    <tr>\n",
              "      <th>1597</th>\n",
              "      <td>3.57</td>\n",
              "      <td>10.2</td>\n",
              "      <td>False</td>\n",
              "    </tr>\n",
              "    <tr>\n",
              "      <th>1598</th>\n",
              "      <td>3.39</td>\n",
              "      <td>11.0</td>\n",
              "      <td>True</td>\n",
              "    </tr>\n",
              "  </tbody>\n",
              "</table>\n",
              "<p>1599 rows × 3 columns</p>\n",
              "</div>\n",
              "    <div class=\"colab-df-buttons\">\n",
              "\n",
              "  <div class=\"colab-df-container\">\n",
              "    <button class=\"colab-df-convert\" onclick=\"convertToInteractive('df-be528dab-82f0-4474-9e98-dc4e43730cdd')\"\n",
              "            title=\"Convert this dataframe to an interactive table.\"\n",
              "            style=\"display:none;\">\n",
              "\n",
              "  <svg xmlns=\"http://www.w3.org/2000/svg\" height=\"24px\" viewBox=\"0 -960 960 960\">\n",
              "    <path d=\"M120-120v-720h720v720H120Zm60-500h600v-160H180v160Zm220 220h160v-160H400v160Zm0 220h160v-160H400v160ZM180-400h160v-160H180v160Zm440 0h160v-160H620v160ZM180-180h160v-160H180v160Zm440 0h160v-160H620v160Z\"/>\n",
              "  </svg>\n",
              "    </button>\n",
              "\n",
              "  <style>\n",
              "    .colab-df-container {\n",
              "      display:flex;\n",
              "      gap: 12px;\n",
              "    }\n",
              "\n",
              "    .colab-df-convert {\n",
              "      background-color: #E8F0FE;\n",
              "      border: none;\n",
              "      border-radius: 50%;\n",
              "      cursor: pointer;\n",
              "      display: none;\n",
              "      fill: #1967D2;\n",
              "      height: 32px;\n",
              "      padding: 0 0 0 0;\n",
              "      width: 32px;\n",
              "    }\n",
              "\n",
              "    .colab-df-convert:hover {\n",
              "      background-color: #E2EBFA;\n",
              "      box-shadow: 0px 1px 2px rgba(60, 64, 67, 0.3), 0px 1px 3px 1px rgba(60, 64, 67, 0.15);\n",
              "      fill: #174EA6;\n",
              "    }\n",
              "\n",
              "    .colab-df-buttons div {\n",
              "      margin-bottom: 4px;\n",
              "    }\n",
              "\n",
              "    [theme=dark] .colab-df-convert {\n",
              "      background-color: #3B4455;\n",
              "      fill: #D2E3FC;\n",
              "    }\n",
              "\n",
              "    [theme=dark] .colab-df-convert:hover {\n",
              "      background-color: #434B5C;\n",
              "      box-shadow: 0px 1px 3px 1px rgba(0, 0, 0, 0.15);\n",
              "      filter: drop-shadow(0px 1px 2px rgba(0, 0, 0, 0.3));\n",
              "      fill: #FFFFFF;\n",
              "    }\n",
              "  </style>\n",
              "\n",
              "    <script>\n",
              "      const buttonEl =\n",
              "        document.querySelector('#df-be528dab-82f0-4474-9e98-dc4e43730cdd button.colab-df-convert');\n",
              "      buttonEl.style.display =\n",
              "        google.colab.kernel.accessAllowed ? 'block' : 'none';\n",
              "\n",
              "      async function convertToInteractive(key) {\n",
              "        const element = document.querySelector('#df-be528dab-82f0-4474-9e98-dc4e43730cdd');\n",
              "        const dataTable =\n",
              "          await google.colab.kernel.invokeFunction('convertToInteractive',\n",
              "                                                    [key], {});\n",
              "        if (!dataTable) return;\n",
              "\n",
              "        const docLinkHtml = 'Like what you see? Visit the ' +\n",
              "          '<a target=\"_blank\" href=https://colab.research.google.com/notebooks/data_table.ipynb>data table notebook</a>'\n",
              "          + ' to learn more about interactive tables.';\n",
              "        element.innerHTML = '';\n",
              "        dataTable['output_type'] = 'display_data';\n",
              "        await google.colab.output.renderOutput(dataTable, element);\n",
              "        const docLink = document.createElement('div');\n",
              "        docLink.innerHTML = docLinkHtml;\n",
              "        element.appendChild(docLink);\n",
              "      }\n",
              "    </script>\n",
              "  </div>\n",
              "\n",
              "\n",
              "<div id=\"df-88e3962f-8776-4c55-b1b4-2086096431b4\">\n",
              "  <button class=\"colab-df-quickchart\" onclick=\"quickchart('df-88e3962f-8776-4c55-b1b4-2086096431b4')\"\n",
              "            title=\"Suggest charts.\"\n",
              "            style=\"display:none;\">\n",
              "\n",
              "<svg xmlns=\"http://www.w3.org/2000/svg\" height=\"24px\"viewBox=\"0 0 24 24\"\n",
              "     width=\"24px\">\n",
              "    <g>\n",
              "        <path d=\"M19 3H5c-1.1 0-2 .9-2 2v14c0 1.1.9 2 2 2h14c1.1 0 2-.9 2-2V5c0-1.1-.9-2-2-2zM9 17H7v-7h2v7zm4 0h-2V7h2v10zm4 0h-2v-4h2v4z\"/>\n",
              "    </g>\n",
              "</svg>\n",
              "  </button>\n",
              "\n",
              "<style>\n",
              "  .colab-df-quickchart {\n",
              "      --bg-color: #E8F0FE;\n",
              "      --fill-color: #1967D2;\n",
              "      --hover-bg-color: #E2EBFA;\n",
              "      --hover-fill-color: #174EA6;\n",
              "      --disabled-fill-color: #AAA;\n",
              "      --disabled-bg-color: #DDD;\n",
              "  }\n",
              "\n",
              "  [theme=dark] .colab-df-quickchart {\n",
              "      --bg-color: #3B4455;\n",
              "      --fill-color: #D2E3FC;\n",
              "      --hover-bg-color: #434B5C;\n",
              "      --hover-fill-color: #FFFFFF;\n",
              "      --disabled-bg-color: #3B4455;\n",
              "      --disabled-fill-color: #666;\n",
              "  }\n",
              "\n",
              "  .colab-df-quickchart {\n",
              "    background-color: var(--bg-color);\n",
              "    border: none;\n",
              "    border-radius: 50%;\n",
              "    cursor: pointer;\n",
              "    display: none;\n",
              "    fill: var(--fill-color);\n",
              "    height: 32px;\n",
              "    padding: 0;\n",
              "    width: 32px;\n",
              "  }\n",
              "\n",
              "  .colab-df-quickchart:hover {\n",
              "    background-color: var(--hover-bg-color);\n",
              "    box-shadow: 0 1px 2px rgba(60, 64, 67, 0.3), 0 1px 3px 1px rgba(60, 64, 67, 0.15);\n",
              "    fill: var(--button-hover-fill-color);\n",
              "  }\n",
              "\n",
              "  .colab-df-quickchart-complete:disabled,\n",
              "  .colab-df-quickchart-complete:disabled:hover {\n",
              "    background-color: var(--disabled-bg-color);\n",
              "    fill: var(--disabled-fill-color);\n",
              "    box-shadow: none;\n",
              "  }\n",
              "\n",
              "  .colab-df-spinner {\n",
              "    border: 2px solid var(--fill-color);\n",
              "    border-color: transparent;\n",
              "    border-bottom-color: var(--fill-color);\n",
              "    animation:\n",
              "      spin 1s steps(1) infinite;\n",
              "  }\n",
              "\n",
              "  @keyframes spin {\n",
              "    0% {\n",
              "      border-color: transparent;\n",
              "      border-bottom-color: var(--fill-color);\n",
              "      border-left-color: var(--fill-color);\n",
              "    }\n",
              "    20% {\n",
              "      border-color: transparent;\n",
              "      border-left-color: var(--fill-color);\n",
              "      border-top-color: var(--fill-color);\n",
              "    }\n",
              "    30% {\n",
              "      border-color: transparent;\n",
              "      border-left-color: var(--fill-color);\n",
              "      border-top-color: var(--fill-color);\n",
              "      border-right-color: var(--fill-color);\n",
              "    }\n",
              "    40% {\n",
              "      border-color: transparent;\n",
              "      border-right-color: var(--fill-color);\n",
              "      border-top-color: var(--fill-color);\n",
              "    }\n",
              "    60% {\n",
              "      border-color: transparent;\n",
              "      border-right-color: var(--fill-color);\n",
              "    }\n",
              "    80% {\n",
              "      border-color: transparent;\n",
              "      border-right-color: var(--fill-color);\n",
              "      border-bottom-color: var(--fill-color);\n",
              "    }\n",
              "    90% {\n",
              "      border-color: transparent;\n",
              "      border-bottom-color: var(--fill-color);\n",
              "    }\n",
              "  }\n",
              "</style>\n",
              "\n",
              "  <script>\n",
              "    async function quickchart(key) {\n",
              "      const quickchartButtonEl =\n",
              "        document.querySelector('#' + key + ' button');\n",
              "      quickchartButtonEl.disabled = true;  // To prevent multiple clicks.\n",
              "      quickchartButtonEl.classList.add('colab-df-spinner');\n",
              "      try {\n",
              "        const charts = await google.colab.kernel.invokeFunction(\n",
              "            'suggestCharts', [key], {});\n",
              "      } catch (error) {\n",
              "        console.error('Error during call to suggestCharts:', error);\n",
              "      }\n",
              "      quickchartButtonEl.classList.remove('colab-df-spinner');\n",
              "      quickchartButtonEl.classList.add('colab-df-quickchart-complete');\n",
              "    }\n",
              "    (() => {\n",
              "      let quickchartButtonEl =\n",
              "        document.querySelector('#df-88e3962f-8776-4c55-b1b4-2086096431b4 button');\n",
              "      quickchartButtonEl.style.display =\n",
              "        google.colab.kernel.accessAllowed ? 'block' : 'none';\n",
              "    })();\n",
              "  </script>\n",
              "</div>\n",
              "    </div>\n",
              "  </div>\n"
            ]
          },
          "metadata": {},
          "execution_count": 3
        }
      ],
      "source": [
        "df = DFrame.read_from_kaggle('uciml/red-wine-quality-cortez-et-al-2009')\n",
        "df['quality'] = df.quality > 5\n",
        "df = df[['pH', 'alcohol', 'quality']]\n",
        "df"
      ]
    },
    {
      "cell_type": "markdown",
      "metadata": {
        "id": "JorKzYNMcTvX"
      },
      "source": [
        "# Apply cross validation\n",
        "\n",
        "To diagnose and validate the model, you have to split the dataset in a training and validation part before training like we did before with `train_test_split`."
      ]
    },
    {
      "cell_type": "code",
      "execution_count": 4,
      "metadata": {
        "id": "LSqQ3A7OcTvY"
      },
      "outputs": [],
      "source": [
        "# Prepare the data: scale and create train_X, train_y, valid_X and valid_y\n",
        "# scale the data\n",
        "train, valid = train_test_split(df, test_size=0.2)\n",
        "\n",
        "train_X = train.drop(columns='quality').to_numpy()\n",
        "train_y = train.quality.to_numpy()\n",
        "valid_X = valid.drop(columns='quality').to_numpy()\n",
        "valid_y = valid.quality.to_numpy()\n",
        "\n",
        "scaler = StandardScaler()\n",
        "train_X = scaler.fit_transform(train_X)\n",
        "valid_X = scaler.transform(valid_X)"
      ]
    },
    {
      "cell_type": "markdown",
      "metadata": {
        "id": "apBnKzqncTvZ"
      },
      "source": [
        "# Decision Tree\n",
        "\n",
        "Fit a Decision Tree on all features with a maximum tree depth of 20. Report the accuracy of the model."
      ]
    },
    {
      "cell_type": "code",
      "execution_count": 5,
      "metadata": {
        "id": "gTXdO9zqcTvZ",
        "outputId": "78984e8a-85d4-4301-87f3-3e3e9f024d64",
        "colab": {
          "base_uri": "https://localhost:8080/"
        }
      },
      "outputs": [
        {
          "output_type": "execute_result",
          "data": {
            "text/plain": [
              "0.690625"
            ]
          },
          "metadata": {},
          "execution_count": 5
        }
      ],
      "source": [
        "# Fit a decistion tree to the dataset\n",
        "# and report the accuracy\n",
        "model = DecisionTreeClassifier(max_depth=20)\n",
        "model.fit(train_X, train_y)\n",
        "\n",
        "pred_y = model.predict(valid_X)\n",
        "accuracy_score(valid_y, pred_y)"
      ]
    },
    {
      "cell_type": "markdown",
      "metadata": {
        "id": "2HYJN1SIcTvb"
      },
      "source": [
        "# Tune max_depth\n",
        "\n",
        "We have picked a max_depth of 20, but we cannot be sure that is the optimal value for this hyperparameter. Sweep max_depth to the values 1 - 100 and plot the results."
      ]
    },
    {
      "cell_type": "code",
      "execution_count": 13,
      "metadata": {
        "id": "ut0RmuNocTvb",
        "colab": {
          "base_uri": "https://localhost:8080/"
        },
        "outputId": "1c7cd158-2f6c-4f56-b05c-a89d68b4665a"
      },
      "outputs": [
        {
          "output_type": "execute_result",
          "data": {
            "text/plain": [
              "[0.71875,\n",
              " 0.71875,\n",
              " 0.715625,\n",
              " 0.715625,\n",
              " 0.71875,\n",
              " 0.715625,\n",
              " 0.709375,\n",
              " 0.721875,\n",
              " 0.7125,\n",
              " 0.725,\n",
              " 0.73125,\n",
              " 0.709375,\n",
              " 0.715625,\n",
              " 0.715625,\n",
              " 0.696875,\n",
              " 0.690625,\n",
              " 0.684375,\n",
              " 0.69375,\n",
              " 0.690625,\n",
              " 0.696875,\n",
              " 0.69375,\n",
              " 0.69375,\n",
              " 0.696875,\n",
              " 0.68125,\n",
              " 0.6875,\n",
              " 0.68125,\n",
              " 0.684375,\n",
              " 0.68125,\n",
              " 0.684375,\n",
              " 0.684375,\n",
              " 0.684375,\n",
              " 0.684375,\n",
              " 0.6875,\n",
              " 0.68125,\n",
              " 0.684375,\n",
              " 0.68125,\n",
              " 0.6875,\n",
              " 0.684375,\n",
              " 0.684375,\n",
              " 0.68125,\n",
              " 0.68125,\n",
              " 0.684375,\n",
              " 0.6875,\n",
              " 0.68125,\n",
              " 0.684375,\n",
              " 0.6875,\n",
              " 0.68125,\n",
              " 0.6875,\n",
              " 0.6875,\n",
              " 0.68125,\n",
              " 0.68125,\n",
              " 0.6875,\n",
              " 0.684375,\n",
              " 0.68125,\n",
              " 0.684375,\n",
              " 0.68125,\n",
              " 0.6875,\n",
              " 0.684375,\n",
              " 0.684375,\n",
              " 0.684375,\n",
              " 0.68125,\n",
              " 0.684375,\n",
              " 0.684375,\n",
              " 0.684375,\n",
              " 0.684375,\n",
              " 0.684375,\n",
              " 0.6875,\n",
              " 0.684375,\n",
              " 0.684375,\n",
              " 0.68125,\n",
              " 0.6875,\n",
              " 0.68125,\n",
              " 0.684375,\n",
              " 0.684375,\n",
              " 0.684375,\n",
              " 0.684375,\n",
              " 0.684375,\n",
              " 0.684375,\n",
              " 0.684375,\n",
              " 0.6875,\n",
              " 0.68125,\n",
              " 0.68125,\n",
              " 0.68125,\n",
              " 0.68125,\n",
              " 0.68125,\n",
              " 0.6875,\n",
              " 0.68125,\n",
              " 0.6875,\n",
              " 0.684375,\n",
              " 0.684375,\n",
              " 0.684375,\n",
              " 0.68125,\n",
              " 0.684375,\n",
              " 0.68125,\n",
              " 0.684375,\n",
              " 0.684375,\n",
              " 0.684375,\n",
              " 0.684375,\n",
              " 0.6875,\n",
              " 0.684375]"
            ]
          },
          "metadata": {},
          "execution_count": 13
        }
      ],
      "source": [
        "# write a function that return the accuracy score that are obtained\n",
        "# with resp. max_depth of 1-100. Should these be on the train or valid set?\n",
        "def max_depth_accuracy_scores(X_train, y_train, X_valid, y_valid, max_depth_range):\n",
        "    accuracy_scores = []\n",
        "\n",
        "    for max_depth in max_depth_range:\n",
        "        model = DecisionTreeClassifier(max_depth=max_depth)\n",
        "\n",
        "        model.fit(X_train, y_train)\n",
        "\n",
        "        y_pred = model.predict(X_valid)\n",
        "\n",
        "        accuracy = accuracy_score(y_valid, y_pred)\n",
        "        accuracy_scores.append(accuracy)\n",
        "\n",
        "    return accuracy_scores\n",
        "\n",
        "accuracy_scores = max_depth_accuracy_scores(train_X, train_y, valid_X, valid_y, range(1, 101))\n",
        "accuracy_scores"
      ]
    },
    {
      "cell_type": "markdown",
      "metadata": {
        "id": "CxPALBizcTvc"
      },
      "source": [
        "When we plot this data as a graph, it is not very straightforward to read with its sawtooth shape. There may be a local optimum, but when we repeat the experiment, it may be somewhere else."
      ]
    },
    {
      "cell_type": "code",
      "execution_count": 14,
      "metadata": {
        "id": "--5SEI1AcTvd",
        "outputId": "b6a0234a-e6ae-4fde-9403-333845c16c53",
        "colab": {
          "base_uri": "https://localhost:8080/",
          "height": 564
        }
      },
      "outputs": [
        {
          "output_type": "display_data",
          "data": {
            "text/plain": [
              "<Figure size 1000x600 with 1 Axes>"
            ],
            "image/png": "[encoded data removed]"
          },
          "metadata": {}
        }
      ],
      "source": [
        "# plot a graph of the accuracy scores over max_depth\n",
        "max_depth_range = range(1, 101)\n",
        "plt.figure(figsize=(10, 6))\n",
        "plt.plot(max_depth_range, accuracy_scores, marker='o', linestyle='-', color='b')\n",
        "plt.title('Accuracy vs. Max Depth')\n",
        "plt.xlabel('Max Depth')\n",
        "plt.ylabel('Accuracy')\n",
        "plt.grid(True)\n",
        "plt.xticks(range(1, 101, 5))  # Adjust x-axis ticks as needed\n",
        "plt.show()"
      ]
    },
    {
      "cell_type": "markdown",
      "metadata": {
        "id": "bJQOGz72cTve"
      },
      "source": [
        "# Bootstrapping\n",
        "\n",
        "In this case it may be a bit hard to interpret what the best setting is. There is a sampling bias that causes the optimal value to sometimes be at a high maximum depth, and sometimes at a lower. One way to cancel out the sampling bias is to perform a **bootstrap**: we can estimate the accuracy_score by repeating the experiment `n` times, resampling the train-test split from the original dataset ang taking the average accuracy_score. This reveals that up until max_depth=15 the model improves, and after that the results are comparable. A possible explanation for not improving further is that there are only 11 features in this dataset and using a higher max_depth does not really do anything.\n",
        "\n",
        "Most common in hyperparameter tuning is that there is an optimal region, before and after which results are suboptimal, possibly due to an effect that we call underfitting and overfitting."
      ]
    },
    {
      "cell_type": "code",
      "execution_count": null,
      "metadata": {
        "id": "nEueDmKucTvf",
        "outputId": "60d86a62-16f6-420d-b015-94c579e3e99e"
      },
      "outputs": [
        {
          "data": {
            "image/png": "[encoded data removed]",
            "text/plain": [
              "<Figure size 432x288 with 1 Axes>"
            ]
          },
          "metadata": {
            "needs_background": "light"
          },
          "output_type": "display_data"
        }
      ],
      "source": [
        "# Perform a bootstrapping experiment, trying each max_depth 20 times\n",
        "# and taking the average accuracy over those 20 trials\n",
        "# A scatter plot may be easier to read\n",
        "# Enter your code here"
      ]
    },
    {
      "cell_type": "markdown",
      "metadata": {
        "id": "qBWb2GU_cTvf"
      },
      "source": [
        "# SVM\n",
        "\n",
        "Now we will do the same for a Support Vector Machine. One of its hyperparameters is a regularization setting, that has a standard value of 1.0. Repeat the above steps with the following exceptions:\n",
        "- instantiate an SVC with C set to the given value."
      ]
    },
    {
      "cell_type": "code",
      "execution_count": null,
      "metadata": {
        "id": "IVAb763GcTvg"
      },
      "outputs": [],
      "source": [
        "# complete this function that sweeps values for C\n",
        "# and for each value fits and SVC and returns the accuracy score\n",
        "def svc_accuracy_scores():\n",
        "    accuracy_scores = []\n",
        "    for C in np.linspace(1.0, 10.0, 20):\n",
        "# Enter your code here"
      ]
    },
    {
      "cell_type": "markdown",
      "metadata": {
        "id": "0L7w1fMhcTvh"
      },
      "source": [
        "Now with an SVM you will see that the default setting C=1.0 already obtains a slightly higher accuracy over the decision tree. When we tune the parameter C, it appears that a better setting is around C=6.0 ... 7.0 increasing the performance by one percent."
      ]
    },
    {
      "cell_type": "code",
      "execution_count": null,
      "metadata": {
        "id": "p6jJVqMkcTvh"
      },
      "outputs": [],
      "source": [
        "# again, bootstrap the SVC experiment to get a more smooth analysis of\n",
        "# where the optimum value for C is\n",
        "# Enter your code here"
      ]
    },
    {
      "cell_type": "code",
      "execution_count": null,
      "metadata": {
        "id": "vVZG7uNocTvi"
      },
      "outputs": [],
      "source": [
        "halt_notebook()"
      ]
    }
  ],
  "metadata": {
    "kernelspec": {
      "display_name": "python3",
      "language": "python",
      "name": "python3"
    },
    "language_info": {
      "codemirror_mode": {
        "name": "ipython",
        "version": 3
      },
      "file_extension": ".py",
      "mimetype": "text/x-python",
      "name": "python",
      "nbconvert_exporter": "python",
      "pygments_lexer": "ipython3",
      "version": "3.9.12"
    },
    "toc": {
      "base_numbering": 1,
      "nav_menu": {},
      "number_sections": true,
      "sideBar": true,
      "skip_h1_title": true,
      "title_cell": "Table of Contents",
      "title_sidebar": "Contents",
      "toc_cell": false,
      "toc_position": {},
      "toc_section_display": true,
      "toc_window_display": false
    },
    "varInspector": {
      "cols": {
        "lenName": 16,
        "lenType": 16,
        "lenVar": 40
      },
      "kernels_config": {
        "python": {
          "delete_cmd_postfix": "",
          "delete_cmd_prefix": "del ",
          "library": "var_list.py",
          "varRefreshCmd": "print(var_dic_list())"
        },
        "r": {
          "delete_cmd_postfix": ") ",
          "delete_cmd_prefix": "rm(",
          "library": "var_list.r",
          "varRefreshCmd": "cat(var_dic_list()) "
        }
      },
      "types_to_exclude": [
        "module",
        "function",
        "builtin_function_or_method",
        "instance",
        "_Feature"
      ],
      "window_display": false
    },
    "colab": {
      "provenance": [],
      "include_colab_link": true
    }
  },
  "nbformat": 4,
  "nbformat_minor": 0
}