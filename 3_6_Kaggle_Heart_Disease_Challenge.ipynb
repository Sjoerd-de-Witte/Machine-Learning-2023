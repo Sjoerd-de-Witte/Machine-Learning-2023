{
  "cells": [
    {
      "cell_type": "markdown",
      "metadata": {
        "id": "view-in-github",
        "colab_type": "text"
      },
      "source": [
        "<a href=\"https://colab.research.google.com/github/Sjoerd-de-Witte/Machine-Learning-2023/blob/main/3_6_Kaggle_Heart_Disease_Challenge.ipynb\" target=\"_parent\"><img src=\"https://colab.research.google.com/assets/colab-badge.svg\" alt=\"Open In Colab\"/></a>"
      ]
    },
    {
      "cell_type": "code",
      "source": [
        "!gdown -O /tmp/ml.py 174lBNvDBJSVWs3OpNL3a68cnhWIcWYuY\n",
        "%run /tmp/ml.py"
      ],
      "metadata": {
        "id": "t9Dn3uxShg5z",
        "colab": {
          "base_uri": "https://localhost:8080/"
        },
        "outputId": "0289d1d9-7fc9-4006-b78c-cfc028f7459a"
      },
      "id": "t9Dn3uxShg5z",
      "execution_count": 2,
      "outputs": [
        {
          "output_type": "stream",
          "name": "stdout",
          "text": [
            "Downloading...\n",
            "From: https://drive.google.com/uc?id=174lBNvDBJSVWs3OpNL3a68cnhWIcWYuY\n",
            "To: /tmp/ml.py\n",
            "\r  0% 0.00/1.31k [00:00<?, ?B/s]\r100% 1.31k/1.31k [00:00<00:00, 4.34MB/s]\n"
          ]
        }
      ]
    },
    {
      "cell_type": "markdown",
      "id": "6bf84b5e",
      "metadata": {
        "id": "6bf84b5e"
      },
      "source": [
        "# Kaggle Heart Disease\n",
        "\n",
        "Participate in the Kaggle Heart Disease Binary Classification challenge: https://www.kaggle.com/c/mlms1/overview\n",
        "\n",
        "Train and validate two different classification models. You can choose which, for example Logistic Regression, SVM, Decision Tree, kNN, Random Forest, ... and make sure you apply validation to make sure the model is working as expected (not underfitting or overfitting) and have your hyperparameters tuned. It appears that accuracy is used as the metric to optimize for this competition, so evaluate the models and choose the best performing model to submit to Kaggle."
      ]
    },
    {
      "cell_type": "code",
      "execution_count": 3,
      "id": "a8feacb3",
      "metadata": {
        "id": "a8feacb3"
      },
      "outputs": [],
      "source": [
        "from pipetorch import DFrame\n",
        "from pipetorch.evaluate.study import Study\n",
        "from sklearn.tree import DecisionTreeClassifier\n",
        "from sklearn.ensemble import RandomForestClassifier\n",
        "from sklearn.linear_model import LogisticRegression\n",
        "from sklearn.metrics import accuracy_score\n",
        "from sklearn.model_selection import train_test_split"
      ]
    },
    {
      "cell_type": "markdown",
      "id": "135972a8",
      "metadata": {
        "id": "135972a8"
      },
      "source": [
        "You can use the code below to load the training set for this task. The target variable is called 'target'."
      ]
    },
    {
      "cell_type": "code",
      "execution_count": 4,
      "id": "bc04d054",
      "metadata": {
        "id": "bc04d054",
        "colab": {
          "base_uri": "https://localhost:8080/"
        },
        "outputId": "c671c565-d141-4abe-f13e-6133d5061d55"
      },
      "outputs": [
        {
          "output_type": "stream",
          "name": "stdout",
          "text": [
            "Downloading competition mlms1 from kaggle to /root/.pipetorchuser/mlms1\n"
          ]
        }
      ],
      "source": [
        "df = DFrame.read_from_kaggle('mlms1', 'train.csv', 'test_set.csv')"
      ]
    },
    {
      "cell_type": "markdown",
      "id": "996133b3",
      "metadata": {
        "id": "996133b3"
      },
      "source": [
        "# Test set\n",
        "\n",
        "Kaggle competitions usually have separate train and test files. The test.csv does not contain a ground truth to avoid cheating. You should split the train file into a train/valid part allowing to optimize the generalization of the model (after all, you want to perform optimally on the test set). You should do all optimization on the train/valid split without peeking at the test set. Then when you are satisfied, exactly replicate all preprocessing to the test set, compute the scores and submit these to Kaggle to see how well you did.\n",
        "\n",
        "PipeTorch will make life a bit easier. The train and test parts are combined in one DataFrame, so that any preprocessing on the train set is automatically replicated on the valid and test set. The valid and test set are always kept isolated though, so any statistic used for scaling, balancing, handling categorical variables will be based solely on the train set, you do not have to worry about leaking test data. Do be careful that dropping rows with missing values will affect the test set (and that is probably not what you want). You can address these subsets as `df.train`, `df.valid` and `df.test`. You should not peek at the test set, and only use it to generate results when the model is final."
      ]
    },
    {
      "cell_type": "markdown",
      "id": "fa56c9ad",
      "metadata": {
        "id": "fa56c9ad"
      },
      "source": [
        "# Feature selection\n",
        "\n",
        "Previously, we have simply selected features in the dataset by slicing. In this case, we want to keep the `id` to submit results. To use all other features except the target variable(s) and `id`, you can use `columnx` with an `omit=True` on the `id`. This will keep the column in the DataFrame, but not use it in training."
      ]
    },
    {
      "cell_type": "code",
      "execution_count": 9,
      "id": "d150dd6a",
      "metadata": {
        "id": "d150dd6a"
      },
      "outputs": [],
      "source": [
        "df = df.columny('target').columnx('id', omit=True).split(valid_size=0.3)"
      ]
    },
    {
      "cell_type": "markdown",
      "id": "871a7d46",
      "metadata": {
        "id": "871a7d46"
      },
      "source": [
        "# Prepare the data\n",
        "\n",
        "I this case, you may not want to slice out the columns you do not use. When we submit the results to Kaggle, we need the `Id`'s of these houses, but we do not want to use that as an input feature. You can use `columnx()` and `columny()` to keep all columns, but use only those features in your experiment. You can also invert the feature selection by using `columnx(omit=True)` and the target variables are omitted by default."
      ]
    },
    {
      "cell_type": "code",
      "execution_count": 10,
      "id": "ad656cb1",
      "metadata": {
        "id": "ad656cb1"
      },
      "outputs": [],
      "source": [
        "# balance and scale the data\n",
        "\n",
        "from sklearn.preprocessing import StandardScaler\n",
        "scale = StandardScaler()\n",
        "scale.fit(df.train_X)\n",
        "train_X = scale.transform(df.train_X)\n",
        "valid_X = scale.transform(df.valid_X)"
      ]
    },
    {
      "cell_type": "markdown",
      "id": "a46ed52e",
      "metadata": {
        "cell_style": "center",
        "id": "a46ed52e"
      },
      "source": [
        "# Learn an optimal classifier\n",
        "\n",
        "(e.g. SVM, decision tree, ...) and validate the model (tune the hyperparameters)"
      ]
    },
    {
      "cell_type": "code",
      "execution_count": 11,
      "id": "a04c0c9f",
      "metadata": {
        "id": "a04c0c9f",
        "outputId": "16e5dc5f-c013-40f5-e3f4-eee92dbc59d2",
        "colab": {
          "base_uri": "https://localhost:8080/"
        }
      },
      "outputs": [
        {
          "output_type": "stream",
          "name": "stderr",
          "text": [
            "[I 2023-10-03 10:35:57,082] A new study created in memory with name: no-name-6b0222de-9c74-4d13-bd1f-e29bc9f1fd0f\n",
            "[I 2023-10-03 10:35:57,381] Trial 0 finished with value: 0.9285714285714286 and parameters: {'depth': 55}. Best is trial 0 with value: 0.9285714285714286.\n",
            "[I 2023-10-03 10:35:57,858] Trial 1 finished with value: 0.8571428571428571 and parameters: {'depth': 135}. Best is trial 0 with value: 0.9285714285714286.\n",
            "[I 2023-10-03 10:35:58,183] Trial 2 finished with value: 0.8571428571428571 and parameters: {'depth': 95}. Best is trial 0 with value: 0.9285714285714286.\n",
            "[I 2023-10-03 10:35:58,542] Trial 3 finished with value: 0.7857142857142857 and parameters: {'depth': 125}. Best is trial 0 with value: 0.9285714285714286.\n",
            "[I 2023-10-03 10:35:58,879] Trial 4 finished with value: 1.0 and parameters: {'depth': 15}. Best is trial 4 with value: 1.0.\n",
            "[I 2023-10-03 10:35:59,222] Trial 5 finished with value: 0.8571428571428571 and parameters: {'depth': 70}. Best is trial 4 with value: 1.0.\n",
            "[I 2023-10-03 10:35:59,565] Trial 6 finished with value: 0.8571428571428571 and parameters: {'depth': 115}. Best is trial 4 with value: 1.0.\n",
            "[I 2023-10-03 10:35:59,903] Trial 7 finished with value: 0.7857142857142857 and parameters: {'depth': 90}. Best is trial 4 with value: 1.0.\n",
            "[I 2023-10-03 10:36:00,260] Trial 8 finished with value: 0.8571428571428571 and parameters: {'depth': 120}. Best is trial 4 with value: 1.0.\n",
            "[I 2023-10-03 10:36:00,599] Trial 9 finished with value: 0.8571428571428571 and parameters: {'depth': 145}. Best is trial 4 with value: 1.0.\n",
            "[I 2023-10-03 10:36:00,943] Trial 10 finished with value: 0.9285714285714286 and parameters: {'depth': 15}. Best is trial 4 with value: 1.0.\n",
            "[I 2023-10-03 10:36:01,278] Trial 11 finished with value: 0.7857142857142857 and parameters: {'depth': 55}. Best is trial 4 with value: 1.0.\n",
            "[I 2023-10-03 10:36:01,630] Trial 12 finished with value: 0.8571428571428571 and parameters: {'depth': 15}. Best is trial 4 with value: 1.0.\n",
            "[I 2023-10-03 10:36:01,967] Trial 13 finished with value: 0.8571428571428571 and parameters: {'depth': 55}. Best is trial 4 with value: 1.0.\n",
            "[I 2023-10-03 10:36:02,318] Trial 14 finished with value: 0.8571428571428571 and parameters: {'depth': 50}. Best is trial 4 with value: 1.0.\n",
            "[I 2023-10-03 10:36:02,657] Trial 15 finished with value: 0.8571428571428571 and parameters: {'depth': 65}. Best is trial 4 with value: 1.0.\n",
            "[I 2023-10-03 10:36:02,990] Trial 16 finished with value: 0.8571428571428571 and parameters: {'depth': 105}. Best is trial 4 with value: 1.0.\n",
            "[I 2023-10-03 10:36:03,332] Trial 17 finished with value: 0.7857142857142857 and parameters: {'depth': 130}. Best is trial 4 with value: 1.0.\n",
            "[I 2023-10-03 10:36:03,668] Trial 18 finished with value: 0.8571428571428571 and parameters: {'depth': 10}. Best is trial 4 with value: 1.0.\n",
            "[I 2023-10-03 10:36:04,021] Trial 19 finished with value: 0.9285714285714286 and parameters: {'depth': 140}. Best is trial 4 with value: 1.0.\n",
            "[I 2023-10-03 10:36:04,363] Trial 20 finished with value: 0.7857142857142857 and parameters: {'depth': 80}. Best is trial 4 with value: 1.0.\n",
            "[I 2023-10-03 10:36:04,715] Trial 21 finished with value: 1.0 and parameters: {'depth': 25}. Best is trial 4 with value: 1.0.\n",
            "[I 2023-10-03 10:36:05,050] Trial 22 finished with value: 0.8571428571428571 and parameters: {'depth': 60}. Best is trial 4 with value: 1.0.\n",
            "[I 2023-10-03 10:36:05,386] Trial 23 finished with value: 0.9285714285714286 and parameters: {'depth': 25}. Best is trial 4 with value: 1.0.\n",
            "[I 2023-10-03 10:36:05,733] Trial 24 finished with value: 1.0 and parameters: {'depth': 110}. Best is trial 4 with value: 1.0.\n",
            "[I 2023-10-03 10:36:06,063] Trial 25 finished with value: 0.7857142857142857 and parameters: {'depth': 110}. Best is trial 4 with value: 1.0.\n",
            "[I 2023-10-03 10:36:06,552] Trial 26 finished with value: 0.9285714285714286 and parameters: {'depth': 75}. Best is trial 4 with value: 1.0.\n",
            "[I 2023-10-03 10:36:07,031] Trial 27 finished with value: 0.9285714285714286 and parameters: {'depth': 45}. Best is trial 4 with value: 1.0.\n",
            "[I 2023-10-03 10:36:07,515] Trial 28 finished with value: 0.9285714285714286 and parameters: {'depth': 85}. Best is trial 4 with value: 1.0.\n",
            "[I 2023-10-03 10:36:08,035] Trial 29 finished with value: 1.0 and parameters: {'depth': 30}. Best is trial 4 with value: 1.0.\n",
            "[I 2023-10-03 10:36:08,544] Trial 30 finished with value: 0.7857142857142857 and parameters: {'depth': 100}. Best is trial 4 with value: 1.0.\n",
            "[I 2023-10-03 10:36:09,039] Trial 31 finished with value: 0.8571428571428571 and parameters: {'depth': 30}. Best is trial 4 with value: 1.0.\n",
            "[I 2023-10-03 10:36:09,549] Trial 32 finished with value: 0.8571428571428571 and parameters: {'depth': 20}. Best is trial 4 with value: 1.0.\n",
            "[I 2023-10-03 10:36:10,165] Trial 33 finished with value: 0.9285714285714286 and parameters: {'depth': 35}. Best is trial 4 with value: 1.0.\n",
            "[I 2023-10-03 10:36:10,805] Trial 34 finished with value: 0.8571428571428571 and parameters: {'depth': 40}. Best is trial 4 with value: 1.0.\n",
            "[I 2023-10-03 10:36:11,396] Trial 35 finished with value: 0.9285714285714286 and parameters: {'depth': 30}. Best is trial 4 with value: 1.0.\n",
            "[I 2023-10-03 10:36:12,009] Trial 36 finished with value: 0.9285714285714286 and parameters: {'depth': 25}. Best is trial 4 with value: 1.0.\n",
            "[I 2023-10-03 10:36:12,478] Trial 37 finished with value: 0.8571428571428571 and parameters: {'depth': 110}. Best is trial 4 with value: 1.0.\n",
            "[I 2023-10-03 10:36:12,971] Trial 38 finished with value: 0.7857142857142857 and parameters: {'depth': 135}. Best is trial 4 with value: 1.0.\n",
            "[I 2023-10-03 10:36:13,466] Trial 39 finished with value: 0.9285714285714286 and parameters: {'depth': 125}. Best is trial 4 with value: 1.0.\n",
            "[I 2023-10-03 10:36:13,973] Trial 40 finished with value: 0.9285714285714286 and parameters: {'depth': 95}. Best is trial 4 with value: 1.0.\n",
            "[I 2023-10-03 10:36:14,495] Trial 41 finished with value: 1.0 and parameters: {'depth': 70}. Best is trial 4 with value: 1.0.\n",
            "[I 2023-10-03 10:36:15,007] Trial 42 finished with value: 0.8571428571428571 and parameters: {'depth': 70}. Best is trial 4 with value: 1.0.\n",
            "[I 2023-10-03 10:36:15,485] Trial 43 finished with value: 1.0 and parameters: {'depth': 70}. Best is trial 4 with value: 1.0.\n",
            "[I 2023-10-03 10:36:15,828] Trial 44 finished with value: 0.8571428571428571 and parameters: {'depth': 15}. Best is trial 4 with value: 1.0.\n",
            "[I 2023-10-03 10:36:16,165] Trial 45 finished with value: 0.8571428571428571 and parameters: {'depth': 115}. Best is trial 4 with value: 1.0.\n",
            "[I 2023-10-03 10:36:16,509] Trial 46 finished with value: 0.9285714285714286 and parameters: {'depth': 145}. Best is trial 4 with value: 1.0.\n",
            "[I 2023-10-03 10:36:16,844] Trial 47 finished with value: 0.7857142857142857 and parameters: {'depth': 90}. Best is trial 4 with value: 1.0.\n",
            "[I 2023-10-03 10:36:17,182] Trial 48 finished with value: 0.9285714285714286 and parameters: {'depth': 25}. Best is trial 4 with value: 1.0.\n",
            "[I 2023-10-03 10:36:17,535] Trial 49 finished with value: 0.8571428571428571 and parameters: {'depth': 120}. Best is trial 4 with value: 1.0.\n",
            "[I 2023-10-03 10:36:17,876] Trial 50 finished with value: 0.8571428571428571 and parameters: {'depth': 30}. Best is trial 4 with value: 1.0.\n",
            "[I 2023-10-03 10:36:18,213] Trial 51 finished with value: 0.8571428571428571 and parameters: {'depth': 70}. Best is trial 4 with value: 1.0.\n",
            "[I 2023-10-03 10:36:18,548] Trial 52 finished with value: 0.8571428571428571 and parameters: {'depth': 70}. Best is trial 4 with value: 1.0.\n",
            "[I 2023-10-03 10:36:18,892] Trial 53 finished with value: 1.0 and parameters: {'depth': 70}. Best is trial 4 with value: 1.0.\n",
            "[I 2023-10-03 10:36:19,236] Trial 54 finished with value: 0.7857142857142857 and parameters: {'depth': 15}. Best is trial 4 with value: 1.0.\n",
            "[I 2023-10-03 10:36:19,571] Trial 55 finished with value: 0.7857142857142857 and parameters: {'depth': 110}. Best is trial 4 with value: 1.0.\n",
            "[I 2023-10-03 10:36:19,907] Trial 56 finished with value: 1.0 and parameters: {'depth': 50}. Best is trial 4 with value: 1.0.\n",
            "[I 2023-10-03 10:36:20,258] Trial 57 finished with value: 0.9285714285714286 and parameters: {'depth': 65}. Best is trial 4 with value: 1.0.\n",
            "[I 2023-10-03 10:36:20,592] Trial 58 finished with value: 0.9285714285714286 and parameters: {'depth': 105}. Best is trial 4 with value: 1.0.\n",
            "[I 2023-10-03 10:36:20,923] Trial 59 finished with value: 0.8571428571428571 and parameters: {'depth': 130}. Best is trial 4 with value: 1.0.\n",
            "[I 2023-10-03 10:36:21,266] Trial 60 finished with value: 1.0 and parameters: {'depth': 55}. Best is trial 4 with value: 1.0.\n",
            "[I 2023-10-03 10:36:21,607] Trial 61 finished with value: 0.7142857142857143 and parameters: {'depth': 70}. Best is trial 4 with value: 1.0.\n",
            "[I 2023-10-03 10:36:22,035] Trial 62 finished with value: 0.8571428571428571 and parameters: {'depth': 70}. Best is trial 4 with value: 1.0.\n",
            "[I 2023-10-03 10:36:22,522] Trial 63 finished with value: 1.0 and parameters: {'depth': 10}. Best is trial 4 with value: 1.0.\n",
            "[I 2023-10-03 10:36:23,000] Trial 64 finished with value: 0.9285714285714286 and parameters: {'depth': 80}. Best is trial 4 with value: 1.0.\n",
            "[I 2023-10-03 10:36:23,481] Trial 65 finished with value: 1.0 and parameters: {'depth': 70}. Best is trial 4 with value: 1.0.\n",
            "[I 2023-10-03 10:36:23,970] Trial 66 finished with value: 0.8571428571428571 and parameters: {'depth': 140}. Best is trial 4 with value: 1.0.\n",
            "[I 2023-10-03 10:36:24,841] Trial 67 finished with value: 0.8571428571428571 and parameters: {'depth': 45}. Best is trial 4 with value: 1.0.\n",
            "[I 2023-10-03 10:36:25,347] Trial 68 finished with value: 0.9285714285714286 and parameters: {'depth': 60}. Best is trial 4 with value: 1.0.\n",
            "[I 2023-10-03 10:36:25,855] Trial 69 finished with value: 0.9285714285714286 and parameters: {'depth': 85}. Best is trial 4 with value: 1.0.\n",
            "[I 2023-10-03 10:36:26,359] Trial 70 finished with value: 0.8571428571428571 and parameters: {'depth': 100}. Best is trial 4 with value: 1.0.\n",
            "[I 2023-10-03 10:36:26,840] Trial 71 finished with value: 1.0 and parameters: {'depth': 50}. Best is trial 4 with value: 1.0.\n",
            "[I 2023-10-03 10:36:27,179] Trial 72 finished with value: 0.9285714285714286 and parameters: {'depth': 50}. Best is trial 4 with value: 1.0.\n",
            "[I 2023-10-03 10:36:27,527] Trial 73 finished with value: 0.8571428571428571 and parameters: {'depth': 20}. Best is trial 4 with value: 1.0.\n",
            "[I 2023-10-03 10:36:27,863] Trial 74 finished with value: 0.8571428571428571 and parameters: {'depth': 35}. Best is trial 4 with value: 1.0.\n",
            "[I 2023-10-03 10:36:28,196] Trial 75 finished with value: 0.8571428571428571 and parameters: {'depth': 75}. Best is trial 4 with value: 1.0.\n",
            "[I 2023-10-03 10:36:28,541] Trial 76 finished with value: 0.9285714285714286 and parameters: {'depth': 25}. Best is trial 4 with value: 1.0.\n",
            "[I 2023-10-03 10:36:28,886] Trial 77 finished with value: 0.8571428571428571 and parameters: {'depth': 40}. Best is trial 4 with value: 1.0.\n",
            "[I 2023-10-03 10:36:29,226] Trial 78 finished with value: 0.9285714285714286 and parameters: {'depth': 110}. Best is trial 4 with value: 1.0.\n",
            "[I 2023-10-03 10:36:29,568] Trial 79 finished with value: 0.9285714285714286 and parameters: {'depth': 135}. Best is trial 4 with value: 1.0.\n",
            "[I 2023-10-03 10:36:29,908] Trial 80 finished with value: 0.7857142857142857 and parameters: {'depth': 30}. Best is trial 4 with value: 1.0.\n",
            "[I 2023-10-03 10:36:30,241] Trial 81 finished with value: 0.7142857142857143 and parameters: {'depth': 55}. Best is trial 4 with value: 1.0.\n",
            "[I 2023-10-03 10:36:30,579] Trial 82 finished with value: 0.8571428571428571 and parameters: {'depth': 15}. Best is trial 4 with value: 1.0.\n",
            "[I 2023-10-03 10:36:30,915] Trial 83 finished with value: 0.8571428571428571 and parameters: {'depth': 95}. Best is trial 4 with value: 1.0.\n",
            "[I 2023-10-03 10:36:31,252] Trial 84 finished with value: 0.9285714285714286 and parameters: {'depth': 55}. Best is trial 4 with value: 1.0.\n",
            "[I 2023-10-03 10:36:31,598] Trial 85 finished with value: 0.9285714285714286 and parameters: {'depth': 50}. Best is trial 4 with value: 1.0.\n",
            "[I 2023-10-03 10:36:31,939] Trial 86 finished with value: 0.9285714285714286 and parameters: {'depth': 55}. Best is trial 4 with value: 1.0.\n",
            "[I 2023-10-03 10:36:32,272] Trial 87 finished with value: 0.9285714285714286 and parameters: {'depth': 70}. Best is trial 4 with value: 1.0.\n",
            "[I 2023-10-03 10:36:32,615] Trial 88 finished with value: 0.8571428571428571 and parameters: {'depth': 125}. Best is trial 4 with value: 1.0.\n",
            "[I 2023-10-03 10:36:32,956] Trial 89 finished with value: 0.9285714285714286 and parameters: {'depth': 90}. Best is trial 4 with value: 1.0.\n",
            "[I 2023-10-03 10:36:33,303] Trial 90 finished with value: 0.9285714285714286 and parameters: {'depth': 115}. Best is trial 4 with value: 1.0.\n",
            "[I 2023-10-03 10:36:33,647] Trial 91 finished with value: 0.8571428571428571 and parameters: {'depth': 145}. Best is trial 4 with value: 1.0.\n",
            "[I 2023-10-03 10:36:33,995] Trial 92 finished with value: 0.7857142857142857 and parameters: {'depth': 10}. Best is trial 4 with value: 1.0.\n",
            "[I 2023-10-03 10:36:34,327] Trial 93 finished with value: 0.9285714285714286 and parameters: {'depth': 10}. Best is trial 4 with value: 1.0.\n",
            "[I 2023-10-03 10:36:34,676] Trial 94 finished with value: 0.9285714285714286 and parameters: {'depth': 120}. Best is trial 4 with value: 1.0.\n",
            "[I 2023-10-03 10:36:35,014] Trial 95 finished with value: 0.8571428571428571 and parameters: {'depth': 10}. Best is trial 4 with value: 1.0.\n",
            "[I 2023-10-03 10:36:35,360] Trial 96 finished with value: 1.0 and parameters: {'depth': 25}. Best is trial 4 with value: 1.0.\n",
            "[I 2023-10-03 10:36:35,706] Trial 97 finished with value: 0.9285714285714286 and parameters: {'depth': 70}. Best is trial 4 with value: 1.0.\n",
            "[I 2023-10-03 10:36:36,043] Trial 98 finished with value: 0.8571428571428571 and parameters: {'depth': 110}. Best is trial 4 with value: 1.0.\n",
            "[I 2023-10-03 10:36:36,393] Trial 99 finished with value: 0.9285714285714286 and parameters: {'depth': 65}. Best is trial 4 with value: 1.0.\n"
          ]
        }
      ],
      "source": [
        "study = Study.create_study('accuracy')\n",
        "\n",
        "def trial(trial):\n",
        "    degree = trial.suggest_categorical('depth',list(range(10,150,5)))\n",
        "    model = RandomForestClassifier(max_depth=degree)\n",
        "    model.fit(train_X, df.train_y)\n",
        "\n",
        "    pred_y = model.predict(train_X)\n",
        "    accuracy_train = accuracy_score(df.train_y, pred_y)\n",
        "\n",
        "    pred_y = model.predict(valid_X)\n",
        "    accuracy_valid = accuracy_score(df.valid_y, pred_y)\n",
        "\n",
        "    return accuracy_valid\n",
        "\n",
        "study.optimize(trial, n_trials = 100)"
      ]
    },
    {
      "cell_type": "code",
      "execution_count": 12,
      "id": "4a5f23fe",
      "metadata": {
        "id": "4a5f23fe",
        "outputId": "b1ed3414-420a-40d8-b3d8-4c851acee14d",
        "colab": {
          "base_uri": "https://localhost:8080/",
          "height": 391
        }
      },
      "outputs": [
        {
          "output_type": "display_data",
          "data": {
            "text/plain": [
              "<Figure size 400x400 with 1 Axes>"
            ],
            "image/png": "[encoded data removed]"
          },
          "metadata": {}
        }
      ],
      "source": [
        "# plot the hyperparameters\n",
        "study.plot_hyperparameters()"
      ]
    },
    {
      "cell_type": "markdown",
      "id": "c0314488",
      "metadata": {
        "id": "c0314488"
      },
      "source": [
        "# Learn another classifier\n",
        "\n",
        "(e.g. Logistic Regression) and validate the model"
      ]
    },
    {
      "cell_type": "code",
      "execution_count": 13,
      "id": "35c1f464",
      "metadata": {
        "id": "35c1f464",
        "outputId": "2f3cbc8e-d198-4374-f11d-d467d85fba44",
        "colab": {
          "base_uri": "https://localhost:8080/"
        }
      },
      "outputs": [
        {
          "output_type": "stream",
          "name": "stdout",
          "text": [
            "0.7857142857142857\n"
          ]
        },
        {
          "output_type": "stream",
          "name": "stderr",
          "text": [
            "/usr/local/lib/python3.10/dist-packages/sklearn/linear_model/_logistic.py:458: ConvergenceWarning: lbfgs failed to converge (status=1):\n",
            "STOP: TOTAL NO. of ITERATIONS REACHED LIMIT.\n",
            "\n",
            "Increase the number of iterations (max_iter) or scale the data as shown in:\n",
            "    https://scikit-learn.org/stable/modules/preprocessing.html\n",
            "Please also refer to the documentation for alternative solver options:\n",
            "    https://scikit-learn.org/stable/modules/linear_model.html#logistic-regression\n",
            "  n_iter_i = _check_optimize_result(\n"
          ]
        }
      ],
      "source": [
        "lr = LogisticRegression()\n",
        "lr.fit(df.train_X, df.train_y)\n",
        "pred_y = lr.predict(df.valid_X)\n",
        "print(accuracy_score(df.valid_y, pred_y))"
      ]
    },
    {
      "cell_type": "markdown",
      "id": "e0e513b2",
      "metadata": {
        "id": "e0e513b2"
      },
      "source": [
        "# Compare the accuracy of these two models"
      ]
    },
    {
      "cell_type": "markdown",
      "id": "0fb54040",
      "metadata": {
        "id": "0fb54040"
      },
      "source": [
        "# Submission\n",
        "\n",
        "To submit you results, you have to create a .csv file for the test set. You can follow these steps. You can generate predictions on the test set the same way you do for the train and valid set. You can fill in these results in the target variable column of the test set and use the .to_csv to export what is needed to a .csv file."
      ]
    },
    {
      "cell_type": "code",
      "execution_count": 14,
      "id": "150981af",
      "metadata": {
        "id": "150981af"
      },
      "outputs": [],
      "source": [
        "# generate predictions of the model that was trained on the training set\n",
        "# do not learn a new model here!\n",
        "y_pred = lr.predict(df.test_X)"
      ]
    },
    {
      "cell_type": "code",
      "execution_count": 15,
      "id": "59bf7991",
      "metadata": {
        "id": "59bf7991"
      },
      "outputs": [],
      "source": [
        "# add the predictions as a new column SalePrice\n",
        "results = df.test.add_column(y_pred, 'target')"
      ]
    },
    {
      "cell_type": "code",
      "execution_count": 16,
      "id": "42a2094d",
      "metadata": {
        "id": "42a2094d"
      },
      "outputs": [],
      "source": [
        "results = results[['id', 'target']]"
      ]
    },
    {
      "cell_type": "code",
      "execution_count": 17,
      "id": "a2d58974",
      "metadata": {
        "id": "a2d58974"
      },
      "outputs": [],
      "source": [
        "# the competition requires that you create a .csv file to submit\n",
        "# have not tested this, but this should work\n",
        "results.to_csv('heart_disease_results.csv', index=False, header=True)"
      ]
    },
    {
      "cell_type": "code",
      "execution_count": 18,
      "id": "1f71867a",
      "metadata": {
        "id": "1f71867a",
        "outputId": "eeafcd4a-c2d1-468a-dd35-42e447f005ac",
        "colab": {
          "base_uri": "https://localhost:8080/",
          "height": 423
        }
      },
      "outputs": [
        {
          "output_type": "execute_result",
          "data": {
            "text/plain": [
              "      id  target\n",
              "45    49     0.0\n",
              "46    36     0.0\n",
              "47   171     1.0\n",
              "48    10     1.0\n",
              "49   291     0.0\n",
              "..   ...     ...\n",
              "292  127     1.0\n",
              "293  166     1.0\n",
              "294  281     0.0\n",
              "295   76     0.0\n",
              "296  277     1.0\n",
              "\n",
              "[252 rows x 2 columns]"
            ],
            "text/html": [
              "\n",
              "  <div id=\"df-e4bfd92b-81c2-4aaa-9e43-92ff06f6e7dd\" class=\"colab-df-container\">\n",
              "    <div>\n",
              "<style scoped>\n",
              "    .dataframe tbody tr th:only-of-type {\n",
              "        vertical-align: middle;\n",
              "    }\n",
              "\n",
              "    .dataframe tbody tr th {\n",
              "        vertical-align: top;\n",
              "    }\n",
              "\n",
              "    .dataframe thead th {\n",
              "        text-align: right;\n",
              "    }\n",
              "</style>\n",
              "<table border=\"1\" class=\"dataframe\">\n",
              "  <thead>\n",
              "    <tr style=\"text-align: right;\">\n",
              "      <th></th>\n",
              "      <th>id</th>\n",
              "      <th>target</th>\n",
              "    </tr>\n",
              "  </thead>\n",
              "  <tbody>\n",
              "    <tr>\n",
              "      <th>45</th>\n",
              "      <td>49</td>\n",
              "      <td>0.0</td>\n",
              "    </tr>\n",
              "    <tr>\n",
              "      <th>46</th>\n",
              "      <td>36</td>\n",
              "      <td>0.0</td>\n",
              "    </tr>\n",
              "    <tr>\n",
              "      <th>47</th>\n",
              "      <td>171</td>\n",
              "      <td>1.0</td>\n",
              "    </tr>\n",
              "    <tr>\n",
              "      <th>48</th>\n",
              "      <td>10</td>\n",
              "      <td>1.0</td>\n",
              "    </tr>\n",
              "    <tr>\n",
              "      <th>49</th>\n",
              "      <td>291</td>\n",
              "      <td>0.0</td>\n",
              "    </tr>\n",
              "    <tr>\n",
              "      <th>...</th>\n",
              "      <td>...</td>\n",
              "      <td>...</td>\n",
              "    </tr>\n",
              "    <tr>\n",
              "      <th>292</th>\n",
              "      <td>127</td>\n",
              "      <td>1.0</td>\n",
              "    </tr>\n",
              "    <tr>\n",
              "      <th>293</th>\n",
              "      <td>166</td>\n",
              "      <td>1.0</td>\n",
              "    </tr>\n",
              "    <tr>\n",
              "      <th>294</th>\n",
              "      <td>281</td>\n",
              "      <td>0.0</td>\n",
              "    </tr>\n",
              "    <tr>\n",
              "      <th>295</th>\n",
              "      <td>76</td>\n",
              "      <td>0.0</td>\n",
              "    </tr>\n",
              "    <tr>\n",
              "      <th>296</th>\n",
              "      <td>277</td>\n",
              "      <td>1.0</td>\n",
              "    </tr>\n",
              "  </tbody>\n",
              "</table>\n",
              "<p>252 rows × 2 columns</p>\n",
              "</div>\n",
              "    <div class=\"colab-df-buttons\">\n",
              "\n",
              "  <div class=\"colab-df-container\">\n",
              "    <button class=\"colab-df-convert\" onclick=\"convertToInteractive('df-e4bfd92b-81c2-4aaa-9e43-92ff06f6e7dd')\"\n",
              "            title=\"Convert this dataframe to an interactive table.\"\n",
              "            style=\"display:none;\">\n",
              "\n",
              "  <svg xmlns=\"http://www.w3.org/2000/svg\" height=\"24px\" viewBox=\"0 -960 960 960\">\n",
              "    <path d=\"M120-120v-720h720v720H120Zm60-500h600v-160H180v160Zm220 220h160v-160H400v160Zm0 220h160v-160H400v160ZM180-400h160v-160H180v160Zm440 0h160v-160H620v160ZM180-180h160v-160H180v160Zm440 0h160v-160H620v160Z\"/>\n",
              "  </svg>\n",
              "    </button>\n",
              "\n",
              "  <style>\n",
              "    .colab-df-container {\n",
              "      display:flex;\n",
              "      gap: 12px;\n",
              "    }\n",
              "\n",
              "    .colab-df-convert {\n",
              "      background-color: #E8F0FE;\n",
              "      border: none;\n",
              "      border-radius: 50%;\n",
              "      cursor: pointer;\n",
              "      display: none;\n",
              "      fill: #1967D2;\n",
              "      height: 32px;\n",
              "      padding: 0 0 0 0;\n",
              "      width: 32px;\n",
              "    }\n",
              "\n",
              "    .colab-df-convert:hover {\n",
              "      background-color: #E2EBFA;\n",
              "      box-shadow: 0px 1px 2px rgba(60, 64, 67, 0.3), 0px 1px 3px 1px rgba(60, 64, 67, 0.15);\n",
              "      fill: #174EA6;\n",
              "    }\n",
              "\n",
              "    .colab-df-buttons div {\n",
              "      margin-bottom: 4px;\n",
              "    }\n",
              "\n",
              "    [theme=dark] .colab-df-convert {\n",
              "      background-color: #3B4455;\n",
              "      fill: #D2E3FC;\n",
              "    }\n",
              "\n",
              "    [theme=dark] .colab-df-convert:hover {\n",
              "      background-color: #434B5C;\n",
              "      box-shadow: 0px 1px 3px 1px rgba(0, 0, 0, 0.15);\n",
              "      filter: drop-shadow(0px 1px 2px rgba(0, 0, 0, 0.3));\n",
              "      fill: #FFFFFF;\n",
              "    }\n",
              "  </style>\n",
              "\n",
              "    <script>\n",
              "      const buttonEl =\n",
              "        document.querySelector('#df-e4bfd92b-81c2-4aaa-9e43-92ff06f6e7dd button.colab-df-convert');\n",
              "      buttonEl.style.display =\n",
              "        google.colab.kernel.accessAllowed ? 'block' : 'none';\n",
              "\n",
              "      async function convertToInteractive(key) {\n",
              "        const element = document.querySelector('#df-e4bfd92b-81c2-4aaa-9e43-92ff06f6e7dd');\n",
              "        const dataTable =\n",
              "          await google.colab.kernel.invokeFunction('convertToInteractive',\n",
              "                                                    [key], {});\n",
              "        if (!dataTable) return;\n",
              "\n",
              "        const docLinkHtml = 'Like what you see? Visit the ' +\n",
              "          '<a target=\"_blank\" href=https://colab.research.google.com/notebooks/data_table.ipynb>data table notebook</a>'\n",
              "          + ' to learn more about interactive tables.';\n",
              "        element.innerHTML = '';\n",
              "        dataTable['output_type'] = 'display_data';\n",
              "        await google.colab.output.renderOutput(dataTable, element);\n",
              "        const docLink = document.createElement('div');\n",
              "        docLink.innerHTML = docLinkHtml;\n",
              "        element.appendChild(docLink);\n",
              "      }\n",
              "    </script>\n",
              "  </div>\n",
              "\n",
              "\n",
              "<div id=\"df-a3c7f772-8749-499c-be3a-f1597ca1b979\">\n",
              "  <button class=\"colab-df-quickchart\" onclick=\"quickchart('df-a3c7f772-8749-499c-be3a-f1597ca1b979')\"\n",
              "            title=\"Suggest charts.\"\n",
              "            style=\"display:none;\">\n",
              "\n",
              "<svg xmlns=\"http://www.w3.org/2000/svg\" height=\"24px\"viewBox=\"0 0 24 24\"\n",
              "     width=\"24px\">\n",
              "    <g>\n",
              "        <path d=\"M19 3H5c-1.1 0-2 .9-2 2v14c0 1.1.9 2 2 2h14c1.1 0 2-.9 2-2V5c0-1.1-.9-2-2-2zM9 17H7v-7h2v7zm4 0h-2V7h2v10zm4 0h-2v-4h2v4z\"/>\n",
              "    </g>\n",
              "</svg>\n",
              "  </button>\n",
              "\n",
              "<style>\n",
              "  .colab-df-quickchart {\n",
              "      --bg-color: #E8F0FE;\n",
              "      --fill-color: #1967D2;\n",
              "      --hover-bg-color: #E2EBFA;\n",
              "      --hover-fill-color: #174EA6;\n",
              "      --disabled-fill-color: #AAA;\n",
              "      --disabled-bg-color: #DDD;\n",
              "  }\n",
              "\n",
              "  [theme=dark] .colab-df-quickchart {\n",
              "      --bg-color: #3B4455;\n",
              "      --fill-color: #D2E3FC;\n",
              "      --hover-bg-color: #434B5C;\n",
              "      --hover-fill-color: #FFFFFF;\n",
              "      --disabled-bg-color: #3B4455;\n",
              "      --disabled-fill-color: #666;\n",
              "  }\n",
              "\n",
              "  .colab-df-quickchart {\n",
              "    background-color: var(--bg-color);\n",
              "    border: none;\n",
              "    border-radius: 50%;\n",
              "    cursor: pointer;\n",
              "    display: none;\n",
              "    fill: var(--fill-color);\n",
              "    height: 32px;\n",
              "    padding: 0;\n",
              "    width: 32px;\n",
              "  }\n",
              "\n",
              "  .colab-df-quickchart:hover {\n",
              "    background-color: var(--hover-bg-color);\n",
              "    box-shadow: 0 1px 2px rgba(60, 64, 67, 0.3), 0 1px 3px 1px rgba(60, 64, 67, 0.15);\n",
              "    fill: var(--button-hover-fill-color);\n",
              "  }\n",
              "\n",
              "  .colab-df-quickchart-complete:disabled,\n",
              "  .colab-df-quickchart-complete:disabled:hover {\n",
              "    background-color: var(--disabled-bg-color);\n",
              "    fill: var(--disabled-fill-color);\n",
              "    box-shadow: none;\n",
              "  }\n",
              "\n",
              "  .colab-df-spinner {\n",
              "    border: 2px solid var(--fill-color);\n",
              "    border-color: transparent;\n",
              "    border-bottom-color: var(--fill-color);\n",
              "    animation:\n",
              "      spin 1s steps(1) infinite;\n",
              "  }\n",
              "\n",
              "  @keyframes spin {\n",
              "    0% {\n",
              "      border-color: transparent;\n",
              "      border-bottom-color: var(--fill-color);\n",
              "      border-left-color: var(--fill-color);\n",
              "    }\n",
              "    20% {\n",
              "      border-color: transparent;\n",
              "      border-left-color: var(--fill-color);\n",
              "      border-top-color: var(--fill-color);\n",
              "    }\n",
              "    30% {\n",
              "      border-color: transparent;\n",
              "      border-left-color: var(--fill-color);\n",
              "      border-top-color: var(--fill-color);\n",
              "      border-right-color: var(--fill-color);\n",
              "    }\n",
              "    40% {\n",
              "      border-color: transparent;\n",
              "      border-right-color: var(--fill-color);\n",
              "      border-top-color: var(--fill-color);\n",
              "    }\n",
              "    60% {\n",
              "      border-color: transparent;\n",
              "      border-right-color: var(--fill-color);\n",
              "    }\n",
              "    80% {\n",
              "      border-color: transparent;\n",
              "      border-right-color: var(--fill-color);\n",
              "      border-bottom-color: var(--fill-color);\n",
              "    }\n",
              "    90% {\n",
              "      border-color: transparent;\n",
              "      border-bottom-color: var(--fill-color);\n",
              "    }\n",
              "  }\n",
              "</style>\n",
              "\n",
              "  <script>\n",
              "    async function quickchart(key) {\n",
              "      const quickchartButtonEl =\n",
              "        document.querySelector('#' + key + ' button');\n",
              "      quickchartButtonEl.disabled = true;  // To prevent multiple clicks.\n",
              "      quickchartButtonEl.classList.add('colab-df-spinner');\n",
              "      try {\n",
              "        const charts = await google.colab.kernel.invokeFunction(\n",
              "            'suggestCharts', [key], {});\n",
              "      } catch (error) {\n",
              "        console.error('Error during call to suggestCharts:', error);\n",
              "      }\n",
              "      quickchartButtonEl.classList.remove('colab-df-spinner');\n",
              "      quickchartButtonEl.classList.add('colab-df-quickchart-complete');\n",
              "    }\n",
              "    (() => {\n",
              "      let quickchartButtonEl =\n",
              "        document.querySelector('#df-a3c7f772-8749-499c-be3a-f1597ca1b979 button');\n",
              "      quickchartButtonEl.style.display =\n",
              "        google.colab.kernel.accessAllowed ? 'block' : 'none';\n",
              "    })();\n",
              "  </script>\n",
              "</div>\n",
              "    </div>\n",
              "  </div>\n"
            ]
          },
          "metadata": {},
          "execution_count": 18
        }
      ],
      "source": [
        "results"
      ]
    },
    {
      "cell_type": "markdown",
      "id": "a183c58a",
      "metadata": {
        "id": "a183c58a"
      },
      "source": [
        "After running the last cell, you can find and download your .csv file in Jupyter's file list. Submit it to see what your score is on the leaderboard!!!"
      ]
    },
    {
      "cell_type": "code",
      "execution_count": null,
      "id": "01e8d072",
      "metadata": {
        "id": "01e8d072"
      },
      "outputs": [],
      "source": [
        "halt_notebook()"
      ]
    }
  ],
  "metadata": {
    "kernelspec": {
      "display_name": "python3",
      "language": "python",
      "name": "python3"
    },
    "language_info": {
      "codemirror_mode": {
        "name": "ipython",
        "version": 3
      },
      "file_extension": ".py",
      "mimetype": "text/x-python",
      "name": "python",
      "nbconvert_exporter": "python",
      "pygments_lexer": "ipython3",
      "version": "3.9.12"
    },
    "colab": {
      "provenance": [],
      "include_colab_link": true
    }
  },
  "nbformat": 4,
  "nbformat_minor": 5
}