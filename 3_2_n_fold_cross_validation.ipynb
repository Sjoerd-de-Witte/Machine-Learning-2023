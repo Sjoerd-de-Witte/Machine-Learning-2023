{
  "cells": [
    {
      "cell_type": "markdown",
      "metadata": {
        "id": "view-in-github",
        "colab_type": "text"
      },
      "source": [
        "<a href=\"https://colab.research.google.com/github/Sjoerd-de-Witte/Machine-Learning-2023/blob/main/3_2_n_fold_cross_validation.ipynb\" target=\"_parent\"><img src=\"https://colab.research.google.com/assets/colab-badge.svg\" alt=\"Open In Colab\"/></a>"
      ]
    },
    {
      "cell_type": "code",
      "source": [
        "!gdown -O /tmp/ml.py 174lBNvDBJSVWs3OpNL3a68cnhWIcWYuY\n",
        "%run /tmp/ml.py"
      ],
      "metadata": {
        "id": "6_dA2x80hPO7",
        "colab": {
          "base_uri": "https://localhost:8080/"
        },
        "outputId": "b5b9dd76-0144-4b9c-b9f4-cf1261e520c0"
      },
      "execution_count": 1,
      "outputs": [
        {
          "output_type": "stream",
          "name": "stdout",
          "text": [
            "Downloading...\n",
            "From: https://drive.google.com/uc?id=174lBNvDBJSVWs3OpNL3a68cnhWIcWYuY\n",
            "To: /tmp/ml.py\n",
            "\r  0% 0.00/1.31k [00:00<?, ?B/s]\r100% 1.31k/1.31k [00:00<00:00, 5.40MB/s]\n"
          ]
        }
      ]
    },
    {
      "cell_type": "markdown",
      "metadata": {
        "id": "I8Pt1KwwhNAK"
      },
      "source": [
        "# n-Fold Cross Validation\n",
        "\n",
        "When we have a small data set, we can use n-fold cross validation to split the dataset into n-folds, and iteratively use one fold for validation and the remaining folds for testing. The experiment is repeated n times, so n models are learned and we can take the average over the evaluation metric over these n experiments."
      ]
    },
    {
      "cell_type": "markdown",
      "metadata": {
        "id": "7tty6xHThNAZ"
      },
      "source": [
        "# Data\n",
        "\n",
        "We can use the `KFold` class in SKLearn to split the data into k-folds. KFold.split(X) gives us an iterator over the k-folds returning indices for the training and validation set."
      ]
    },
    {
      "cell_type": "code",
      "execution_count": 12,
      "metadata": {
        "id": "FFfbRiVIhNAb"
      },
      "outputs": [],
      "source": [
        "from pipetorch import DFrame\n",
        "from sklearn.linear_model import LinearRegression\n",
        "from sklearn.metrics import r2_score\n",
        "from numpy import mean\n",
        "import numpy as np"
      ]
    },
    {
      "cell_type": "markdown",
      "metadata": {
        "id": "6PWRdxOfhNAg"
      },
      "source": [
        "#### Load the boston dataset in Pandas.\n",
        "\n",
        "Note: column names in Pandas are case sensitive."
      ]
    },
    {
      "cell_type": "code",
      "execution_count": 10,
      "metadata": {
        "id": "ll-Z2N4OhNAi"
      },
      "outputs": [],
      "source": [
        "df = DFrame.read_from_kaggle('fedesoriano/the-boston-houseprice-data')\n",
        "# create X and y. Use MEDV as the target variable and LSTAT and AGE as the features.\n",
        "y = df['MEDV']\n",
        "X = df[['LSTAT', 'AGE']]"
      ]
    },
    {
      "cell_type": "markdown",
      "metadata": {
        "id": "luNphO6mhNAk"
      },
      "source": [
        "#### Complete the code to train a LinearRegression model in every pass and use the predictions to compute the R2 score. Store all the R2 scores in the List r2 and finally the average is printed. You should get an R2 score over 0.27"
      ]
    },
    {
      "cell_type": "code",
      "execution_count": 13,
      "metadata": {
        "id": "8V1uPZJ1hNAm",
        "colab": {
          "base_uri": "https://localhost:8080/"
        },
        "outputId": "2a2f2ddf-df06-4a76-c23d-a3936810ee59"
      },
      "outputs": [
        {
          "output_type": "stream",
          "name": "stdout",
          "text": [
            "Average R2 Score: 0.274434077485116\n"
          ]
        }
      ],
      "source": [
        "from sklearn.model_selection import KFold\n",
        "\n",
        "# a KFold generates train and validation splits. The split contains index numbers so we can apply\n",
        "# the same split to both X and y.\n",
        "kf = KFold(n_splits=5)\n",
        "\n",
        "r2 = []\n",
        "\n",
        "for train_ind, valid_ind in kf.split(X):\n",
        "    train_X = X.iloc[train_ind]\n",
        "    valid_X = X.iloc[valid_ind]\n",
        "    train_y = y.iloc[train_ind]\n",
        "    valid_y = y.iloc[valid_ind]\n",
        "    model = LinearRegression()\n",
        "    model.fit(train_X, train_y)\n",
        "    y_pred = model.predict(valid_X)\n",
        "    r2_score_value = r2_score(valid_y, y_pred)\n",
        "    r2.append(r2_score_value)\n",
        "\n",
        "average_r2 = np.mean(r2)\n",
        "\n",
        "print(\"Average R2 Score:\", average_r2)\n",
        "\n",
        "\n",
        "\n",
        "\n",
        "\n",
        "\n"
      ]
    },
    {
      "cell_type": "code",
      "execution_count": null,
      "metadata": {
        "id": "Ud3ct6OChNAp"
      },
      "outputs": [],
      "source": [
        "print(mean(r2))"
      ]
    },
    {
      "cell_type": "code",
      "source": [
        "halt_notebook()"
      ],
      "metadata": {
        "id": "wu3TiglChQcQ"
      },
      "execution_count": null,
      "outputs": []
    }
  ],
  "metadata": {
    "kernelspec": {
      "display_name": "python3",
      "language": "python",
      "name": "python3"
    },
    "language_info": {
      "codemirror_mode": {
        "name": "ipython",
        "version": 3
      },
      "file_extension": ".py",
      "mimetype": "text/x-python",
      "name": "python",
      "nbconvert_exporter": "python",
      "pygments_lexer": "ipython3",
      "version": "3.9.12"
    },
    "toc": {
      "base_numbering": 1,
      "nav_menu": {},
      "number_sections": true,
      "sideBar": true,
      "skip_h1_title": true,
      "title_cell": "Table of Contents",
      "title_sidebar": "Contents",
      "toc_cell": false,
      "toc_position": {},
      "toc_section_display": true,
      "toc_window_display": false
    },
    "colab": {
      "provenance": [],
      "include_colab_link": true
    }
  },
  "nbformat": 4,
  "nbformat_minor": 0
}