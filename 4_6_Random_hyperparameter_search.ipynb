{
  "cells": [
    {
      "cell_type": "markdown",
      "metadata": {
        "id": "view-in-github",
        "colab_type": "text"
      },
      "source": [
        "<a href=\"https://colab.research.google.com/github/Sjoerd-de-Witte/Machine-Learning-2023/blob/main/4_6_Random_hyperparameter_search.ipynb\" target=\"_parent\"><img src=\"https://colab.research.google.com/assets/colab-badge.svg\" alt=\"Open In Colab\"/></a>"
      ]
    },
    {
      "cell_type": "code",
      "source": [
        "!gdown -O /tmp/ml.py 174lBNvDBJSVWs3OpNL3a68cnhWIcWYuY\n",
        "%run /tmp/ml.py"
      ],
      "metadata": {
        "id": "X3Fd4TqacbFq",
        "outputId": "f3f61428-9b9a-4cf0-93bc-3b8f4c60f0d8",
        "colab": {
          "base_uri": "https://localhost:8080/"
        }
      },
      "execution_count": 1,
      "outputs": [
        {
          "output_type": "stream",
          "name": "stdout",
          "text": [
            "Downloading...\n",
            "From: https://drive.google.com/uc?id=174lBNvDBJSVWs3OpNL3a68cnhWIcWYuY\n",
            "To: /tmp/ml.py\n",
            "\r  0% 0.00/1.31k [00:00<?, ?B/s]\r100% 1.31k/1.31k [00:00<00:00, 4.00MB/s]\n"
          ]
        }
      ]
    },
    {
      "cell_type": "markdown",
      "metadata": {
        "id": "0-0P34DXcamy"
      },
      "source": [
        "# Random Search"
      ]
    },
    {
      "cell_type": "markdown",
      "metadata": {
        "id": "NsRdwjxQcam3"
      },
      "source": [
        "In this notebook, you will attempt to tune multiple hyperparameters for a study. The difficulty is that the optimal settings for one hyperparameter maybe obscured by a suboptimal setting of other hyperparameters. Therefore, multiple hyperparameters should be jointly tuned and not one after the other.\n",
        "\n",
        "Traditionally, grid search is used to systematically try all combinations of settings for multiple hyperparameters. Since this is very inefficient, often a limited number of settings per hyperparameter are tried. In \"Random search for hyper-parameter optimization\", Bergsma et al. (2012) propose to use a Random search, which in practice is much more efficient. We will apply this technique to the Wine classification task and see how that works."
      ]
    },
    {
      "cell_type": "code",
      "execution_count": 2,
      "metadata": {
        "id": "WbAuCL-Fcam4"
      },
      "outputs": [],
      "source": [
        "from pipetorch.data import DFrame\n",
        "from sklearn.ensemble import RandomForestClassifier\n",
        "from sklearn.tree import DecisionTreeRegressor, plot_tree\n",
        "from sklearn.preprocessing import StandardScaler\n",
        "from sklearn.model_selection import train_test_split\n",
        "from sklearn.metrics import f1_score\n",
        "import matplotlib.pyplot as plt\n",
        "import numpy as np\n",
        "import optuna"
      ]
    },
    {
      "cell_type": "markdown",
      "metadata": {
        "id": "sFmz6xGkcam5"
      },
      "source": [
        "# Data\n",
        "\n",
        "We will load and prepare the Wine dataset for binary classification over all features. We will tune a RandomForest (an ensemble consisting of decision trees) and therefore scaling is not relevant."
      ]
    },
    {
      "cell_type": "code",
      "execution_count": 3,
      "metadata": {
        "id": "DJzDAeYPcam5",
        "outputId": "04040ea8-0266-48cd-ec37-01a7f92744f1",
        "colab": {
          "base_uri": "https://localhost:8080/"
        }
      },
      "outputs": [
        {
          "output_type": "stream",
          "name": "stdout",
          "text": [
            "Downloading dataset uciml/red-wine-quality-cortez-et-al-2009 from kaggle to /root/.pipetorchuser/red-wine-quality-cortez-et-al-2009\n"
          ]
        }
      ],
      "source": [
        "df = DFrame.read_from_kaggle('uciml/red-wine-quality-cortez-et-al-2009')\n",
        "df['quality'] = df.quality > 5\n",
        "df = df[['pH', 'alcohol', 'quality']]"
      ]
    },
    {
      "cell_type": "code",
      "execution_count": 4,
      "metadata": {
        "id": "1Y6oqwtWcam5"
      },
      "outputs": [],
      "source": [
        "train_X, valid_X, train_y, valid_y = train_test_split(df.drop(columns='quality'), df.quality, test_size=0.2)"
      ]
    },
    {
      "cell_type": "markdown",
      "metadata": {
        "id": "CP-H8R5Acam6"
      },
      "source": [
        "# Tune max_depth en n_estimators\n",
        "\n",
        "Use Optuna to setup a study to tune these two hyperparameters simultaneously. You will need to write a function that performs a 'trail', that instantiates a RandomForestClassifier with the suggested values for the hyperparameters, that fits the model to the training set and returns the valdation F1 Score."
      ]
    },
    {
      "cell_type": "code",
      "execution_count": 15,
      "metadata": {
        "id": "1ba24kHccam6",
        "outputId": "6667e94f-7dfe-4da2-c36d-bc02cfff7e50",
        "colab": {
          "base_uri": "https://localhost:8080/"
        }
      },
      "outputs": [
        {
          "output_type": "stream",
          "name": "stderr",
          "text": [
            "[I 2023-10-03 10:19:31,822] A new study created in memory with name: no-name-01e2d835-4f92-4ae1-a877-c9029a2149b1\n",
            "[I 2023-10-03 10:19:35,447] Trial 0 finished with value: 0.7551622418879056 and parameters: {'n_estimators': 873, 'max_depth': 30}. Best is trial 0 with value: 0.7551622418879056.\n",
            "[I 2023-10-03 10:19:36,060] Trial 1 finished with value: 0.7499999999999999 and parameters: {'n_estimators': 223, 'max_depth': 20}. Best is trial 1 with value: 0.7499999999999999.\n",
            "[I 2023-10-03 10:19:37,775] Trial 2 finished with value: 0.7621951219512195 and parameters: {'n_estimators': 782, 'max_depth': 6}. Best is trial 1 with value: 0.7499999999999999.\n",
            "[I 2023-10-03 10:19:38,803] Trial 3 finished with value: 0.7607361963190183 and parameters: {'n_estimators': 449, 'max_depth': 6}. Best is trial 1 with value: 0.7499999999999999.\n",
            "[I 2023-10-03 10:19:42,991] Trial 4 finished with value: 0.7559523809523808 and parameters: {'n_estimators': 985, 'max_depth': 22}. Best is trial 1 with value: 0.7499999999999999.\n",
            "[I 2023-10-03 10:19:43,345] Trial 5 finished with value: 0.7592592592592592 and parameters: {'n_estimators': 87, 'max_depth': 11}. Best is trial 1 with value: 0.7499999999999999.\n",
            "[I 2023-10-03 10:19:48,988] Trial 6 finished with value: 0.7514792899408285 and parameters: {'n_estimators': 561, 'max_depth': 28}. Best is trial 1 with value: 0.7499999999999999.\n",
            "[I 2023-10-03 10:19:50,366] Trial 7 finished with value: 0.7522388059701494 and parameters: {'n_estimators': 271, 'max_depth': 23}. Best is trial 1 with value: 0.7499999999999999.\n",
            "[I 2023-10-03 10:19:54,345] Trial 8 finished with value: 0.744047619047619 and parameters: {'n_estimators': 924, 'max_depth': 19}. Best is trial 8 with value: 0.744047619047619.\n",
            "[I 2023-10-03 10:19:55,192] Trial 9 finished with value: 0.7529411764705883 and parameters: {'n_estimators': 195, 'max_depth': 24}. Best is trial 8 with value: 0.744047619047619.\n"
          ]
        },
        {
          "output_type": "stream",
          "name": "stdout",
          "text": [
            "Best Hyperparameters: {'n_estimators': 924, 'max_depth': 19}\n",
            "Best F1 Score: 0.744047619047619\n"
          ]
        }
      ],
      "source": [
        "# complete the trial function, to sample n_estimators and max_depth from\n",
        "# Optuna's trial object and run evaluate_settings to train a model and\n",
        "# return the F1 score\n",
        "def evaluate_settings(n_estimators, max_depth, train_X, train_y, valid_X, valid_y):\n",
        "    model = RandomForestClassifier(max_depth=max_depth, n_estimators=n_estimators)\n",
        "    model.fit(train_X, train_y)\n",
        "    y_pred = model.predict(valid_X)\n",
        "    f1 = f1_score(valid_y, y_pred)\n",
        "    return f1\n",
        "\n",
        "# Define the Optuna trial function\n",
        "def objective(trial):\n",
        "    n_estimators = trial.suggest_int(\"n_estimators\", 10, 1000)\n",
        "    max_depth = trial.suggest_int(\"max_depth\", 1, 32)\n",
        "\n",
        "    f1_score = evaluate_settings(n_estimators, max_depth, train_X, train_y, valid_X, valid_y)\n",
        "\n",
        "    return f1_score\n",
        "\n",
        "study = optuna.create_study()\n",
        "study.optimize(objective, n_trials=10)\n",
        "\n",
        "\n",
        "best_params = study.best_params\n",
        "best_f1_score = study.best_value\n",
        "\n",
        "print(\"Best Hyperparameters:\", best_params)\n",
        "print(\"Best F1 Score:\", best_f1_score)"
      ]
    },
    {
      "cell_type": "markdown",
      "metadata": {
        "id": "zDFNs3A6cam7"
      },
      "source": [
        "# Tune max_depth, n_estimators and min_samples_leaf\n",
        "\n",
        "Use Optuna to setup a study to tune these three hyperparameters simultaneously."
      ]
    },
    {
      "cell_type": "code",
      "execution_count": 18,
      "metadata": {
        "id": "aLFyRdm_cam7",
        "outputId": "f4e924f0-a7b4-42f7-95eb-71c88a1a237d",
        "colab": {
          "base_uri": "https://localhost:8080/"
        }
      },
      "outputs": [
        {
          "output_type": "stream",
          "name": "stderr",
          "text": [
            "[I 2023-10-03 10:22:39,739] A new study created in memory with name: no-name-23f6ddf2-d81d-46e9-a753-913060a1c021\n",
            "[I 2023-10-03 10:22:43,273] Trial 0 finished with value: 0.7311178247734139 and parameters: {'n_estimators': 699, 'max_depth': 13, 'min_samples_leaf': 2}. Best is trial 0 with value: 0.7311178247734139.\n",
            "[I 2023-10-03 10:22:43,967] Trial 1 finished with value: 0.7125748502994012 and parameters: {'n_estimators': 301, 'max_depth': 30, 'min_samples_leaf': 2}. Best is trial 1 with value: 0.7125748502994012.\n",
            "[I 2023-10-03 10:22:45,115] Trial 2 finished with value: 0.7261538461538461 and parameters: {'n_estimators': 515, 'max_depth': 12, 'min_samples_leaf': 2}. Best is trial 1 with value: 0.7125748502994012.\n",
            "[I 2023-10-03 10:22:45,852] Trial 3 finished with value: 0.7425149700598803 and parameters: {'n_estimators': 331, 'max_depth': 28, 'min_samples_leaf': 3}. Best is trial 1 with value: 0.7125748502994012.\n",
            "[I 2023-10-03 10:22:47,275] Trial 4 finished with value: 0.7559523809523808 and parameters: {'n_estimators': 856, 'max_depth': 1, 'min_samples_leaf': 1}. Best is trial 1 with value: 0.7125748502994012.\n",
            "[I 2023-10-03 10:22:49,010] Trial 5 finished with value: 0.7592592592592592 and parameters: {'n_estimators': 801, 'max_depth': 12, 'min_samples_leaf': 4}. Best is trial 1 with value: 0.7125748502994012.\n",
            "[I 2023-10-03 10:22:51,053] Trial 6 finished with value: 0.7469135802469137 and parameters: {'n_estimators': 698, 'max_depth': 9, 'min_samples_leaf': 2}. Best is trial 1 with value: 0.7125748502994012.\n",
            "[I 2023-10-03 10:22:54,587] Trial 7 finished with value: 0.7315634218289085 and parameters: {'n_estimators': 916, 'max_depth': 16, 'min_samples_leaf': 2}. Best is trial 1 with value: 0.7125748502994012.\n",
            "[I 2023-10-03 10:22:56,330] Trial 8 finished with value: 0.7551622418879056 and parameters: {'n_estimators': 936, 'max_depth': 4, 'min_samples_leaf': 3}. Best is trial 1 with value: 0.7125748502994012.\n",
            "[I 2023-10-03 10:22:57,219] Trial 9 finished with value: 0.7573964497041421 and parameters: {'n_estimators': 508, 'max_depth': 3, 'min_samples_leaf': 1}. Best is trial 1 with value: 0.7125748502994012.\n"
          ]
        },
        {
          "output_type": "stream",
          "name": "stdout",
          "text": [
            "Best Hyperparameters: {'n_estimators': 301, 'max_depth': 30, 'min_samples_leaf': 2}\n",
            "Best F1 Score: 0.7125748502994012\n"
          ]
        }
      ],
      "source": [
        "# complete the trial function, to sample n_estimators and max_depth from\n",
        "# Optuna's trial object and run evaluate_settings to train a model and\n",
        "# return the F1 score\n",
        "def evaluate_settings(min_samples_leaf, n_estimators, max_depth, train_X, train_y, valid_X, valid_y):\n",
        "    model = RandomForestClassifier(max_depth=max_depth, n_estimators=n_estimators, min_samples_leaf=min_samples_leaf)\n",
        "    model.fit(train_X, train_y)\n",
        "    y_pred = model.predict(valid_X)\n",
        "    f1 = f1_score(valid_y, y_pred)\n",
        "    return f1\n",
        "\n",
        "# Define the Optuna trial function\n",
        "def objective(trial):\n",
        "    n_estimators = trial.suggest_int(\"n_estimators\", 10, 1000)\n",
        "    max_depth = trial.suggest_int(\"max_depth\", 1, 32)\n",
        "    min_samples_leaf = trial.suggest_int(\"min_samples_leaf\", 1, 4)\n",
        "\n",
        "    f1_score = evaluate_settings(min_samples_leaf, n_estimators, max_depth, train_X, train_y, valid_X, valid_y)\n",
        "\n",
        "    return f1_score\n",
        "\n",
        "study = optuna.create_study()\n",
        "study.optimize(objective, n_trials=10)\n",
        "\n",
        "\n",
        "best_params = study.best_params\n",
        "best_f1_score = study.best_value\n",
        "\n",
        "print(\"Best Hyperparameters:\", best_params)\n",
        "print(\"Best F1 Score:\", best_f1_score)"
      ]
    },
    {
      "cell_type": "code",
      "execution_count": 19,
      "metadata": {
        "id": "jkcJ0yV8cam8",
        "outputId": "d59fdcac-9dfc-4302-9b70-5e67fa3e7412",
        "colab": {
          "base_uri": "https://localhost:8080/",
          "height": 542
        }
      },
      "outputs": [
        {
          "output_type": "display_data",
          "data": {
            "text/html": [
              "<html>\n",
              "<head><meta charset=\"utf-8\" /></head>\n",
              "<body>\n",
              "    <div>            <script src=\"https://cdnjs.cloudflare.com/ajax/libs/mathjax/2.7.5/MathJax.js?config=TeX-AMS-MML_SVG\"></script><script type=\"text/javascript\">if (window.MathJax && window.MathJax.Hub && window.MathJax.Hub.Config) {window.MathJax.Hub.Config({SVG: {font: \"STIX-Web\"}});}</script>                <script type=\"text/javascript\">window.PlotlyConfig = {MathJaxConfig: 'local'};</script>\n",
              "        <script charset=\"utf-8\" src=\"https://cdn.plot.ly/plotly-2.24.1.min.js\"></script>                <div id=\"1fe4f658-74cc-467b-8e2e-e27f643d496e\" class=\"plotly-graph-div\" style=\"height:525px; width:100%;\"></div>            <script type=\"text/javascript\">                                    window.PLOTLYENV=window.PLOTLYENV || {};                                    if (document.getElementById(\"1fe4f658-74cc-467b-8e2e-e27f643d496e\")) {                    Plotly.newPlot(                        \"1fe4f658-74cc-467b-8e2e-e27f643d496e\",                        [{\"marker\":{\"color\":[0,1,2,3,4,5,6,7,8,9],\"colorbar\":{\"title\":{\"text\":\"Trial\"},\"x\":1.0,\"xpad\":40},\"colorscale\":[[0.0,\"rgb(247,251,255)\"],[0.125,\"rgb(222,235,247)\"],[0.25,\"rgb(198,219,239)\"],[0.375,\"rgb(158,202,225)\"],[0.5,\"rgb(107,174,214)\"],[0.625,\"rgb(66,146,198)\"],[0.75,\"rgb(33,113,181)\"],[0.875,\"rgb(8,81,156)\"],[1.0,\"rgb(8,48,107)\"]],\"line\":{\"color\":\"Grey\",\"width\":0.5},\"showscale\":true},\"mode\":\"markers\",\"showlegend\":false,\"x\":[13,30,12,28,1,12,9,16,4,3],\"y\":[0.7311178247734139,0.7125748502994012,0.7261538461538461,0.7425149700598803,0.7559523809523808,0.7592592592592592,0.7469135802469137,0.7315634218289085,0.7551622418879056,0.7573964497041421],\"type\":\"scatter\",\"xaxis\":\"x\",\"yaxis\":\"y\"},{\"marker\":{\"color\":[0,1,2,3,4,5,6,7,8,9],\"colorbar\":{\"title\":{\"text\":\"Trial\"},\"x\":1.0,\"xpad\":40},\"colorscale\":[[0.0,\"rgb(247,251,255)\"],[0.125,\"rgb(222,235,247)\"],[0.25,\"rgb(198,219,239)\"],[0.375,\"rgb(158,202,225)\"],[0.5,\"rgb(107,174,214)\"],[0.625,\"rgb(66,146,198)\"],[0.75,\"rgb(33,113,181)\"],[0.875,\"rgb(8,81,156)\"],[1.0,\"rgb(8,48,107)\"]],\"line\":{\"color\":\"Grey\",\"width\":0.5},\"showscale\":false},\"mode\":\"markers\",\"showlegend\":false,\"x\":[2,2,2,3,1,4,2,2,3,1],\"y\":[0.7311178247734139,0.7125748502994012,0.7261538461538461,0.7425149700598803,0.7559523809523808,0.7592592592592592,0.7469135802469137,0.7315634218289085,0.7551622418879056,0.7573964497041421],\"type\":\"scatter\",\"xaxis\":\"x2\",\"yaxis\":\"y2\"},{\"marker\":{\"color\":[0,1,2,3,4,5,6,7,8,9],\"colorbar\":{\"title\":{\"text\":\"Trial\"},\"x\":1.0,\"xpad\":40},\"colorscale\":[[0.0,\"rgb(247,251,255)\"],[0.125,\"rgb(222,235,247)\"],[0.25,\"rgb(198,219,239)\"],[0.375,\"rgb(158,202,225)\"],[0.5,\"rgb(107,174,214)\"],[0.625,\"rgb(66,146,198)\"],[0.75,\"rgb(33,113,181)\"],[0.875,\"rgb(8,81,156)\"],[1.0,\"rgb(8,48,107)\"]],\"line\":{\"color\":\"Grey\",\"width\":0.5},\"showscale\":false},\"mode\":\"markers\",\"showlegend\":false,\"x\":[699,301,515,331,856,801,698,916,936,508],\"y\":[0.7311178247734139,0.7125748502994012,0.7261538461538461,0.7425149700598803,0.7559523809523808,0.7592592592592592,0.7469135802469137,0.7315634218289085,0.7551622418879056,0.7573964497041421],\"type\":\"scatter\",\"xaxis\":\"x3\",\"yaxis\":\"y3\"}],                        {\"template\":{\"data\":{\"histogram2dcontour\":[{\"type\":\"histogram2dcontour\",\"colorbar\":{\"outlinewidth\":0,\"ticks\":\"\"},\"colorscale\":[[0.0,\"#0d0887\"],[0.1111111111111111,\"#46039f\"],[0.2222222222222222,\"#7201a8\"],[0.3333333333333333,\"#9c179e\"],[0.4444444444444444,\"#bd3786\"],[0.5555555555555556,\"#d8576b\"],[0.6666666666666666,\"#ed7953\"],[0.7777777777777778,\"#fb9f3a\"],[0.8888888888888888,\"#fdca26\"],[1.0,\"#f0f921\"]]}],\"choropleth\":[{\"type\":\"choropleth\",\"colorbar\":{\"outlinewidth\":0,\"ticks\":\"\"}}],\"histogram2d\":[{\"type\":\"histogram2d\",\"colorbar\":{\"outlinewidth\":0,\"ticks\":\"\"},\"colorscale\":[[0.0,\"#0d0887\"],[0.1111111111111111,\"#46039f\"],[0.2222222222222222,\"#7201a8\"],[0.3333333333333333,\"#9c179e\"],[0.4444444444444444,\"#bd3786\"],[0.5555555555555556,\"#d8576b\"],[0.6666666666666666,\"#ed7953\"],[0.7777777777777778,\"#fb9f3a\"],[0.8888888888888888,\"#fdca26\"],[1.0,\"#f0f921\"]]}],\"heatmap\":[{\"type\":\"heatmap\",\"colorbar\":{\"outlinewidth\":0,\"ticks\":\"\"},\"colorscale\":[[0.0,\"#0d0887\"],[0.1111111111111111,\"#46039f\"],[0.2222222222222222,\"#7201a8\"],[0.3333333333333333,\"#9c179e\"],[0.4444444444444444,\"#bd3786\"],[0.5555555555555556,\"#d8576b\"],[0.6666666666666666,\"#ed7953\"],[0.7777777777777778,\"#fb9f3a\"],[0.8888888888888888,\"#fdca26\"],[1.0,\"#f0f921\"]]}],\"heatmapgl\":[{\"type\":\"heatmapgl\",\"colorbar\":{\"outlinewidth\":0,\"ticks\":\"\"},\"colorscale\":[[0.0,\"#0d0887\"],[0.1111111111111111,\"#46039f\"],[0.2222222222222222,\"#7201a8\"],[0.3333333333333333,\"#9c179e\"],[0.4444444444444444,\"#bd3786\"],[0.5555555555555556,\"#d8576b\"],[0.6666666666666666,\"#ed7953\"],[0.7777777777777778,\"#fb9f3a\"],[0.8888888888888888,\"#fdca26\"],[1.0,\"#f0f921\"]]}],\"contourcarpet\":[{\"type\":\"contourcarpet\",\"colorbar\":{\"outlinewidth\":0,\"ticks\":\"\"}}],\"contour\":[{\"type\":\"contour\",\"colorbar\":{\"outlinewidth\":0,\"ticks\":\"\"},\"colorscale\":[[0.0,\"#0d0887\"],[0.1111111111111111,\"#46039f\"],[0.2222222222222222,\"#7201a8\"],[0.3333333333333333,\"#9c179e\"],[0.4444444444444444,\"#bd3786\"],[0.5555555555555556,\"#d8576b\"],[0.6666666666666666,\"#ed7953\"],[0.7777777777777778,\"#fb9f3a\"],[0.8888888888888888,\"#fdca26\"],[1.0,\"#f0f921\"]]}],\"surface\":[{\"type\":\"surface\",\"colorbar\":{\"outlinewidth\":0,\"ticks\":\"\"},\"colorscale\":[[0.0,\"#0d0887\"],[0.1111111111111111,\"#46039f\"],[0.2222222222222222,\"#7201a8\"],[0.3333333333333333,\"#9c179e\"],[0.4444444444444444,\"#bd3786\"],[0.5555555555555556,\"#d8576b\"],[0.6666666666666666,\"#ed7953\"],[0.7777777777777778,\"#fb9f3a\"],[0.8888888888888888,\"#fdca26\"],[1.0,\"#f0f921\"]]}],\"mesh3d\":[{\"type\":\"mesh3d\",\"colorbar\":{\"outlinewidth\":0,\"ticks\":\"\"}}],\"scatter\":[{\"fillpattern\":{\"fillmode\":\"overlay\",\"size\":10,\"solidity\":0.2},\"type\":\"scatter\"}],\"parcoords\":[{\"type\":\"parcoords\",\"line\":{\"colorbar\":{\"outlinewidth\":0,\"ticks\":\"\"}}}],\"scatterpolargl\":[{\"type\":\"scatterpolargl\",\"marker\":{\"colorbar\":{\"outlinewidth\":0,\"ticks\":\"\"}}}],\"bar\":[{\"error_x\":{\"color\":\"#2a3f5f\"},\"error_y\":{\"color\":\"#2a3f5f\"},\"marker\":{\"line\":{\"color\":\"#E5ECF6\",\"width\":0.5},\"pattern\":{\"fillmode\":\"overlay\",\"size\":10,\"solidity\":0.2}},\"type\":\"bar\"}],\"scattergeo\":[{\"type\":\"scattergeo\",\"marker\":{\"colorbar\":{\"outlinewidth\":0,\"ticks\":\"\"}}}],\"scatterpolar\":[{\"type\":\"scatterpolar\",\"marker\":{\"colorbar\":{\"outlinewidth\":0,\"ticks\":\"\"}}}],\"histogram\":[{\"marker\":{\"pattern\":{\"fillmode\":\"overlay\",\"size\":10,\"solidity\":0.2}},\"type\":\"histogram\"}],\"scattergl\":[{\"type\":\"scattergl\",\"marker\":{\"colorbar\":{\"outlinewidth\":0,\"ticks\":\"\"}}}],\"scatter3d\":[{\"type\":\"scatter3d\",\"line\":{\"colorbar\":{\"outlinewidth\":0,\"ticks\":\"\"}},\"marker\":{\"colorbar\":{\"outlinewidth\":0,\"ticks\":\"\"}}}],\"scattermapbox\":[{\"type\":\"scattermapbox\",\"marker\":{\"colorbar\":{\"outlinewidth\":0,\"ticks\":\"\"}}}],\"scatterternary\":[{\"type\":\"scatterternary\",\"marker\":{\"colorbar\":{\"outlinewidth\":0,\"ticks\":\"\"}}}],\"scattercarpet\":[{\"type\":\"scattercarpet\",\"marker\":{\"colorbar\":{\"outlinewidth\":0,\"ticks\":\"\"}}}],\"carpet\":[{\"aaxis\":{\"endlinecolor\":\"#2a3f5f\",\"gridcolor\":\"white\",\"linecolor\":\"white\",\"minorgridcolor\":\"white\",\"startlinecolor\":\"#2a3f5f\"},\"baxis\":{\"endlinecolor\":\"#2a3f5f\",\"gridcolor\":\"white\",\"linecolor\":\"white\",\"minorgridcolor\":\"white\",\"startlinecolor\":\"#2a3f5f\"},\"type\":\"carpet\"}],\"table\":[{\"cells\":{\"fill\":{\"color\":\"#EBF0F8\"},\"line\":{\"color\":\"white\"}},\"header\":{\"fill\":{\"color\":\"#C8D4E3\"},\"line\":{\"color\":\"white\"}},\"type\":\"table\"}],\"barpolar\":[{\"marker\":{\"line\":{\"color\":\"#E5ECF6\",\"width\":0.5},\"pattern\":{\"fillmode\":\"overlay\",\"size\":10,\"solidity\":0.2}},\"type\":\"barpolar\"}],\"pie\":[{\"automargin\":true,\"type\":\"pie\"}]},\"layout\":{\"autotypenumbers\":\"strict\",\"colorway\":[\"#636efa\",\"#EF553B\",\"#00cc96\",\"#ab63fa\",\"#FFA15A\",\"#19d3f3\",\"#FF6692\",\"#B6E880\",\"#FF97FF\",\"#FECB52\"],\"font\":{\"color\":\"#2a3f5f\"},\"hovermode\":\"closest\",\"hoverlabel\":{\"align\":\"left\"},\"paper_bgcolor\":\"white\",\"plot_bgcolor\":\"#E5ECF6\",\"polar\":{\"bgcolor\":\"#E5ECF6\",\"angularaxis\":{\"gridcolor\":\"white\",\"linecolor\":\"white\",\"ticks\":\"\"},\"radialaxis\":{\"gridcolor\":\"white\",\"linecolor\":\"white\",\"ticks\":\"\"}},\"ternary\":{\"bgcolor\":\"#E5ECF6\",\"aaxis\":{\"gridcolor\":\"white\",\"linecolor\":\"white\",\"ticks\":\"\"},\"baxis\":{\"gridcolor\":\"white\",\"linecolor\":\"white\",\"ticks\":\"\"},\"caxis\":{\"gridcolor\":\"white\",\"linecolor\":\"white\",\"ticks\":\"\"}},\"coloraxis\":{\"colorbar\":{\"outlinewidth\":0,\"ticks\":\"\"}},\"colorscale\":{\"sequential\":[[0.0,\"#0d0887\"],[0.1111111111111111,\"#46039f\"],[0.2222222222222222,\"#7201a8\"],[0.3333333333333333,\"#9c179e\"],[0.4444444444444444,\"#bd3786\"],[0.5555555555555556,\"#d8576b\"],[0.6666666666666666,\"#ed7953\"],[0.7777777777777778,\"#fb9f3a\"],[0.8888888888888888,\"#fdca26\"],[1.0,\"#f0f921\"]],\"sequentialminus\":[[0.0,\"#0d0887\"],[0.1111111111111111,\"#46039f\"],[0.2222222222222222,\"#7201a8\"],[0.3333333333333333,\"#9c179e\"],[0.4444444444444444,\"#bd3786\"],[0.5555555555555556,\"#d8576b\"],[0.6666666666666666,\"#ed7953\"],[0.7777777777777778,\"#fb9f3a\"],[0.8888888888888888,\"#fdca26\"],[1.0,\"#f0f921\"]],\"diverging\":[[0,\"#8e0152\"],[0.1,\"#c51b7d\"],[0.2,\"#de77ae\"],[0.3,\"#f1b6da\"],[0.4,\"#fde0ef\"],[0.5,\"#f7f7f7\"],[0.6,\"#e6f5d0\"],[0.7,\"#b8e186\"],[0.8,\"#7fbc41\"],[0.9,\"#4d9221\"],[1,\"#276419\"]]},\"xaxis\":{\"gridcolor\":\"white\",\"linecolor\":\"white\",\"ticks\":\"\",\"title\":{\"standoff\":15},\"zerolinecolor\":\"white\",\"automargin\":true,\"zerolinewidth\":2},\"yaxis\":{\"gridcolor\":\"white\",\"linecolor\":\"white\",\"ticks\":\"\",\"title\":{\"standoff\":15},\"zerolinecolor\":\"white\",\"automargin\":true,\"zerolinewidth\":2},\"scene\":{\"xaxis\":{\"backgroundcolor\":\"#E5ECF6\",\"gridcolor\":\"white\",\"linecolor\":\"white\",\"showbackground\":true,\"ticks\":\"\",\"zerolinecolor\":\"white\",\"gridwidth\":2},\"yaxis\":{\"backgroundcolor\":\"#E5ECF6\",\"gridcolor\":\"white\",\"linecolor\":\"white\",\"showbackground\":true,\"ticks\":\"\",\"zerolinecolor\":\"white\",\"gridwidth\":2},\"zaxis\":{\"backgroundcolor\":\"#E5ECF6\",\"gridcolor\":\"white\",\"linecolor\":\"white\",\"showbackground\":true,\"ticks\":\"\",\"zerolinecolor\":\"white\",\"gridwidth\":2}},\"shapedefaults\":{\"line\":{\"color\":\"#2a3f5f\"}},\"annotationdefaults\":{\"arrowcolor\":\"#2a3f5f\",\"arrowhead\":0,\"arrowwidth\":1},\"geo\":{\"bgcolor\":\"white\",\"landcolor\":\"#E5ECF6\",\"subunitcolor\":\"white\",\"showland\":true,\"showlakes\":true,\"lakecolor\":\"white\"},\"title\":{\"x\":0.05},\"mapbox\":{\"style\":\"light\"}}},\"xaxis\":{\"anchor\":\"y\",\"domain\":[0.0,0.2888888888888889],\"title\":{\"text\":\"max_depth\"}},\"yaxis\":{\"anchor\":\"x\",\"domain\":[0.0,1.0],\"title\":{\"text\":\"Objective Value\"}},\"xaxis2\":{\"anchor\":\"y2\",\"domain\":[0.35555555555555557,0.6444444444444445],\"title\":{\"text\":\"min_samples_leaf\"}},\"yaxis2\":{\"anchor\":\"x2\",\"domain\":[0.0,1.0],\"matches\":\"y\",\"showticklabels\":false},\"xaxis3\":{\"anchor\":\"y3\",\"domain\":[0.7111111111111111,1.0],\"title\":{\"text\":\"n_estimators\"}},\"yaxis3\":{\"anchor\":\"x3\",\"domain\":[0.0,1.0],\"matches\":\"y\",\"showticklabels\":false},\"title\":{\"text\":\"Slice Plot\"}},                        {\"responsive\": true}                    ).then(function(){\n",
              "                            \n",
              "var gd = document.getElementById('1fe4f658-74cc-467b-8e2e-e27f643d496e');\n",
              "var x = new MutationObserver(function (mutations, observer) {{\n",
              "        var display = window.getComputedStyle(gd).display;\n",
              "        if (!display || display === 'none') {{\n",
              "            console.log([gd, 'removed!']);\n",
              "            Plotly.purge(gd);\n",
              "            observer.disconnect();\n",
              "        }}\n",
              "}});\n",
              "\n",
              "// Listen for the removal of the full notebook cells\n",
              "var notebookContainer = gd.closest('#notebook-container');\n",
              "if (notebookContainer) {{\n",
              "    x.observe(notebookContainer, {childList: true});\n",
              "}}\n",
              "\n",
              "// Listen for the clearing of the current output cell\n",
              "var outputEl = gd.closest('.output');\n",
              "if (outputEl) {{\n",
              "    x.observe(outputEl, {childList: true});\n",
              "}}\n",
              "\n",
              "                        })                };                            </script>        </div>\n",
              "</body>\n",
              "</html>"
            ]
          },
          "metadata": {}
        }
      ],
      "source": [
        "optuna.visualization.plot_slice(study)"
      ]
    },
    {
      "cell_type": "code",
      "execution_count": null,
      "metadata": {
        "id": "Syx3i71Mcam8"
      },
      "outputs": [],
      "source": [
        "halt_notebook()"
      ]
    }
  ],
  "metadata": {
    "kernelspec": {
      "display_name": "python3",
      "language": "python",
      "name": "python3"
    },
    "language_info": {
      "codemirror_mode": {
        "name": "ipython",
        "version": 3
      },
      "file_extension": ".py",
      "mimetype": "text/x-python",
      "name": "python",
      "nbconvert_exporter": "python",
      "pygments_lexer": "ipython3",
      "version": "3.9.12"
    },
    "toc": {
      "base_numbering": 1,
      "nav_menu": {},
      "number_sections": true,
      "sideBar": true,
      "skip_h1_title": true,
      "title_cell": "Table of Contents",
      "title_sidebar": "Contents",
      "toc_cell": false,
      "toc_position": {},
      "toc_section_display": true,
      "toc_window_display": false
    },
    "varInspector": {
      "cols": {
        "lenName": 16,
        "lenType": 16,
        "lenVar": 40
      },
      "kernels_config": {
        "python": {
          "delete_cmd_postfix": "",
          "delete_cmd_prefix": "del ",
          "library": "var_list.py",
          "varRefreshCmd": "print(var_dic_list())"
        },
        "r": {
          "delete_cmd_postfix": ") ",
          "delete_cmd_prefix": "rm(",
          "library": "var_list.r",
          "varRefreshCmd": "cat(var_dic_list()) "
        }
      },
      "types_to_exclude": [
        "module",
        "function",
        "builtin_function_or_method",
        "instance",
        "_Feature"
      ],
      "window_display": false
    },
    "colab": {
      "provenance": [],
      "include_colab_link": true
    }
  },
  "nbformat": 4,
  "nbformat_minor": 0
}