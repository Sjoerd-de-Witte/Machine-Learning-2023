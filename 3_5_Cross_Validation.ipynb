{
  "cells": [
    {
      "cell_type": "markdown",
      "metadata": {
        "id": "view-in-github",
        "colab_type": "text"
      },
      "source": [
        "<a href=\"https://colab.research.google.com/github/Sjoerd-de-Witte/Machine-Learning-2023/blob/main/3_5_Cross_Validation.ipynb\" target=\"_parent\"><img src=\"https://colab.research.google.com/assets/colab-badge.svg\" alt=\"Open In Colab\"/></a>"
      ]
    },
    {
      "cell_type": "code",
      "source": [
        "!gdown -O /tmp/ml.py 174lBNvDBJSVWs3OpNL3a68cnhWIcWYuY\n",
        "%run /tmp/ml.py"
      ],
      "metadata": {
        "id": "iDrLXKnUheMD",
        "outputId": "18951223-bde3-4d7e-cb9f-17abf478d9bb",
        "colab": {
          "base_uri": "https://localhost:8080/"
        }
      },
      "execution_count": 1,
      "outputs": [
        {
          "output_type": "stream",
          "name": "stdout",
          "text": [
            "Downloading...\n",
            "From: https://drive.google.com/uc?id=174lBNvDBJSVWs3OpNL3a68cnhWIcWYuY\n",
            "To: /tmp/ml.py\n",
            "\r  0% 0.00/1.31k [00:00<?, ?B/s]\r100% 1.31k/1.31k [00:00<00:00, 5.76MB/s]\n"
          ]
        }
      ]
    },
    {
      "cell_type": "markdown",
      "metadata": {
        "id": "Oa6thkE1hdcu"
      },
      "source": [
        "# Cross Validation\n",
        "\n",
        "We will start by loading the Wine data set for classification."
      ]
    },
    {
      "cell_type": "code",
      "execution_count": 2,
      "metadata": {
        "id": "zLQFs9eshdc8"
      },
      "outputs": [],
      "source": [
        "from pipetorch import DFrame\n",
        "from sklearn.model_selection import train_test_split\n",
        "from sklearn.tree import DecisionTreeClassifier\n",
        "from sklearn.metrics import accuracy_score\n",
        "from pipetorch.evaluate.study import Study"
      ]
    },
    {
      "cell_type": "code",
      "execution_count": 3,
      "metadata": {
        "id": "3IEZDqq1hddB",
        "outputId": "ec3e3d3a-2a4f-40b4-9fb0-adfcb065a3a0",
        "colab": {
          "base_uri": "https://localhost:8080/"
        }
      },
      "outputs": [
        {
          "output_type": "stream",
          "name": "stdout",
          "text": [
            "Downloading dataset uciml/red-wine-quality-cortez-et-al-2009 from kaggle to /root/.pipetorchuser/red-wine-quality-cortez-et-al-2009\n"
          ]
        }
      ],
      "source": [
        "df = DFrame.read_from_kaggle('uciml/red-wine-quality-cortez-et-al-2009')\n",
        "df.quality = df.quality > 5"
      ]
    },
    {
      "cell_type": "markdown",
      "source": [],
      "metadata": {
        "id": "VucfRtDb_oE2"
      }
    },
    {
      "cell_type": "code",
      "execution_count": 4,
      "metadata": {
        "id": "vf02Hq5dhddD",
        "outputId": "419f5e2c-2837-41db-cedb-5e489a0058c7",
        "colab": {
          "base_uri": "https://localhost:8080/",
          "height": 261
        }
      },
      "outputs": [
        {
          "output_type": "execute_result",
          "data": {
            "text/plain": [
              "   fixed acidity  volatile acidity  citric acid  residual sugar  chlorides  \\\n",
              "0            7.4              0.70         0.00             1.9      0.076   \n",
              "1            7.8              0.88         0.00             2.6      0.098   \n",
              "2            7.8              0.76         0.04             2.3      0.092   \n",
              "3           11.2              0.28         0.56             1.9      0.075   \n",
              "4            7.4              0.70         0.00             1.9      0.076   \n",
              "\n",
              "   free sulfur dioxide  total sulfur dioxide  density    pH  sulphates  \\\n",
              "0                 11.0                  34.0   0.9978  3.51       0.56   \n",
              "1                 25.0                  67.0   0.9968  3.20       0.68   \n",
              "2                 15.0                  54.0   0.9970  3.26       0.65   \n",
              "3                 17.0                  60.0   0.9980  3.16       0.58   \n",
              "4                 11.0                  34.0   0.9978  3.51       0.56   \n",
              "\n",
              "   alcohol  quality  \n",
              "0      9.4    False  \n",
              "1      9.8    False  \n",
              "2      9.8    False  \n",
              "3      9.8     True  \n",
              "4      9.4    False  "
            ],
            "text/html": [
              "\n",
              "  <div id=\"df-db6ed334-b66f-4cc8-890b-67c71c735622\" class=\"colab-df-container\">\n",
              "    <div>\n",
              "<style scoped>\n",
              "    .dataframe tbody tr th:only-of-type {\n",
              "        vertical-align: middle;\n",
              "    }\n",
              "\n",
              "    .dataframe tbody tr th {\n",
              "        vertical-align: top;\n",
              "    }\n",
              "\n",
              "    .dataframe thead th {\n",
              "        text-align: right;\n",
              "    }\n",
              "</style>\n",
              "<table border=\"1\" class=\"dataframe\">\n",
              "  <thead>\n",
              "    <tr style=\"text-align: right;\">\n",
              "      <th></th>\n",
              "      <th>fixed acidity</th>\n",
              "      <th>volatile acidity</th>\n",
              "      <th>citric acid</th>\n",
              "      <th>residual sugar</th>\n",
              "      <th>chlorides</th>\n",
              "      <th>free sulfur dioxide</th>\n",
              "      <th>total sulfur dioxide</th>\n",
              "      <th>density</th>\n",
              "      <th>pH</th>\n",
              "      <th>sulphates</th>\n",
              "      <th>alcohol</th>\n",
              "      <th>quality</th>\n",
              "    </tr>\n",
              "  </thead>\n",
              "  <tbody>\n",
              "    <tr>\n",
              "      <th>0</th>\n",
              "      <td>7.4</td>\n",
              "      <td>0.70</td>\n",
              "      <td>0.00</td>\n",
              "      <td>1.9</td>\n",
              "      <td>0.076</td>\n",
              "      <td>11.0</td>\n",
              "      <td>34.0</td>\n",
              "      <td>0.9978</td>\n",
              "      <td>3.51</td>\n",
              "      <td>0.56</td>\n",
              "      <td>9.4</td>\n",
              "      <td>False</td>\n",
              "    </tr>\n",
              "    <tr>\n",
              "      <th>1</th>\n",
              "      <td>7.8</td>\n",
              "      <td>0.88</td>\n",
              "      <td>0.00</td>\n",
              "      <td>2.6</td>\n",
              "      <td>0.098</td>\n",
              "      <td>25.0</td>\n",
              "      <td>67.0</td>\n",
              "      <td>0.9968</td>\n",
              "      <td>3.20</td>\n",
              "      <td>0.68</td>\n",
              "      <td>9.8</td>\n",
              "      <td>False</td>\n",
              "    </tr>\n",
              "    <tr>\n",
              "      <th>2</th>\n",
              "      <td>7.8</td>\n",
              "      <td>0.76</td>\n",
              "      <td>0.04</td>\n",
              "      <td>2.3</td>\n",
              "      <td>0.092</td>\n",
              "      <td>15.0</td>\n",
              "      <td>54.0</td>\n",
              "      <td>0.9970</td>\n",
              "      <td>3.26</td>\n",
              "      <td>0.65</td>\n",
              "      <td>9.8</td>\n",
              "      <td>False</td>\n",
              "    </tr>\n",
              "    <tr>\n",
              "      <th>3</th>\n",
              "      <td>11.2</td>\n",
              "      <td>0.28</td>\n",
              "      <td>0.56</td>\n",
              "      <td>1.9</td>\n",
              "      <td>0.075</td>\n",
              "      <td>17.0</td>\n",
              "      <td>60.0</td>\n",
              "      <td>0.9980</td>\n",
              "      <td>3.16</td>\n",
              "      <td>0.58</td>\n",
              "      <td>9.8</td>\n",
              "      <td>True</td>\n",
              "    </tr>\n",
              "    <tr>\n",
              "      <th>4</th>\n",
              "      <td>7.4</td>\n",
              "      <td>0.70</td>\n",
              "      <td>0.00</td>\n",
              "      <td>1.9</td>\n",
              "      <td>0.076</td>\n",
              "      <td>11.0</td>\n",
              "      <td>34.0</td>\n",
              "      <td>0.9978</td>\n",
              "      <td>3.51</td>\n",
              "      <td>0.56</td>\n",
              "      <td>9.4</td>\n",
              "      <td>False</td>\n",
              "    </tr>\n",
              "  </tbody>\n",
              "</table>\n",
              "</div>\n",
              "    <div class=\"colab-df-buttons\">\n",
              "\n",
              "  <div class=\"colab-df-container\">\n",
              "    <button class=\"colab-df-convert\" onclick=\"convertToInteractive('df-db6ed334-b66f-4cc8-890b-67c71c735622')\"\n",
              "            title=\"Convert this dataframe to an interactive table.\"\n",
              "            style=\"display:none;\">\n",
              "\n",
              "  <svg xmlns=\"http://www.w3.org/2000/svg\" height=\"24px\" viewBox=\"0 -960 960 960\">\n",
              "    <path d=\"M120-120v-720h720v720H120Zm60-500h600v-160H180v160Zm220 220h160v-160H400v160Zm0 220h160v-160H400v160ZM180-400h160v-160H180v160Zm440 0h160v-160H620v160ZM180-180h160v-160H180v160Zm440 0h160v-160H620v160Z\"/>\n",
              "  </svg>\n",
              "    </button>\n",
              "\n",
              "  <style>\n",
              "    .colab-df-container {\n",
              "      display:flex;\n",
              "      gap: 12px;\n",
              "    }\n",
              "\n",
              "    .colab-df-convert {\n",
              "      background-color: #E8F0FE;\n",
              "      border: none;\n",
              "      border-radius: 50%;\n",
              "      cursor: pointer;\n",
              "      display: none;\n",
              "      fill: #1967D2;\n",
              "      height: 32px;\n",
              "      padding: 0 0 0 0;\n",
              "      width: 32px;\n",
              "    }\n",
              "\n",
              "    .colab-df-convert:hover {\n",
              "      background-color: #E2EBFA;\n",
              "      box-shadow: 0px 1px 2px rgba(60, 64, 67, 0.3), 0px 1px 3px 1px rgba(60, 64, 67, 0.15);\n",
              "      fill: #174EA6;\n",
              "    }\n",
              "\n",
              "    .colab-df-buttons div {\n",
              "      margin-bottom: 4px;\n",
              "    }\n",
              "\n",
              "    [theme=dark] .colab-df-convert {\n",
              "      background-color: #3B4455;\n",
              "      fill: #D2E3FC;\n",
              "    }\n",
              "\n",
              "    [theme=dark] .colab-df-convert:hover {\n",
              "      background-color: #434B5C;\n",
              "      box-shadow: 0px 1px 3px 1px rgba(0, 0, 0, 0.15);\n",
              "      filter: drop-shadow(0px 1px 2px rgba(0, 0, 0, 0.3));\n",
              "      fill: #FFFFFF;\n",
              "    }\n",
              "  </style>\n",
              "\n",
              "    <script>\n",
              "      const buttonEl =\n",
              "        document.querySelector('#df-db6ed334-b66f-4cc8-890b-67c71c735622 button.colab-df-convert');\n",
              "      buttonEl.style.display =\n",
              "        google.colab.kernel.accessAllowed ? 'block' : 'none';\n",
              "\n",
              "      async function convertToInteractive(key) {\n",
              "        const element = document.querySelector('#df-db6ed334-b66f-4cc8-890b-67c71c735622');\n",
              "        const dataTable =\n",
              "          await google.colab.kernel.invokeFunction('convertToInteractive',\n",
              "                                                    [key], {});\n",
              "        if (!dataTable) return;\n",
              "\n",
              "        const docLinkHtml = 'Like what you see? Visit the ' +\n",
              "          '<a target=\"_blank\" href=https://colab.research.google.com/notebooks/data_table.ipynb>data table notebook</a>'\n",
              "          + ' to learn more about interactive tables.';\n",
              "        element.innerHTML = '';\n",
              "        dataTable['output_type'] = 'display_data';\n",
              "        await google.colab.output.renderOutput(dataTable, element);\n",
              "        const docLink = document.createElement('div');\n",
              "        docLink.innerHTML = docLinkHtml;\n",
              "        element.appendChild(docLink);\n",
              "      }\n",
              "    </script>\n",
              "  </div>\n",
              "\n",
              "\n",
              "<div id=\"df-ca15aed9-c6ec-4980-8753-575a0ff70dcf\">\n",
              "  <button class=\"colab-df-quickchart\" onclick=\"quickchart('df-ca15aed9-c6ec-4980-8753-575a0ff70dcf')\"\n",
              "            title=\"Suggest charts.\"\n",
              "            style=\"display:none;\">\n",
              "\n",
              "<svg xmlns=\"http://www.w3.org/2000/svg\" height=\"24px\"viewBox=\"0 0 24 24\"\n",
              "     width=\"24px\">\n",
              "    <g>\n",
              "        <path d=\"M19 3H5c-1.1 0-2 .9-2 2v14c0 1.1.9 2 2 2h14c1.1 0 2-.9 2-2V5c0-1.1-.9-2-2-2zM9 17H7v-7h2v7zm4 0h-2V7h2v10zm4 0h-2v-4h2v4z\"/>\n",
              "    </g>\n",
              "</svg>\n",
              "  </button>\n",
              "\n",
              "<style>\n",
              "  .colab-df-quickchart {\n",
              "      --bg-color: #E8F0FE;\n",
              "      --fill-color: #1967D2;\n",
              "      --hover-bg-color: #E2EBFA;\n",
              "      --hover-fill-color: #174EA6;\n",
              "      --disabled-fill-color: #AAA;\n",
              "      --disabled-bg-color: #DDD;\n",
              "  }\n",
              "\n",
              "  [theme=dark] .colab-df-quickchart {\n",
              "      --bg-color: #3B4455;\n",
              "      --fill-color: #D2E3FC;\n",
              "      --hover-bg-color: #434B5C;\n",
              "      --hover-fill-color: #FFFFFF;\n",
              "      --disabled-bg-color: #3B4455;\n",
              "      --disabled-fill-color: #666;\n",
              "  }\n",
              "\n",
              "  .colab-df-quickchart {\n",
              "    background-color: var(--bg-color);\n",
              "    border: none;\n",
              "    border-radius: 50%;\n",
              "    cursor: pointer;\n",
              "    display: none;\n",
              "    fill: var(--fill-color);\n",
              "    height: 32px;\n",
              "    padding: 0;\n",
              "    width: 32px;\n",
              "  }\n",
              "\n",
              "  .colab-df-quickchart:hover {\n",
              "    background-color: var(--hover-bg-color);\n",
              "    box-shadow: 0 1px 2px rgba(60, 64, 67, 0.3), 0 1px 3px 1px rgba(60, 64, 67, 0.15);\n",
              "    fill: var(--button-hover-fill-color);\n",
              "  }\n",
              "\n",
              "  .colab-df-quickchart-complete:disabled,\n",
              "  .colab-df-quickchart-complete:disabled:hover {\n",
              "    background-color: var(--disabled-bg-color);\n",
              "    fill: var(--disabled-fill-color);\n",
              "    box-shadow: none;\n",
              "  }\n",
              "\n",
              "  .colab-df-spinner {\n",
              "    border: 2px solid var(--fill-color);\n",
              "    border-color: transparent;\n",
              "    border-bottom-color: var(--fill-color);\n",
              "    animation:\n",
              "      spin 1s steps(1) infinite;\n",
              "  }\n",
              "\n",
              "  @keyframes spin {\n",
              "    0% {\n",
              "      border-color: transparent;\n",
              "      border-bottom-color: var(--fill-color);\n",
              "      border-left-color: var(--fill-color);\n",
              "    }\n",
              "    20% {\n",
              "      border-color: transparent;\n",
              "      border-left-color: var(--fill-color);\n",
              "      border-top-color: var(--fill-color);\n",
              "    }\n",
              "    30% {\n",
              "      border-color: transparent;\n",
              "      border-left-color: var(--fill-color);\n",
              "      border-top-color: var(--fill-color);\n",
              "      border-right-color: var(--fill-color);\n",
              "    }\n",
              "    40% {\n",
              "      border-color: transparent;\n",
              "      border-right-color: var(--fill-color);\n",
              "      border-top-color: var(--fill-color);\n",
              "    }\n",
              "    60% {\n",
              "      border-color: transparent;\n",
              "      border-right-color: var(--fill-color);\n",
              "    }\n",
              "    80% {\n",
              "      border-color: transparent;\n",
              "      border-right-color: var(--fill-color);\n",
              "      border-bottom-color: var(--fill-color);\n",
              "    }\n",
              "    90% {\n",
              "      border-color: transparent;\n",
              "      border-bottom-color: var(--fill-color);\n",
              "    }\n",
              "  }\n",
              "</style>\n",
              "\n",
              "  <script>\n",
              "    async function quickchart(key) {\n",
              "      const quickchartButtonEl =\n",
              "        document.querySelector('#' + key + ' button');\n",
              "      quickchartButtonEl.disabled = true;  // To prevent multiple clicks.\n",
              "      quickchartButtonEl.classList.add('colab-df-spinner');\n",
              "      try {\n",
              "        const charts = await google.colab.kernel.invokeFunction(\n",
              "            'suggestCharts', [key], {});\n",
              "      } catch (error) {\n",
              "        console.error('Error during call to suggestCharts:', error);\n",
              "      }\n",
              "      quickchartButtonEl.classList.remove('colab-df-spinner');\n",
              "      quickchartButtonEl.classList.add('colab-df-quickchart-complete');\n",
              "    }\n",
              "    (() => {\n",
              "      let quickchartButtonEl =\n",
              "        document.querySelector('#df-ca15aed9-c6ec-4980-8753-575a0ff70dcf button');\n",
              "      quickchartButtonEl.style.display =\n",
              "        google.colab.kernel.accessAllowed ? 'block' : 'none';\n",
              "    })();\n",
              "  </script>\n",
              "</div>\n",
              "    </div>\n",
              "  </div>\n"
            ]
          },
          "metadata": {},
          "execution_count": 4
        }
      ],
      "source": [
        "df.head()"
      ]
    },
    {
      "cell_type": "code",
      "execution_count": 6,
      "metadata": {
        "run_control": {
          "marked": false
        },
        "id": "1EObSefphddH"
      },
      "outputs": [],
      "source": [
        "# Split the dataset in a train, validation and test part using SKLearn's train_test_split method twice.\n",
        "# create train_X, valid_X, test_X, train_y, etc.\n",
        "y = df['quality']\n",
        "X = df.drop(columns=['quality'])\n",
        "X_train, X_val_test, y_train, y_val_test = train_test_split(X, y, test_size=0.3)\n",
        "X_val, X_test, y_val, y_test = train_test_split(X_val_test, y_val_test, test_size=0.5)"
      ]
    },
    {
      "cell_type": "markdown",
      "metadata": {
        "id": "wBIGfGRqhddI"
      },
      "source": [
        "###"
      ]
    },
    {
      "cell_type": "code",
      "execution_count": 7,
      "metadata": {
        "id": "DoPyVjMKhddK",
        "outputId": "acd786ce-a0c3-4015-fbdd-5e10a77dad0a",
        "colab": {
          "base_uri": "https://localhost:8080/"
        }
      },
      "outputs": [
        {
          "output_type": "execute_result",
          "data": {
            "text/plain": [
              "0.7833333333333333"
            ]
          },
          "metadata": {},
          "execution_count": 7
        }
      ],
      "source": [
        "# Learn a decision tree max_depth=4 on the training set and report the accuracy\n",
        "model = DecisionTreeClassifier(max_depth=4)\n",
        "model.fit(X_train, y_train)\n",
        "y_pred = model.predict(X_test)\n",
        "accuracy_score(y_test, y_pred)"
      ]
    },
    {
      "cell_type": "code",
      "execution_count": 8,
      "metadata": {
        "id": "rxpCI5A9hddM",
        "outputId": "23a50a04-cac3-4fcf-d89f-ee63bf35a585",
        "colab": {
          "base_uri": "https://localhost:8080/"
        }
      },
      "outputs": [
        {
          "output_type": "stream",
          "name": "stderr",
          "text": [
            "[I 2023-10-02 15:48:18,524] A new study created in memory with name: no-name-ca4c80d6-7c66-45bb-b0d2-b10985104ee7\n",
            "[I 2023-10-02 15:48:18,549] Trial 0 finished with values: [0.725, 0.7416666666666667] and parameters: {'max_depth': 6}. \n",
            "[I 2023-10-02 15:48:18,747] Trial 1 finished with values: [0.725, 0.7166666666666667] and parameters: {'max_depth': 9}. \n",
            "[I 2023-10-02 15:48:18,936] Trial 2 finished with values: [0.7208333333333333, 0.7375] and parameters: {'max_depth': 8}. \n",
            "[I 2023-10-02 15:48:19,136] Trial 3 finished with values: [0.75, 0.7375] and parameters: {'max_depth': 10}. \n",
            "[I 2023-10-02 15:48:19,327] Trial 4 finished with values: [0.6958333333333333, 0.7416666666666667] and parameters: {'max_depth': 8}. \n",
            "[I 2023-10-02 15:48:19,527] Trial 5 finished with values: [0.725, 0.7416666666666667] and parameters: {'max_depth': 5}. \n",
            "[I 2023-10-02 15:48:19,723] Trial 6 finished with values: [0.7291666666666666, 0.7291666666666666] and parameters: {'max_depth': 7}. \n",
            "[I 2023-10-02 15:48:19,909] Trial 7 finished with values: [0.7083333333333334, 0.725] and parameters: {'max_depth': 7}. \n",
            "[I 2023-10-02 15:48:20,092] Trial 8 finished with values: [0.6791666666666667, 0.725] and parameters: {'max_depth': 1}. \n",
            "[I 2023-10-02 15:48:20,282] Trial 9 finished with values: [0.7583333333333333, 0.7416666666666667] and parameters: {'max_depth': 10}. \n",
            "[I 2023-10-02 15:48:20,474] Trial 10 finished with values: [0.725, 0.7291666666666666] and parameters: {'max_depth': 3}. \n",
            "[I 2023-10-02 15:48:20,669] Trial 11 finished with values: [0.7791666666666667, 0.75] and parameters: {'max_depth': 10}. \n",
            "[I 2023-10-02 15:48:20,870] Trial 12 finished with values: [0.7583333333333333, 0.7375] and parameters: {'max_depth': 10}. \n",
            "[I 2023-10-02 15:48:21,072] Trial 13 finished with values: [0.7708333333333334, 0.7458333333333333] and parameters: {'max_depth': 10}. \n",
            "[I 2023-10-02 15:48:21,271] Trial 14 finished with values: [0.75, 0.7375] and parameters: {'max_depth': 10}. \n",
            "[I 2023-10-02 15:48:21,464] Trial 15 finished with values: [0.7041666666666667, 0.7833333333333333] and parameters: {'max_depth': 4}. \n",
            "[I 2023-10-02 15:48:21,666] Trial 16 finished with values: [0.7041666666666667, 0.7833333333333333] and parameters: {'max_depth': 4}. \n",
            "[I 2023-10-02 15:48:21,858] Trial 17 finished with values: [0.6791666666666667, 0.725] and parameters: {'max_depth': 2}. \n",
            "[I 2023-10-02 15:48:22,056] Trial 18 finished with values: [0.725, 0.7416666666666667] and parameters: {'max_depth': 5}. \n",
            "[I 2023-10-02 15:48:22,257] Trial 19 finished with values: [0.7291666666666666, 0.725] and parameters: {'max_depth': 7}. \n",
            "[I 2023-10-02 15:48:22,445] Trial 20 finished with values: [0.6791666666666667, 0.725] and parameters: {'max_depth': 1}. \n",
            "[I 2023-10-02 15:48:22,650] Trial 21 finished with values: [0.7541666666666667, 0.7333333333333333] and parameters: {'max_depth': 10}. \n",
            "[I 2023-10-02 15:48:22,849] Trial 22 finished with values: [0.7166666666666667, 0.7416666666666667] and parameters: {'max_depth': 8}. \n",
            "[I 2023-10-02 15:48:23,047] Trial 23 finished with values: [0.7541666666666667, 0.7375] and parameters: {'max_depth': 10}. \n",
            "[I 2023-10-02 15:48:23,243] Trial 24 finished with values: [0.7041666666666667, 0.7833333333333333] and parameters: {'max_depth': 4}. \n",
            "[I 2023-10-02 15:48:23,442] Trial 25 finished with values: [0.7125, 0.75] and parameters: {'max_depth': 8}. \n",
            "[I 2023-10-02 15:48:23,644] Trial 26 finished with values: [0.75, 0.7416666666666667] and parameters: {'max_depth': 10}. \n",
            "[I 2023-10-02 15:48:23,838] Trial 27 finished with values: [0.725, 0.7416666666666667] and parameters: {'max_depth': 8}. \n",
            "[I 2023-10-02 15:48:24,035] Trial 28 finished with values: [0.7666666666666667, 0.7416666666666667] and parameters: {'max_depth': 10}. \n",
            "[I 2023-10-02 15:48:24,228] Trial 29 finished with values: [0.7208333333333333, 0.7583333333333333] and parameters: {'max_depth': 6}. \n",
            "[I 2023-10-02 15:48:24,426] Trial 30 finished with values: [0.725, 0.7416666666666667] and parameters: {'max_depth': 5}. \n",
            "[I 2023-10-02 15:48:24,626] Trial 31 finished with values: [0.75, 0.7333333333333333] and parameters: {'max_depth': 10}. \n",
            "[I 2023-10-02 15:48:24,821] Trial 32 finished with values: [0.7291666666666666, 0.7208333333333333] and parameters: {'max_depth': 9}. \n",
            "[I 2023-10-02 15:48:25,015] Trial 33 finished with values: [0.7333333333333333, 0.725] and parameters: {'max_depth': 9}. \n",
            "[I 2023-10-02 15:48:25,210] Trial 34 finished with values: [0.725, 0.7291666666666666] and parameters: {'max_depth': 3}. \n",
            "[I 2023-10-02 15:48:25,404] Trial 35 finished with values: [0.7625, 0.75] and parameters: {'max_depth': 10}. \n",
            "[I 2023-10-02 15:48:25,603] Trial 36 finished with values: [0.6916666666666667, 0.7458333333333333] and parameters: {'max_depth': 8}. \n",
            "[I 2023-10-02 15:48:25,799] Trial 37 finished with values: [0.7166666666666667, 0.7416666666666667] and parameters: {'max_depth': 6}. \n",
            "[I 2023-10-02 15:48:25,997] Trial 38 finished with values: [0.7083333333333334, 0.7458333333333333] and parameters: {'max_depth': 8}. \n",
            "[I 2023-10-02 15:48:26,194] Trial 39 finished with values: [0.75, 0.7333333333333333] and parameters: {'max_depth': 10}. \n",
            "[I 2023-10-02 15:48:26,388] Trial 40 finished with values: [0.7166666666666667, 0.7416666666666667] and parameters: {'max_depth': 8}. \n",
            "[I 2023-10-02 15:48:26,582] Trial 41 finished with values: [0.7041666666666667, 0.7833333333333333] and parameters: {'max_depth': 4}. \n",
            "[I 2023-10-02 15:48:26,783] Trial 42 finished with values: [0.7625, 0.7333333333333333] and parameters: {'max_depth': 10}. \n",
            "[I 2023-10-02 15:48:26,984] Trial 43 finished with values: [0.7416666666666667, 0.7416666666666667] and parameters: {'max_depth': 10}. \n",
            "[I 2023-10-02 15:48:27,183] Trial 44 finished with values: [0.6791666666666667, 0.725] and parameters: {'max_depth': 1}. \n",
            "[I 2023-10-02 15:48:27,381] Trial 45 finished with values: [0.7541666666666667, 0.7333333333333333] and parameters: {'max_depth': 10}. \n",
            "[I 2023-10-02 15:48:27,577] Trial 46 finished with values: [0.725, 0.7291666666666666] and parameters: {'max_depth': 3}. \n",
            "[I 2023-10-02 15:48:27,780] Trial 47 finished with values: [0.7208333333333333, 0.75] and parameters: {'max_depth': 6}. \n",
            "[I 2023-10-02 15:48:27,979] Trial 48 finished with values: [0.75, 0.75] and parameters: {'max_depth': 10}. \n",
            "[I 2023-10-02 15:48:28,210] Trial 49 finished with values: [0.7458333333333333, 0.725] and parameters: {'max_depth': 9}. \n",
            "[I 2023-10-02 15:48:28,450] Trial 50 finished with values: [0.725, 0.7416666666666667] and parameters: {'max_depth': 5}. \n",
            "[I 2023-10-02 15:48:28,689] Trial 51 finished with values: [0.7041666666666667, 0.7833333333333333] and parameters: {'max_depth': 4}. \n",
            "[I 2023-10-02 15:48:28,938] Trial 52 finished with values: [0.7625, 0.7291666666666666] and parameters: {'max_depth': 10}. \n",
            "[I 2023-10-02 15:48:29,186] Trial 53 finished with values: [0.75, 0.75] and parameters: {'max_depth': 10}. \n",
            "[I 2023-10-02 15:48:29,425] Trial 54 finished with values: [0.6791666666666667, 0.725] and parameters: {'max_depth': 1}. \n",
            "[I 2023-10-02 15:48:29,685] Trial 55 finished with values: [0.7208333333333333, 0.7416666666666667] and parameters: {'max_depth': 8}. \n",
            "[I 2023-10-02 15:48:29,930] Trial 56 finished with values: [0.725, 0.7291666666666666] and parameters: {'max_depth': 3}. \n",
            "[I 2023-10-02 15:48:30,186] Trial 57 finished with values: [0.7458333333333333, 0.7416666666666667] and parameters: {'max_depth': 10}. \n",
            "[I 2023-10-02 15:48:30,442] Trial 58 finished with values: [0.7333333333333333, 0.725] and parameters: {'max_depth': 9}. \n",
            "[I 2023-10-02 15:48:30,696] Trial 59 finished with values: [0.725, 0.75] and parameters: {'max_depth': 6}. \n",
            "[I 2023-10-02 15:48:30,964] Trial 60 finished with values: [0.7416666666666667, 0.75] and parameters: {'max_depth': 10}. \n",
            "[I 2023-10-02 15:48:31,217] Trial 61 finished with values: [0.7041666666666667, 0.7833333333333333] and parameters: {'max_depth': 4}. \n",
            "[I 2023-10-02 15:48:31,478] Trial 62 finished with values: [0.7541666666666667, 0.725] and parameters: {'max_depth': 10}. \n",
            "[I 2023-10-02 15:48:31,743] Trial 63 finished with values: [0.7083333333333334, 0.7416666666666667] and parameters: {'max_depth': 8}. \n",
            "[I 2023-10-02 15:48:32,005] Trial 64 finished with values: [0.7041666666666667, 0.7833333333333333] and parameters: {'max_depth': 4}. \n",
            "[I 2023-10-02 15:48:32,271] Trial 65 finished with values: [0.7416666666666667, 0.7375] and parameters: {'max_depth': 10}. \n",
            "[I 2023-10-02 15:48:32,531] Trial 66 finished with values: [0.7375, 0.7291666666666666] and parameters: {'max_depth': 9}. \n",
            "[I 2023-10-02 15:48:32,790] Trial 67 finished with values: [0.6791666666666667, 0.725] and parameters: {'max_depth': 2}. \n",
            "[I 2023-10-02 15:48:33,035] Trial 68 finished with values: [0.725, 0.75] and parameters: {'max_depth': 6}. \n",
            "[I 2023-10-02 15:48:33,228] Trial 69 finished with values: [0.725, 0.7375] and parameters: {'max_depth': 8}. \n",
            "[I 2023-10-02 15:48:33,425] Trial 70 finished with values: [0.7583333333333333, 0.7291666666666666] and parameters: {'max_depth': 10}. \n",
            "[I 2023-10-02 15:48:33,622] Trial 71 finished with values: [0.7041666666666667, 0.7833333333333333] and parameters: {'max_depth': 4}. \n",
            "[I 2023-10-02 15:48:33,823] Trial 72 finished with values: [0.7458333333333333, 0.7291666666666666] and parameters: {'max_depth': 10}. \n",
            "[I 2023-10-02 15:48:34,036] Trial 73 finished with values: [0.7416666666666667, 0.725] and parameters: {'max_depth': 9}. \n",
            "[I 2023-10-02 15:48:34,239] Trial 74 finished with values: [0.7666666666666667, 0.7416666666666667] and parameters: {'max_depth': 10}. \n",
            "[I 2023-10-02 15:48:34,432] Trial 75 finished with values: [0.6791666666666667, 0.725] and parameters: {'max_depth': 1}. \n",
            "[I 2023-10-02 15:48:34,630] Trial 76 finished with values: [0.7041666666666667, 0.7833333333333333] and parameters: {'max_depth': 4}. \n",
            "[I 2023-10-02 15:48:34,828] Trial 77 finished with values: [0.7291666666666666, 0.7291666666666666] and parameters: {'max_depth': 7}. \n",
            "[I 2023-10-02 15:48:35,043] Trial 78 finished with values: [0.7791666666666667, 0.7375] and parameters: {'max_depth': 10}. \n",
            "[I 2023-10-02 15:48:35,244] Trial 79 finished with values: [0.7208333333333333, 0.7416666666666667] and parameters: {'max_depth': 8}. \n",
            "[I 2023-10-02 15:48:35,451] Trial 80 finished with values: [0.7625, 0.7416666666666667] and parameters: {'max_depth': 10}. \n",
            "[I 2023-10-02 15:48:35,649] Trial 81 finished with values: [0.7041666666666667, 0.7833333333333333] and parameters: {'max_depth': 4}. \n",
            "[I 2023-10-02 15:48:35,856] Trial 82 finished with values: [0.7458333333333333, 0.7125] and parameters: {'max_depth': 9}. \n",
            "[I 2023-10-02 15:48:36,071] Trial 83 finished with values: [0.75, 0.725] and parameters: {'max_depth': 10}. \n",
            "[I 2023-10-02 15:48:36,270] Trial 84 finished with values: [0.7291666666666666, 0.7458333333333333] and parameters: {'max_depth': 6}. \n",
            "[I 2023-10-02 15:48:36,470] Trial 85 finished with values: [0.75, 0.7333333333333333] and parameters: {'max_depth': 10}. \n",
            "[I 2023-10-02 15:48:36,664] Trial 86 finished with values: [0.725, 0.7291666666666666] and parameters: {'max_depth': 3}. \n",
            "[I 2023-10-02 15:48:36,863] Trial 87 finished with values: [0.7041666666666667, 0.7416666666666667] and parameters: {'max_depth': 8}. \n",
            "[I 2023-10-02 15:48:37,068] Trial 88 finished with values: [0.725, 0.7416666666666667] and parameters: {'max_depth': 5}. \n",
            "[I 2023-10-02 15:48:37,263] Trial 89 finished with values: [0.7375, 0.7375] and parameters: {'max_depth': 9}. \n",
            "[I 2023-10-02 15:48:37,466] Trial 90 finished with values: [0.75, 0.7333333333333333] and parameters: {'max_depth': 10}. \n",
            "[I 2023-10-02 15:48:37,664] Trial 91 finished with values: [0.725, 0.7291666666666666] and parameters: {'max_depth': 3}. \n",
            "[I 2023-10-02 15:48:37,861] Trial 92 finished with values: [0.6791666666666667, 0.725] and parameters: {'max_depth': 1}. \n",
            "[I 2023-10-02 15:48:38,067] Trial 93 finished with values: [0.7541666666666667, 0.7375] and parameters: {'max_depth': 10}. \n",
            "[I 2023-10-02 15:48:38,265] Trial 94 finished with values: [0.7333333333333333, 0.7166666666666667] and parameters: {'max_depth': 9}. \n",
            "[I 2023-10-02 15:48:38,459] Trial 95 finished with values: [0.725, 0.7416666666666667] and parameters: {'max_depth': 5}. \n",
            "[I 2023-10-02 15:48:38,660] Trial 96 finished with values: [0.75, 0.7333333333333333] and parameters: {'max_depth': 10}. \n",
            "[I 2023-10-02 15:48:38,863] Trial 97 finished with values: [0.7458333333333333, 0.7333333333333333] and parameters: {'max_depth': 10}. \n",
            "[I 2023-10-02 15:48:39,073] Trial 98 finished with values: [0.7166666666666667, 0.7416666666666667] and parameters: {'max_depth': 8}. \n",
            "[I 2023-10-02 15:48:39,277] Trial 99 finished with values: [0.7458333333333333, 0.7375] and parameters: {'max_depth': 10}. \n"
          ]
        }
      ],
      "source": [
        "study = Study.create_study('acc_valid', 'acc_test')\n",
        "\n",
        "# for this study with two objectives, write a trial function that returns the validatioon and test accuracy\n",
        "# and run the optimizer\n",
        "\n",
        "def objective(trial):\n",
        "    # Define the hyperparameters to search\n",
        "    max_depth = trial.suggest_int('max_depth', 1, 10)\n",
        "    model = DecisionTreeClassifier(max_depth=max_depth)\n",
        "    model.fit(X_train, y_train)\n",
        "\n",
        "    # Make predictions on the validation set\n",
        "    y_val_pred = model.predict(X_val)\n",
        "\n",
        "    # Calculate the validation accuracy\n",
        "    val_accuracy = accuracy_score(y_val, y_val_pred)\n",
        "\n",
        "    # Make predictions on the test set\n",
        "    y_test_pred = model.predict(X_test)\n",
        "\n",
        "    # Calculate the test accuracy\n",
        "    test_accuracy = accuracy_score(y_test, y_test_pred)\n",
        "\n",
        "    # Report the validation and test accuracy as objectives\n",
        "    return val_accuracy, test_accuracy\n",
        "\n",
        "# Optimize the objectives using the objective function\n",
        "study.optimize(objective, n_trials=100)  # You can adjust the number of trials as needed\n"
      ]
    },
    {
      "cell_type": "code",
      "execution_count": 12,
      "metadata": {
        "id": "f1JDimwKhddO",
        "outputId": "f52b17e5-6f8b-449a-f987-3fa6d6243d96",
        "colab": {
          "base_uri": "https://localhost:8080/",
          "height": 466
        }
      },
      "outputs": [
        {
          "output_type": "execute_result",
          "data": {
            "text/plain": [
              "<Axes: xlabel='parametersetting'>"
            ]
          },
          "metadata": {},
          "execution_count": 12
        },
        {
          "output_type": "display_data",
          "data": {
            "text/plain": [
              "<Figure size 640x480 with 1 Axes>"
            ],
            "image/png": "[encoded data removed]"
          },
          "metadata": {}
        }
      ],
      "source": [
        "# Plot the results\n",
        "# Are the validation results much different from the test results? what do you conclude?\n",
        "study.plot_targets()"
      ]
    },
    {
      "cell_type": "code",
      "execution_count": null,
      "metadata": {
        "id": "OMmEmc4FhddQ"
      },
      "outputs": [],
      "source": [
        "halt_notebook()"
      ]
    },
    {
      "cell_type": "code",
      "execution_count": null,
      "metadata": {
        "id": "nQSG2DyzhddR"
      },
      "outputs": [],
      "source": []
    }
  ],
  "metadata": {
    "kernelspec": {
      "display_name": "python3",
      "language": "python",
      "name": "python3"
    },
    "language_info": {
      "codemirror_mode": {
        "name": "ipython",
        "version": 3
      },
      "file_extension": ".py",
      "mimetype": "text/x-python",
      "name": "python",
      "nbconvert_exporter": "python",
      "pygments_lexer": "ipython3",
      "version": "3.9.12"
    },
    "toc": {
      "base_numbering": 1,
      "nav_menu": {},
      "number_sections": true,
      "sideBar": true,
      "skip_h1_title": true,
      "title_cell": "Table of Contents",
      "title_sidebar": "Contents",
      "toc_cell": false,
      "toc_position": {},
      "toc_section_display": true,
      "toc_window_display": false
    },
    "colab": {
      "provenance": [],
      "include_colab_link": true
    }
  },
  "nbformat": 4,
  "nbformat_minor": 0
}